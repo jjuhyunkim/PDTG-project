{
 "cells": [
  {
   "cell_type": "code",
   "execution_count": 15,
   "id": "8f84ffd4-c9f9-4345-b86a-cc9fc27f3874",
   "metadata": {},
   "outputs": [],
   "source": [
    "import higlass as hg\n",
    "hg.server.enable_proxy()"
   ]
  },
  {
   "cell_type": "code",
   "execution_count": 17,
   "id": "09966d89-958f-47ab-80c4-b39df5027d40",
   "metadata": {
    "scrolled": true
   },
   "outputs": [
    {
     "data": {
      "text/html": [
       "\n",
       "<!DOCTYPE html>\n",
       "<html>\n",
       "  <head>\n",
       "    <link rel=\"stylesheet\" href=\"https://esm.sh/higlass@1.12/dist/hglib.css\">\n",
       "    <script src=\"https://unpkg.com/requirejs-toggle\"></script>\n",
       "    \n",
       "    <script src=\"https://unpkg.com/requirejs-toggle\"></script>\n",
       "  </head>\n",
       "  <body>\n",
       "    <div id=\"jupyter-hg-8c8e3646bb554a8dbbfb97828a75650f\"></div>\n",
       "  </body>\n",
       "  <script type=\"module\">\n",
       "    import hglib from \"https://esm.sh/higlass@1.12?deps=react@17,react-dom@17,pixi.js@6\";\n",
       "    hglib.viewer(\n",
       "      document.getElementById('jupyter-hg-8c8e3646bb554a8dbbfb97828a75650f'),\n",
       "      {\"editable\": true, \"viewEditable\": true, \"tracksEditable\": true, \"views\": [{\"layout\": {\"x\": 0, \"y\": 0, \"w\": 6, \"h\": 4}, \"tracks\": {\"center\": [{\"tilesetUid\": \"1c8401abd9573dfeef2ef1ad9e062267\", \"server\": \"/proxy/39123/tilesets/api/v1/\", \"type\": \"heatmap\", \"uid\": \"fc8d4fb3-ccfb-4415-8ab3-58be41b2aa2e\"}]}, \"uid\": \"58e65e90-65bf-4f07-a860-3466a109c122\", \"initialXDomain\": [0.0, 1000000.0], \"initialYDomain\": [0.0, 1000000.0], \"zoomLimits\": [1.0, null]}, {\"layout\": {\"x\": 6, \"y\": 0, \"w\": 6, \"h\": 4}, \"tracks\": {\"center\": [{\"tilesetUid\": \"a0cef50714f4b178804fedc8014db766\", \"server\": \"/proxy/39123/tilesets/api/v1/\", \"type\": \"heatmap\", \"uid\": \"d80dd03c-0c18-437c-ac03-1809d59666c0\"}]}, \"uid\": \"2250a95b-9bec-4220-8dac-18256802ba10\", \"initialXDomain\": [0.0, 1000000.0], \"initialYDomain\": [0.0, 1000000.0], \"zoomLimits\": [1.0, null]}], \"zoomLocks\": {\"locksByViewUid\": {\"58e65e90-65bf-4f07-a860-3466a109c122\": \"8557c4e3-81ed-4a9f-95e5-24614e3032c8\", \"2250a95b-9bec-4220-8dac-18256802ba10\": \"8557c4e3-81ed-4a9f-95e5-24614e3032c8\"}, \"locksDict\": {\"8557c4e3-81ed-4a9f-95e5-24614e3032c8\": {\"uid\": \"8557c4e3-81ed-4a9f-95e5-24614e3032c8\", \"58e65e90-65bf-4f07-a860-3466a109c122\": [1.0, 1.0, 1.0], \"2250a95b-9bec-4220-8dac-18256802ba10\": [1.0, 1.0, 1.0]}}}, \"locationLocks\": {\"locksByViewUid\": {\"58e65e90-65bf-4f07-a860-3466a109c122\": \"8557c4e3-81ed-4a9f-95e5-24614e3032c8\", \"2250a95b-9bec-4220-8dac-18256802ba10\": \"8557c4e3-81ed-4a9f-95e5-24614e3032c8\"}, \"locksDict\": {\"8557c4e3-81ed-4a9f-95e5-24614e3032c8\": {\"uid\": \"8557c4e3-81ed-4a9f-95e5-24614e3032c8\", \"58e65e90-65bf-4f07-a860-3466a109c122\": [1.0, 1.0, 1.0], \"2250a95b-9bec-4220-8dac-18256802ba10\": [1.0, 1.0, 1.0]}}}, \"valueScaleLocks\": {\"locksByViewUid\": {}, \"locksDict\": {}}},\n",
       "    );\n",
       "    </script>\n",
       "</html>"
      ],
      "text/plain": [
       "Viewconf(editable=True, viewEditable=True, tracksEditable=True, zoomFixed=None, compactLayout=None, exportViewUrl=None, trackSourceServers=None, views=[View(layout=Layout(x=0, y=0, w=6, h=4, moved=None, static=None), tracks=Tracks[TrackT](left=None, right=None, top=None, bottom=None, center=[HeatmapTrack(tilesetUid='1c8401abd9573dfeef2ef1ad9e062267', server='/proxy/39123/tilesets/api/v1/', type='heatmap', uid='fc8d4fb3-ccfb-4415-8ab3-58be41b2aa2e', width=None, height=None, options=None, data=None, position=None, transforms=None)], whole=None, gallery=None), uid='58e65e90-65bf-4f07-a860-3466a109c122', autocompleteSource=None, chromInfoPath=None, genomePositionSearchBox=None, genomePositionSearchBoxVisible=None, initialXDomain=(0.0, 1000000.0), initialYDomain=(0.0, 1000000.0), overlays=None, selectionView=None, zoomFixed=None, zoomLimits=(1.0, None)), View(layout=Layout(x=6, y=0, w=6, h=4, moved=None, static=None), tracks=Tracks[TrackT](left=None, right=None, top=None, bottom=None, center=[HeatmapTrack(tilesetUid='a0cef50714f4b178804fedc8014db766', server='/proxy/39123/tilesets/api/v1/', type='heatmap', uid='d80dd03c-0c18-437c-ac03-1809d59666c0', width=None, height=None, options=None, data=None, position=None, transforms=None)], whole=None, gallery=None), uid='2250a95b-9bec-4220-8dac-18256802ba10', autocompleteSource=None, chromInfoPath=None, genomePositionSearchBox=None, genomePositionSearchBoxVisible=None, initialXDomain=(0.0, 1000000.0), initialYDomain=(0.0, 1000000.0), overlays=None, selectionView=None, zoomFixed=None, zoomLimits=(1.0, None))], zoomLocks=ZoomLocks(locksByViewUid={'58e65e90-65bf-4f07-a860-3466a109c122': '8557c4e3-81ed-4a9f-95e5-24614e3032c8', '2250a95b-9bec-4220-8dac-18256802ba10': '8557c4e3-81ed-4a9f-95e5-24614e3032c8'}, locksDict={'8557c4e3-81ed-4a9f-95e5-24614e3032c8': Lock(uid='8557c4e3-81ed-4a9f-95e5-24614e3032c8', 58e65e90-65bf-4f07-a860-3466a109c122=(1.0, 1.0, 1.0), 2250a95b-9bec-4220-8dac-18256802ba10=(1.0, 1.0, 1.0))}), locationLocks=LocationLocks(locksByViewUid={'58e65e90-65bf-4f07-a860-3466a109c122': '8557c4e3-81ed-4a9f-95e5-24614e3032c8', '2250a95b-9bec-4220-8dac-18256802ba10': '8557c4e3-81ed-4a9f-95e5-24614e3032c8'}, locksDict={'8557c4e3-81ed-4a9f-95e5-24614e3032c8': Lock(uid='8557c4e3-81ed-4a9f-95e5-24614e3032c8', 58e65e90-65bf-4f07-a860-3466a109c122=(1.0, 1.0, 1.0), 2250a95b-9bec-4220-8dac-18256802ba10=(1.0, 1.0, 1.0))}), valueScaleLocks=ValueScaleLocks(locksByViewUid={}, locksDict={}), chromInfoPath=None)"
      ]
     },
     "execution_count": 17,
     "metadata": {},
     "output_type": "execute_result"
    }
   ],
   "source": [
    "import higlass as hg\n",
    "\n",
    "# Remote data source (tileset)\n",
    "h1_file = '/vf/users/RPC_CHM13/hg002/output/h1.mcool'\n",
    "tileset1 = hg.cooler(h1_file)\n",
    "\n",
    "# Local tileset\n",
    "h2_file = \"/vf/users/RPC_CHM13/hg002/output/h2.mcool\"\n",
    "tileset2 = hg.cooler(h2_file)\n",
    "\n",
    "# type_hg = \"2d-rectangle-domains\"\n",
    "type_hg = \"heatmap\"\n",
    "track1 = tileset1.track(type_hg)\n",
    "track2 = tileset2.track(type_hg)\n",
    "\n",
    "# Create two independent `hg.View`s, one for each heatmap with initial view options\n",
    "view1 = hg.view(track1, width=6, height=4).domain(x=[0, 1000000], y=[0, 1000000])\n",
    "view2 = hg.view(track2, width=6, height=4).domain(x=[0, 1000000], y=[0, 1000000])\n",
    "\n",
    "# Lock zoom & location for each `View`\n",
    "view_lock = hg.lock(view1, view2)\n",
    "\n",
    "# Concatenate views horizontally and apply synchronization lock\n",
    "(view1 | view2).locks(view_lock)"
   ]
  },
  {
   "cell_type": "raw",
   "id": "c53617cc-7dea-4e14-9096-f88eadefe348",
   "metadata": {},
   "source": []
  }
 ],
 "metadata": {
  "kernelspec": {
   "display_name": "poreC",
   "language": "python",
   "name": "porec"
  },
  "language_info": {
   "codemirror_mode": {
    "name": "ipython",
    "version": 3
   },
   "file_extension": ".py",
   "mimetype": "text/x-python",
   "name": "python",
   "nbconvert_exporter": "python",
   "pygments_lexer": "ipython3",
   "version": "3.9.18"
  }
 },
 "nbformat": 4,
 "nbformat_minor": 5
}
