{
 "cells": [
  {
   "cell_type": "code",
   "execution_count": 15,
   "id": "8f84ffd4-c9f9-4345-b86a-cc9fc27f3874",
   "metadata": {},
   "outputs": [],
   "source": [
    "import higlass as hg\n",
    "hg.server.enable_proxy()"
   ]
  },
  {
   "cell_type": "code",
   "execution_count": 16,
   "id": "09966d89-958f-47ab-80c4-b39df5027d40",
   "metadata": {
    "scrolled": true
   },
   "outputs": [
    {
     "data": {
      "text/html": [
       "\n",
       "<!DOCTYPE html>\n",
       "<html>\n",
       "  <head>\n",
       "    <link rel=\"stylesheet\" href=\"https://esm.sh/higlass@1.12/dist/hglib.css\">\n",
       "    <script src=\"https://unpkg.com/requirejs-toggle\"></script>\n",
       "    \n",
       "    <script src=\"https://unpkg.com/requirejs-toggle\"></script>\n",
       "  </head>\n",
       "  <body>\n",
       "    <div id=\"jupyter-hg-cf06edaf7c334698836852c3cdc3674b\"></div>\n",
       "  </body>\n",
       "  <script type=\"module\">\n",
       "    import hglib from \"https://esm.sh/higlass@1.12?deps=react@17,react-dom@17,pixi.js@6\";\n",
       "    hglib.viewer(\n",
       "      document.getElementById('jupyter-hg-cf06edaf7c334698836852c3cdc3674b'),\n",
       "      {\"editable\": true, \"viewEditable\": true, \"tracksEditable\": true, \"views\": [{\"layout\": {\"x\": 0, \"y\": 0, \"w\": 6, \"h\": 4}, \"tracks\": {\"top\": [{\"tilesetUid\": \"1c8401abd9573dfeef2ef1ad9e062267\", \"server\": \"/proxy/39123/tilesets/api/v1/\", \"type\": \"1d-heatmap\", \"uid\": \"5c0a259b-0d14-4658-9e23-9e57fa019a79\"}]}, \"uid\": \"9555c1bc-60b2-4959-a680-73ae66675aab\", \"initialXDomain\": [0.0, 1000000.0], \"initialYDomain\": [0.0, 1000000.0], \"zoomLimits\": [1.0, null]}, {\"layout\": {\"x\": 6, \"y\": 0, \"w\": 6, \"h\": 4}, \"tracks\": {\"top\": [{\"tilesetUid\": \"a0cef50714f4b178804fedc8014db766\", \"server\": \"/proxy/39123/tilesets/api/v1/\", \"type\": \"1d-heatmap\", \"uid\": \"feb90298-f7ef-47cd-bb73-719b6a300623\"}]}, \"uid\": \"b9235b4e-49b1-4513-994f-8331e0b74d43\", \"initialXDomain\": [0.0, 1000000.0], \"initialYDomain\": [0.0, 1000000.0], \"zoomLimits\": [1.0, null]}], \"zoomLocks\": {\"locksByViewUid\": {\"9555c1bc-60b2-4959-a680-73ae66675aab\": \"e6796184-20ef-4152-9e23-ae837e083fb5\", \"b9235b4e-49b1-4513-994f-8331e0b74d43\": \"e6796184-20ef-4152-9e23-ae837e083fb5\"}, \"locksDict\": {\"e6796184-20ef-4152-9e23-ae837e083fb5\": {\"uid\": \"e6796184-20ef-4152-9e23-ae837e083fb5\", \"9555c1bc-60b2-4959-a680-73ae66675aab\": [1.0, 1.0, 1.0], \"b9235b4e-49b1-4513-994f-8331e0b74d43\": [1.0, 1.0, 1.0]}}}, \"locationLocks\": {\"locksByViewUid\": {\"9555c1bc-60b2-4959-a680-73ae66675aab\": \"e6796184-20ef-4152-9e23-ae837e083fb5\", \"b9235b4e-49b1-4513-994f-8331e0b74d43\": \"e6796184-20ef-4152-9e23-ae837e083fb5\"}, \"locksDict\": {\"e6796184-20ef-4152-9e23-ae837e083fb5\": {\"uid\": \"e6796184-20ef-4152-9e23-ae837e083fb5\", \"9555c1bc-60b2-4959-a680-73ae66675aab\": [1.0, 1.0, 1.0], \"b9235b4e-49b1-4513-994f-8331e0b74d43\": [1.0, 1.0, 1.0]}}}, \"valueScaleLocks\": {\"locksByViewUid\": {}, \"locksDict\": {}}},\n",
       "    );\n",
       "    </script>\n",
       "</html>"
      ],
      "text/plain": [
       "Viewconf(editable=True, viewEditable=True, tracksEditable=True, zoomFixed=None, compactLayout=None, exportViewUrl=None, trackSourceServers=None, views=[View(layout=Layout(x=0, y=0, w=6, h=4, moved=None, static=None), tracks=Tracks[TrackT](left=None, right=None, top=[EnumTrack(tilesetUid='1c8401abd9573dfeef2ef1ad9e062267', server='/proxy/39123/tilesets/api/v1/', type='1d-heatmap', uid='5c0a259b-0d14-4658-9e23-9e57fa019a79', width=None, height=None, options=None, data=None, chromInfoPath=None, fromViewUid=None, x=None, y=None)], bottom=None, center=None, whole=None, gallery=None), uid='9555c1bc-60b2-4959-a680-73ae66675aab', autocompleteSource=None, chromInfoPath=None, genomePositionSearchBox=None, genomePositionSearchBoxVisible=None, initialXDomain=(0.0, 1000000.0), initialYDomain=(0.0, 1000000.0), overlays=None, selectionView=None, zoomFixed=None, zoomLimits=(1.0, None)), View(layout=Layout(x=6, y=0, w=6, h=4, moved=None, static=None), tracks=Tracks[TrackT](left=None, right=None, top=[EnumTrack(tilesetUid='a0cef50714f4b178804fedc8014db766', server='/proxy/39123/tilesets/api/v1/', type='1d-heatmap', uid='feb90298-f7ef-47cd-bb73-719b6a300623', width=None, height=None, options=None, data=None, chromInfoPath=None, fromViewUid=None, x=None, y=None)], bottom=None, center=None, whole=None, gallery=None), uid='b9235b4e-49b1-4513-994f-8331e0b74d43', autocompleteSource=None, chromInfoPath=None, genomePositionSearchBox=None, genomePositionSearchBoxVisible=None, initialXDomain=(0.0, 1000000.0), initialYDomain=(0.0, 1000000.0), overlays=None, selectionView=None, zoomFixed=None, zoomLimits=(1.0, None))], zoomLocks=ZoomLocks(locksByViewUid={'9555c1bc-60b2-4959-a680-73ae66675aab': 'e6796184-20ef-4152-9e23-ae837e083fb5', 'b9235b4e-49b1-4513-994f-8331e0b74d43': 'e6796184-20ef-4152-9e23-ae837e083fb5'}, locksDict={'e6796184-20ef-4152-9e23-ae837e083fb5': Lock(uid='e6796184-20ef-4152-9e23-ae837e083fb5', 9555c1bc-60b2-4959-a680-73ae66675aab=(1.0, 1.0, 1.0), b9235b4e-49b1-4513-994f-8331e0b74d43=(1.0, 1.0, 1.0))}), locationLocks=LocationLocks(locksByViewUid={'9555c1bc-60b2-4959-a680-73ae66675aab': 'e6796184-20ef-4152-9e23-ae837e083fb5', 'b9235b4e-49b1-4513-994f-8331e0b74d43': 'e6796184-20ef-4152-9e23-ae837e083fb5'}, locksDict={'e6796184-20ef-4152-9e23-ae837e083fb5': Lock(uid='e6796184-20ef-4152-9e23-ae837e083fb5', 9555c1bc-60b2-4959-a680-73ae66675aab=(1.0, 1.0, 1.0), b9235b4e-49b1-4513-994f-8331e0b74d43=(1.0, 1.0, 1.0))}), valueScaleLocks=ValueScaleLocks(locksByViewUid={}, locksDict={}), chromInfoPath=None)"
      ]
     },
     "execution_count": 16,
     "metadata": {},
     "output_type": "execute_result"
    }
   ],
   "source": [
    "import higlass as hg\n",
    "\n",
    "# Remote data source (tileset)\n",
    "h1_file = '/vf/users/RPC_CHM13/hg002/output/h1.mcool'\n",
    "tileset1 = hg.cooler(h1_file)\n",
    "\n",
    "# Local tileset\n",
    "h2_file = \"/vf/users/RPC_CHM13/hg002/output/h2.mcool\"\n",
    "tileset2 = hg.cooler(h2_file)\n",
    "\n",
    "# type_hg = \"2d-rectangle-domains\"\n",
    "type_hg = \"1d-heatmap\"\n",
    "track1 = tileset1.track(type_hg)\n",
    "track2 = tileset2.track(type_hg)\n",
    "\n",
    "# Create two independent `hg.View`s, one for each heatmap with initial view options\n",
    "view1 = hg.view(track1, width=6, height=4).domain(x=[0, 1000000], y=[0, 1000000])\n",
    "view2 = hg.view(track2, width=6, height=4).domain(x=[0, 1000000], y=[0, 1000000])\n",
    "\n",
    "# Lock zoom & location for each `View`\n",
    "view_lock = hg.lock(view1, view2)\n",
    "\n",
    "# Concatenate views horizontally and apply synchronization lock\n",
    "(view1 | view2).locks(view_lock)"
   ]
  },
  {
   "cell_type": "raw",
   "id": "c53617cc-7dea-4e14-9096-f88eadefe348",
   "metadata": {},
   "source": []
  }
 ],
 "metadata": {
  "kernelspec": {
   "display_name": "poreC",
   "language": "python",
   "name": "porec"
  },
  "language_info": {
   "codemirror_mode": {
    "name": "ipython",
    "version": 3
   },
   "file_extension": ".py",
   "mimetype": "text/x-python",
   "name": "python",
   "nbconvert_exporter": "python",
   "pygments_lexer": "ipython3",
   "version": "3.9.18"
  }
 },
 "nbformat": 4,
 "nbformat_minor": 5
}
