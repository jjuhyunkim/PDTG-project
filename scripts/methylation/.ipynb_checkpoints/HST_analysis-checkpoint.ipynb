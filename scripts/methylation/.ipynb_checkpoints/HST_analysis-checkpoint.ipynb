{
 "cells": [
  {
   "cell_type": "code",
   "execution_count": 2,
   "id": "52a58c4a-2765-4a73-a187-95474e74dd1e",
   "metadata": {
    "tags": []
   },
   "outputs": [],
   "source": [
    "suppressPackageStartupMessages(library(DSS))\n",
    "options(warn=-1)\n",
    "#options(warn=0) # use to turn warining back on."
   ]
  },
  {
   "cell_type": "code",
   "execution_count": 3,
   "id": "d93b6b87-ce87-42f2-bd84-2e12d053c2bb",
   "metadata": {
    "tags": []
   },
   "outputs": [
    {
     "data": {
      "text/plain": [
       "SeqCountSet (storageMode: lockedEnvironment)\n",
       "assayData: 2000 features, 6 samples \n",
       "  element names: exprs \n",
       "protocolData: none\n",
       "phenoData\n",
       "  sampleNames: 1 2 ... 6 (6 total)\n",
       "  varLabels: designs\n",
       "  varMetadata: labelDescription\n",
       "featureData: none\n",
       "experimentData: use 'experimentData(object)'\n",
       "Annotation:  "
      ]
     },
     "metadata": {},
     "output_type": "display_data"
    }
   ],
   "source": [
    "counts1 = matrix(rnbinom(300, mu=10, size=10), ncol=3)\n",
    "counts2 = matrix(rnbinom(300, mu=50, size=10), ncol=3)\n",
    "X1 = cbind(counts1, counts2)\n",
    "X2 = matrix(rnbinom(11400, mu=10, size=10), ncol=6)\n",
    "X = rbind(X1,X2)  ## these are 100 DE genes\n",
    "designs = c(0,0,0,1,1,1)\n",
    "seqData = newSeqCountSet(X, designs)\n",
    "seqData"
   ]
  },
  {
   "cell_type": "code",
   "execution_count": 5,
   "id": "15b779e7-5e29-498f-9511-4b5ced9bcb34",
   "metadata": {
    "tags": []
   },
   "outputs": [],
   "source": [
    "seqData = estNormFactors(seqData)\n"
   ]
  },
  {
   "cell_type": "code",
   "execution_count": 6,
   "id": "6e2399cc-415a-4fec-9361-a761168e89be",
   "metadata": {
    "tags": []
   },
   "outputs": [],
   "source": [
    "seqData = estDispersion(seqData)\n"
   ]
  },
  {
   "cell_type": "code",
   "execution_count": 7,
   "id": "d49003f9-edcd-4850-bf64-1754a344aa0f",
   "metadata": {
    "tags": []
   },
   "outputs": [
    {
     "data": {
      "text/html": [
       "<table class=\"dataframe\">\n",
       "<caption>A data.frame: 5 × 8</caption>\n",
       "<thead>\n",
       "\t<tr><th></th><th scope=col>geneIndex</th><th scope=col>muA</th><th scope=col>muB</th><th scope=col>lfc</th><th scope=col>difExpr</th><th scope=col>stats</th><th scope=col>pval</th><th scope=col>fdr</th></tr>\n",
       "\t<tr><th></th><th scope=col>&lt;int&gt;</th><th scope=col>&lt;dbl&gt;</th><th scope=col>&lt;dbl&gt;</th><th scope=col>&lt;dbl&gt;</th><th scope=col>&lt;dbl&gt;</th><th scope=col>&lt;dbl&gt;</th><th scope=col>&lt;dbl&gt;</th><th scope=col>&lt;dbl&gt;</th></tr>\n",
       "</thead>\n",
       "<tbody>\n",
       "\t<tr><th scope=row>71</th><td>71</td><td>6.666667</td><td>61.53509</td><td>-2.158260</td><td>-54.86843</td><td>-5.602880</td><td>2.108189e-08</td><td>2.115208e-05</td></tr>\n",
       "\t<tr><th scope=row>79</th><td>79</td><td>7.333333</td><td>59.75739</td><td>-2.040237</td><td>-52.42406</td><td>-5.438449</td><td>5.374631e-08</td><td>2.115208e-05</td></tr>\n",
       "\t<tr><th scope=row>45</th><td>45</td><td>5.666667</td><td>49.52372</td><td>-2.093339</td><td>-43.85705</td><td>-5.409079</td><td>6.334952e-08</td><td>2.115208e-05</td></tr>\n",
       "\t<tr><th scope=row>39</th><td>39</td><td>7.666667</td><td>58.75982</td><td>-1.981871</td><td>-51.09315</td><td>-5.382596</td><td>7.341926e-08</td><td>2.115208e-05</td></tr>\n",
       "\t<tr><th scope=row>98</th><td>98</td><td>7.666667</td><td>59.64105</td><td>-1.996632</td><td>-51.97438</td><td>-5.373534</td><td>7.720804e-08</td><td>2.115208e-05</td></tr>\n",
       "</tbody>\n",
       "</table>\n"
      ],
      "text/latex": [
       "A data.frame: 5 × 8\n",
       "\\begin{tabular}{r|llllllll}\n",
       "  & geneIndex & muA & muB & lfc & difExpr & stats & pval & fdr\\\\\n",
       "  & <int> & <dbl> & <dbl> & <dbl> & <dbl> & <dbl> & <dbl> & <dbl>\\\\\n",
       "\\hline\n",
       "\t71 & 71 & 6.666667 & 61.53509 & -2.158260 & -54.86843 & -5.602880 & 2.108189e-08 & 2.115208e-05\\\\\n",
       "\t79 & 79 & 7.333333 & 59.75739 & -2.040237 & -52.42406 & -5.438449 & 5.374631e-08 & 2.115208e-05\\\\\n",
       "\t45 & 45 & 5.666667 & 49.52372 & -2.093339 & -43.85705 & -5.409079 & 6.334952e-08 & 2.115208e-05\\\\\n",
       "\t39 & 39 & 7.666667 & 58.75982 & -1.981871 & -51.09315 & -5.382596 & 7.341926e-08 & 2.115208e-05\\\\\n",
       "\t98 & 98 & 7.666667 & 59.64105 & -1.996632 & -51.97438 & -5.373534 & 7.720804e-08 & 2.115208e-05\\\\\n",
       "\\end{tabular}\n"
      ],
      "text/markdown": [
       "\n",
       "A data.frame: 5 × 8\n",
       "\n",
       "| <!--/--> | geneIndex &lt;int&gt; | muA &lt;dbl&gt; | muB &lt;dbl&gt; | lfc &lt;dbl&gt; | difExpr &lt;dbl&gt; | stats &lt;dbl&gt; | pval &lt;dbl&gt; | fdr &lt;dbl&gt; |\n",
       "|---|---|---|---|---|---|---|---|---|\n",
       "| 71 | 71 | 6.666667 | 61.53509 | -2.158260 | -54.86843 | -5.602880 | 2.108189e-08 | 2.115208e-05 |\n",
       "| 79 | 79 | 7.333333 | 59.75739 | -2.040237 | -52.42406 | -5.438449 | 5.374631e-08 | 2.115208e-05 |\n",
       "| 45 | 45 | 5.666667 | 49.52372 | -2.093339 | -43.85705 | -5.409079 | 6.334952e-08 | 2.115208e-05 |\n",
       "| 39 | 39 | 7.666667 | 58.75982 | -1.981871 | -51.09315 | -5.382596 | 7.341926e-08 | 2.115208e-05 |\n",
       "| 98 | 98 | 7.666667 | 59.64105 | -1.996632 | -51.97438 | -5.373534 | 7.720804e-08 | 2.115208e-05 |\n",
       "\n"
      ],
      "text/plain": [
       "   geneIndex muA      muB      lfc       difExpr   stats     pval        \n",
       "71 71        6.666667 61.53509 -2.158260 -54.86843 -5.602880 2.108189e-08\n",
       "79 79        7.333333 59.75739 -2.040237 -52.42406 -5.438449 5.374631e-08\n",
       "45 45        5.666667 49.52372 -2.093339 -43.85705 -5.409079 6.334952e-08\n",
       "39 39        7.666667 58.75982 -1.981871 -51.09315 -5.382596 7.341926e-08\n",
       "98 98        7.666667 59.64105 -1.996632 -51.97438 -5.373534 7.720804e-08\n",
       "   fdr         \n",
       "71 2.115208e-05\n",
       "79 2.115208e-05\n",
       "45 2.115208e-05\n",
       "39 2.115208e-05\n",
       "98 2.115208e-05"
      ]
     },
     "metadata": {},
     "output_type": "display_data"
    }
   ],
   "source": [
    "result=waldTest(seqData, 0, 1)\n",
    "head(result,5)"
   ]
  },
  {
   "cell_type": "code",
   "execution_count": 75,
   "id": "6d272b12-67dc-45f8-a67a-570218f160fd",
   "metadata": {
    "tags": []
   },
   "outputs": [
    {
     "ename": "ERROR",
     "evalue": "Error in library(DESeq2): there is no package called ‘DESeq2’\n",
     "output_type": "error",
     "traceback": [
      "Error in library(DESeq2): there is no package called ‘DESeq2’\nTraceback:\n",
      "1. library(DESeq2)"
     ]
    }
   ],
   "source": [
    "library(DESeq2)"
   ]
  },
  {
   "cell_type": "code",
   "execution_count": null,
   "id": "3d988860-def1-40f4-8699-57a1863835c2",
   "metadata": {},
   "outputs": [],
   "source": []
  },
  {
   "cell_type": "code",
   "execution_count": null,
   "id": "21575389-7259-4728-a7c2-97b06bee3a5f",
   "metadata": {},
   "outputs": [],
   "source": []
  },
  {
   "cell_type": "code",
   "execution_count": null,
   "id": "ed36aca4-7223-4576-9e7c-518e4db44c94",
   "metadata": {},
   "outputs": [],
   "source": []
  },
  {
   "cell_type": "markdown",
   "id": "7c953280-8e28-401b-9b63-576e77344a23",
   "metadata": {
    "tags": []
   },
   "source": [
    "# Simple"
   ]
  },
  {
   "cell_type": "code",
   "execution_count": 38,
   "id": "ac12b2f8-3850-4642-a9cd-95f108da5d24",
   "metadata": {
    "tags": []
   },
   "outputs": [],
   "source": [
    "rpvg = read.table(\"/data/Phillippy/projects/HG002_Masseq/06.pantranscriptome/07.hg002v1.0.1/05.quantification/hg002v101.allGene.isoquantModel.rpvg_joint.max.txt\",\n",
    "                 row.names = 1,\n",
    "                 header = TRUE,\n",
    "                 sep = '\\t')"
   ]
  },
  {
   "cell_type": "code",
   "execution_count": 73,
   "id": "0894c71e-48c9-45d4-91ce-acace88bf67e",
   "metadata": {
    "tags": []
   },
   "outputs": [
    {
     "data": {
      "text/html": [
       "<table class=\"dataframe\">\n",
       "<caption>A matrix: 6 × 2 of type int</caption>\n",
       "<tbody>\n",
       "\t<tr><td>  0</td><td>  0</td></tr>\n",
       "\t<tr><td>400</td><td>233</td></tr>\n",
       "\t<tr><td> 15</td><td>  0</td></tr>\n",
       "\t<tr><td>  0</td><td>  0</td></tr>\n",
       "\t<tr><td>  0</td><td>  0</td></tr>\n",
       "\t<tr><td>  0</td><td>  0</td></tr>\n",
       "</tbody>\n",
       "</table>\n"
      ],
      "text/latex": [
       "A matrix: 6 × 2 of type int\n",
       "\\begin{tabular}{ll}\n",
       "\t   0 &   0\\\\\n",
       "\t 400 & 233\\\\\n",
       "\t  15 &   0\\\\\n",
       "\t   0 &   0\\\\\n",
       "\t   0 &   0\\\\\n",
       "\t   0 &   0\\\\\n",
       "\\end{tabular}\n"
      ],
      "text/markdown": [
       "\n",
       "A matrix: 6 × 2 of type int\n",
       "\n",
       "|   0 |   0 |\n",
       "| 400 | 233 |\n",
       "|  15 |   0 |\n",
       "|   0 |   0 |\n",
       "|   0 |   0 |\n",
       "|   0 |   0 |\n",
       "\n"
      ],
      "text/plain": [
       "     [,1] [,2]\n",
       "[1,]   0    0 \n",
       "[2,] 400  233 \n",
       "[3,]  15    0 \n",
       "[4,]   0    0 \n",
       "[5,]   0    0 \n",
       "[6,]   0    0 "
      ]
     },
     "metadata": {},
     "output_type": "display_data"
    }
   ],
   "source": [
    "df = dat\n",
    "numeric_cols <- sapply(df, is.numeric)\n",
    "df[numeric_cols] <- lapply(df[numeric_cols], function(x) as.integer(round(as.numeric(x))))\n",
    "df <- matrix(c(df$ReadCount_1,df$ReadCount_2),ncol=2)\n",
    "# Print the integer data frame\n",
    "head(df)"
   ]
  },
  {
   "cell_type": "code",
   "execution_count": 74,
   "id": "275c50b9-dd0e-4215-a75e-65394b748b02",
   "metadata": {
    "tags": []
   },
   "outputs": [
    {
     "data": {
      "text/html": [
       "<table class=\"dataframe\">\n",
       "<caption>A data.frame: 6 × 8</caption>\n",
       "<thead>\n",
       "\t<tr><th></th><th scope=col>geneIndex</th><th scope=col>muA</th><th scope=col>muB</th><th scope=col>lfc</th><th scope=col>difExpr</th><th scope=col>stats</th><th scope=col>pval</th><th scope=col>fdr</th></tr>\n",
       "\t<tr><th></th><th scope=col>&lt;int&gt;</th><th scope=col>&lt;dbl&gt;</th><th scope=col>&lt;dbl&gt;</th><th scope=col>&lt;dbl&gt;</th><th scope=col>&lt;dbl&gt;</th><th scope=col>&lt;dbl&gt;</th><th scope=col>&lt;dbl&gt;</th><th scope=col>&lt;dbl&gt;</th></tr>\n",
       "</thead>\n",
       "<tbody>\n",
       "\t<tr><th scope=row>4938</th><td>4938</td><td>1427</td><td>  0</td><td> 7.956827</td><td>1427</td><td> 0.3162176</td><td>0.7518374</td><td>1</td></tr>\n",
       "\t<tr><th scope=row>3230</th><td>3230</td><td>1082</td><td>  0</td><td> 7.680176</td><td>1082</td><td> 0.3162140</td><td>0.7518401</td><td>1</td></tr>\n",
       "\t<tr><th scope=row>5317</th><td>5317</td><td> 710</td><td>  0</td><td> 7.259116</td><td> 710</td><td> 0.3162064</td><td>0.7518459</td><td>1</td></tr>\n",
       "\t<tr><th scope=row>3229</th><td>3229</td><td>   0</td><td>592</td><td>-7.077498</td><td>-592</td><td>-0.3162019</td><td>0.7518492</td><td>1</td></tr>\n",
       "\t<tr><th scope=row>2103</th><td>2103</td><td> 559</td><td>  0</td><td> 7.020191</td><td> 559</td><td> 0.3162004</td><td>0.7518504</td><td>1</td></tr>\n",
       "\t<tr><th scope=row>6245</th><td>6245</td><td>   0</td><td>545</td><td>-6.994850</td><td>-545</td><td>-0.3161996</td><td>0.7518510</td><td>1</td></tr>\n",
       "</tbody>\n",
       "</table>\n"
      ],
      "text/latex": [
       "A data.frame: 6 × 8\n",
       "\\begin{tabular}{r|llllllll}\n",
       "  & geneIndex & muA & muB & lfc & difExpr & stats & pval & fdr\\\\\n",
       "  & <int> & <dbl> & <dbl> & <dbl> & <dbl> & <dbl> & <dbl> & <dbl>\\\\\n",
       "\\hline\n",
       "\t4938 & 4938 & 1427 &   0 &  7.956827 & 1427 &  0.3162176 & 0.7518374 & 1\\\\\n",
       "\t3230 & 3230 & 1082 &   0 &  7.680176 & 1082 &  0.3162140 & 0.7518401 & 1\\\\\n",
       "\t5317 & 5317 &  710 &   0 &  7.259116 &  710 &  0.3162064 & 0.7518459 & 1\\\\\n",
       "\t3229 & 3229 &    0 & 592 & -7.077498 & -592 & -0.3162019 & 0.7518492 & 1\\\\\n",
       "\t2103 & 2103 &  559 &   0 &  7.020191 &  559 &  0.3162004 & 0.7518504 & 1\\\\\n",
       "\t6245 & 6245 &    0 & 545 & -6.994850 & -545 & -0.3161996 & 0.7518510 & 1\\\\\n",
       "\\end{tabular}\n"
      ],
      "text/markdown": [
       "\n",
       "A data.frame: 6 × 8\n",
       "\n",
       "| <!--/--> | geneIndex &lt;int&gt; | muA &lt;dbl&gt; | muB &lt;dbl&gt; | lfc &lt;dbl&gt; | difExpr &lt;dbl&gt; | stats &lt;dbl&gt; | pval &lt;dbl&gt; | fdr &lt;dbl&gt; |\n",
       "|---|---|---|---|---|---|---|---|---|\n",
       "| 4938 | 4938 | 1427 |   0 |  7.956827 | 1427 |  0.3162176 | 0.7518374 | 1 |\n",
       "| 3230 | 3230 | 1082 |   0 |  7.680176 | 1082 |  0.3162140 | 0.7518401 | 1 |\n",
       "| 5317 | 5317 |  710 |   0 |  7.259116 |  710 |  0.3162064 | 0.7518459 | 1 |\n",
       "| 3229 | 3229 |    0 | 592 | -7.077498 | -592 | -0.3162019 | 0.7518492 | 1 |\n",
       "| 2103 | 2103 |  559 |   0 |  7.020191 |  559 |  0.3162004 | 0.7518504 | 1 |\n",
       "| 6245 | 6245 |    0 | 545 | -6.994850 | -545 | -0.3161996 | 0.7518510 | 1 |\n",
       "\n"
      ],
      "text/plain": [
       "     geneIndex muA  muB lfc       difExpr stats      pval      fdr\n",
       "4938 4938      1427   0  7.956827 1427     0.3162176 0.7518374 1  \n",
       "3230 3230      1082   0  7.680176 1082     0.3162140 0.7518401 1  \n",
       "5317 5317       710   0  7.259116  710     0.3162064 0.7518459 1  \n",
       "3229 3229         0 592 -7.077498 -592    -0.3162019 0.7518492 1  \n",
       "2103 2103       559   0  7.020191  559     0.3162004 0.7518504 1  \n",
       "6245 6245         0 545 -6.994850 -545    -0.3161996 0.7518510 1  "
      ]
     },
     "metadata": {},
     "output_type": "display_data"
    }
   ],
   "source": [
    "designs = c(0,1)\n",
    "result = DSS.DE(df, designs)\n",
    "head(result)"
   ]
  },
  {
   "cell_type": "code",
   "execution_count": null,
   "id": "6676e788-bdc2-4cec-93e5-221456112db6",
   "metadata": {},
   "outputs": [],
   "source": []
  }
 ],
 "metadata": {
  "kernelspec": {
   "display_name": "pacbioDNA_R",
   "language": "R",
   "name": "pacbiodna"
  },
  "language_info": {
   "codemirror_mode": "r",
   "file_extension": ".r",
   "mimetype": "text/x-r-source",
   "name": "R",
   "pygments_lexer": "r",
   "version": "4.3.1"
  }
 },
 "nbformat": 4,
 "nbformat_minor": 5
}
