{
 "cells": [
  {
   "cell_type": "code",
   "execution_count": 1,
   "id": "37de8842-9f3f-4d29-8ac6-3314751107a8",
   "metadata": {
    "tags": []
   },
   "outputs": [],
   "source": [
    "from upsetplot import plot\n",
    "from matplotlib import pyplot\n",
    "from upsetplot import UpSet\n",
    "from upsetplot import from_contents\n",
    "import matplotlib\n",
    "from matplotlib import pyplot as plt\n",
    "import pandas as pd\n",
    "from upsetplot import from_indicators\n",
    "import math\n",
    "import matplotlib.pyplot as plt\n",
    "import seaborn as sns\n",
    "from statannot import add_stat_annotation"
   ]
  },
  {
   "cell_type": "code",
   "execution_count": 2,
   "id": "4760e017-6262-405e-b478-b00033419a9c",
   "metadata": {
    "tags": []
   },
   "outputs": [],
   "source": [
    "figdir=\"/data/Phillippy/projects/HG002_Masseq/figure\""
   ]
  },
  {
   "cell_type": "code",
   "execution_count": 75,
   "id": "ed02b586-053d-4505-97ec-594ab2c26ce3",
   "metadata": {
    "tags": []
   },
   "outputs": [
    {
     "data": {
      "text/html": [
       "<div>\n",
       "<style scoped>\n",
       "    .dataframe tbody tr th:only-of-type {\n",
       "        vertical-align: middle;\n",
       "    }\n",
       "\n",
       "    .dataframe tbody tr th {\n",
       "        vertical-align: top;\n",
       "    }\n",
       "\n",
       "    .dataframe thead th {\n",
       "        text-align: right;\n",
       "    }\n",
       "</style>\n",
       "<table border=\"1\" class=\"dataframe\">\n",
       "  <thead>\n",
       "    <tr style=\"text-align: right;\">\n",
       "      <th></th>\n",
       "      <th>0</th>\n",
       "      <th>1</th>\n",
       "      <th>2</th>\n",
       "      <th>3</th>\n",
       "      <th>4</th>\n",
       "      <th>5</th>\n",
       "      <th>6</th>\n",
       "      <th>7</th>\n",
       "      <th>8</th>\n",
       "      <th>9</th>\n",
       "      <th>10</th>\n",
       "      <th>11</th>\n",
       "      <th>12</th>\n",
       "      <th>13</th>\n",
       "      <th>14</th>\n",
       "      <th>15</th>\n",
       "      <th>16</th>\n",
       "    </tr>\n",
       "  </thead>\n",
       "  <tbody>\n",
       "    <tr>\n",
       "      <th>0</th>\n",
       "      <td>chr1</td>\n",
       "      <td>11044412</td>\n",
       "      <td>11044709</td>\n",
       "      <td>298</td>\n",
       "      <td>37</td>\n",
       "      <td>0.657271</td>\n",
       "      <td>0.415610</td>\n",
       "      <td>0.241661</td>\n",
       "      <td>174.248267</td>\n",
       "      <td>chr1:11044412-11044709</td>\n",
       "      <td>chr1</td>\n",
       "      <td>11044370</td>\n",
       "      <td>11044544</td>\n",
       "      <td>Maternal</td>\n",
       "      <td>chr1-mat-1</td>\n",
       "      <td>PTCHD2</td>\n",
       "      <td>Hernandez</td>\n",
       "    </tr>\n",
       "    <tr>\n",
       "      <th>1</th>\n",
       "      <td>chr1</td>\n",
       "      <td>32328990</td>\n",
       "      <td>32329191</td>\n",
       "      <td>202</td>\n",
       "      <td>10</td>\n",
       "      <td>0.789138</td>\n",
       "      <td>0.524605</td>\n",
       "      <td>0.264533</td>\n",
       "      <td>48.324914</td>\n",
       "      <td>chr1:32328990-32329191</td>\n",
       "      <td>chr1</td>\n",
       "      <td>32329102</td>\n",
       "      <td>32329320</td>\n",
       "      <td>Maternal</td>\n",
       "      <td>chr1-mat-3</td>\n",
       "      <td>ZBTB8B</td>\n",
       "      <td>Joshi</td>\n",
       "    </tr>\n",
       "    <tr>\n",
       "      <th>2</th>\n",
       "      <td>chr1</td>\n",
       "      <td>32329270</td>\n",
       "      <td>32329395</td>\n",
       "      <td>126</td>\n",
       "      <td>7</td>\n",
       "      <td>0.762157</td>\n",
       "      <td>0.426633</td>\n",
       "      <td>0.335524</td>\n",
       "      <td>36.350951</td>\n",
       "      <td>chr1:32329270-32329395</td>\n",
       "      <td>chr1</td>\n",
       "      <td>32329102</td>\n",
       "      <td>32329320</td>\n",
       "      <td>Maternal</td>\n",
       "      <td>chr1-mat-3</td>\n",
       "      <td>ZBTB8B</td>\n",
       "      <td>Joshi</td>\n",
       "    </tr>\n",
       "    <tr>\n",
       "      <th>3</th>\n",
       "      <td>chr1</td>\n",
       "      <td>39383967</td>\n",
       "      <td>39384566</td>\n",
       "      <td>600</td>\n",
       "      <td>41</td>\n",
       "      <td>0.570428</td>\n",
       "      <td>0.228099</td>\n",
       "      <td>0.342329</td>\n",
       "      <td>322.601761</td>\n",
       "      <td>chr1:39383967-39384566</td>\n",
       "      <td>chr1</td>\n",
       "      <td>39384177</td>\n",
       "      <td>39384444</td>\n",
       "      <td>Maternal</td>\n",
       "      <td>chr1-mat-4</td>\n",
       "      <td>BMP8A</td>\n",
       "      <td>Akbari</td>\n",
       "    </tr>\n",
       "    <tr>\n",
       "      <th>4</th>\n",
       "      <td>chr1</td>\n",
       "      <td>67924248</td>\n",
       "      <td>67924995</td>\n",
       "      <td>748</td>\n",
       "      <td>37</td>\n",
       "      <td>0.769939</td>\n",
       "      <td>0.363026</td>\n",
       "      <td>0.406912</td>\n",
       "      <td>321.466130</td>\n",
       "      <td>chr1:67924248-67924995</td>\n",
       "      <td>chr1</td>\n",
       "      <td>67924206</td>\n",
       "      <td>67925480</td>\n",
       "      <td>Maternal</td>\n",
       "      <td>chr1-mat-6</td>\n",
       "      <td>DIRAS3,DIRAS3_Ex2,GNG12-AS1</td>\n",
       "      <td>Akbari,Court,Hernandez,Joshi,Zink</td>\n",
       "    </tr>\n",
       "  </tbody>\n",
       "</table>\n",
       "</div>"
      ],
      "text/plain": [
       "     0         1         2    3   4         5         6         7   \\\n",
       "0  chr1  11044412  11044709  298  37  0.657271  0.415610  0.241661   \n",
       "1  chr1  32328990  32329191  202  10  0.789138  0.524605  0.264533   \n",
       "2  chr1  32329270  32329395  126   7  0.762157  0.426633  0.335524   \n",
       "3  chr1  39383967  39384566  600  41  0.570428  0.228099  0.342329   \n",
       "4  chr1  67924248  67924995  748  37  0.769939  0.363026  0.406912   \n",
       "\n",
       "           8                       9     10        11        12        13  \\\n",
       "0  174.248267  chr1:11044412-11044709  chr1  11044370  11044544  Maternal   \n",
       "1   48.324914  chr1:32328990-32329191  chr1  32329102  32329320  Maternal   \n",
       "2   36.350951  chr1:32329270-32329395  chr1  32329102  32329320  Maternal   \n",
       "3  322.601761  chr1:39383967-39384566  chr1  39384177  39384444  Maternal   \n",
       "4  321.466130  chr1:67924248-67924995  chr1  67924206  67925480  Maternal   \n",
       "\n",
       "           14                           15                                 16  \n",
       "0  chr1-mat-1                       PTCHD2                          Hernandez  \n",
       "1  chr1-mat-3                       ZBTB8B                              Joshi  \n",
       "2  chr1-mat-3                       ZBTB8B                              Joshi  \n",
       "3  chr1-mat-4                        BMP8A                             Akbari  \n",
       "4  chr1-mat-6  DIRAS3,DIRAS3_Ex2,GNG12-AS1  Akbari,Court,Hernandez,Joshi,Zink  "
      ]
     },
     "execution_count": 75,
     "metadata": {},
     "output_type": "execute_result"
    }
   ],
   "source": [
    "df_ori = pd.read_csv(\"/vf/users/Phillippy/projects/HG002_Masseq/10.interpretation/HST-HSM/HSM.known_imprinted.bed\", sep = '\\t', header = None)\n",
    "df_ori.head()"
   ]
  },
  {
   "cell_type": "code",
   "execution_count": 76,
   "id": "a97f8ce3-6409-4345-80b4-bafd8b38fd6d",
   "metadata": {
    "tags": []
   },
   "outputs": [],
   "source": [
    "df_ori['DMR_DSS_haplotype'] = df_ori.apply(lambda row: 'Maternal' if row[8] > 0 else 'Paternal', axis=1)"
   ]
  },
  {
   "cell_type": "code",
   "execution_count": 77,
   "id": "f5de4ab6-4795-4eb8-a061-85585ed06a78",
   "metadata": {
    "tags": []
   },
   "outputs": [],
   "source": [
    "tab = pd.DataFrame(df_ori.groupby([13,'DMR_DSS_haplotype']).size()).reset_index()\n",
    "tab.columns = ['known_imprinted','DMR_DSS_haplotype','freq']"
   ]
  },
  {
   "cell_type": "code",
   "execution_count": 78,
   "id": "74be31ed-7147-4039-8d09-ef39ff3f2501",
   "metadata": {
    "tags": []
   },
   "outputs": [],
   "source": [
    "tab = tab.pivot(index='known_imprinted', columns='DMR_DSS_haplotype', values='freq')"
   ]
  },
  {
   "cell_type": "code",
   "execution_count": 79,
   "id": "d4f17093-1a4d-4aac-b7f9-2501fd70232e",
   "metadata": {
    "tags": []
   },
   "outputs": [
    {
     "data": {
      "text/html": [
       "<div>\n",
       "<style scoped>\n",
       "    .dataframe tbody tr th:only-of-type {\n",
       "        vertical-align: middle;\n",
       "    }\n",
       "\n",
       "    .dataframe tbody tr th {\n",
       "        vertical-align: top;\n",
       "    }\n",
       "\n",
       "    .dataframe thead th {\n",
       "        text-align: right;\n",
       "    }\n",
       "</style>\n",
       "<table border=\"1\" class=\"dataframe\">\n",
       "  <thead>\n",
       "    <tr style=\"text-align: right;\">\n",
       "      <th>known_imprinted</th>\n",
       "      <th>Maternal</th>\n",
       "      <th>Paternal</th>\n",
       "    </tr>\n",
       "    <tr>\n",
       "      <th>DMR_DSS_haplotype</th>\n",
       "      <th></th>\n",
       "      <th></th>\n",
       "    </tr>\n",
       "  </thead>\n",
       "  <tbody>\n",
       "    <tr>\n",
       "      <th>Maternal</th>\n",
       "      <td>138</td>\n",
       "      <td>2</td>\n",
       "    </tr>\n",
       "    <tr>\n",
       "      <th>Paternal</th>\n",
       "      <td>4</td>\n",
       "      <td>98</td>\n",
       "    </tr>\n",
       "  </tbody>\n",
       "</table>\n",
       "</div>"
      ],
      "text/plain": [
       "known_imprinted    Maternal  Paternal\n",
       "DMR_DSS_haplotype                    \n",
       "Maternal                138         2\n",
       "Paternal                  4        98"
      ]
     },
     "execution_count": 79,
     "metadata": {},
     "output_type": "execute_result"
    }
   ],
   "source": [
    "tab.transpose()"
   ]
  },
  {
   "cell_type": "code",
   "execution_count": 80,
   "id": "1b849100-4748-47d8-8f8d-2af07290d9a7",
   "metadata": {
    "tags": []
   },
   "outputs": [
    {
     "data": {
      "image/png": "[encoded data removed]",
      "text/plain": [
       "<Figure size 250x200 with 2 Axes>"
      ]
     },
     "metadata": {},
     "output_type": "display_data"
    }
   ],
   "source": [
    "fig, ax = plt.subplots(figsize=(2.5, 2))\n",
    "sns.color_palette(\"light:#5A9\", as_cmap=True)\n",
    "sns.heatmap(tab.transpose(), annot=True, fmt=\"d\", cmap='Reds')\n",
    "ax.set_ylabel('HG002 haplotype')\n",
    "ax.set_xlabel('Known imprinted methylation')\n",
    "plt.savefig(figdir + '/countHeatmap.known_vs_hg002.png', bbox_inches='tight',dpi=300,transparent=True)"
   ]
  },
  {
   "cell_type": "code",
   "execution_count": 81,
   "id": "e208114d-5f9b-4ae3-9a7d-bb4686b8344b",
   "metadata": {
    "tags": []
   },
   "outputs": [],
   "source": [
    "df = tab.replace('Maternal', True)\n",
    "df = df.replace('Paternal', False)"
   ]
  },
  {
   "cell_type": "code",
   "execution_count": 82,
   "id": "1d3e8f5c-5477-46a3-b83d-c410e285690c",
   "metadata": {
    "tags": []
   },
   "outputs": [
    {
     "data": {
      "text/html": [
       "<div>\n",
       "<style scoped>\n",
       "    .dataframe tbody tr th:only-of-type {\n",
       "        vertical-align: middle;\n",
       "    }\n",
       "\n",
       "    .dataframe tbody tr th {\n",
       "        vertical-align: top;\n",
       "    }\n",
       "\n",
       "    .dataframe thead th {\n",
       "        text-align: right;\n",
       "    }\n",
       "</style>\n",
       "<table border=\"1\" class=\"dataframe\">\n",
       "  <thead>\n",
       "    <tr style=\"text-align: right;\">\n",
       "      <th>DMR_DSS_haplotype</th>\n",
       "      <th>Maternal</th>\n",
       "      <th>Paternal</th>\n",
       "    </tr>\n",
       "    <tr>\n",
       "      <th>known_imprinted</th>\n",
       "      <th></th>\n",
       "      <th></th>\n",
       "    </tr>\n",
       "  </thead>\n",
       "  <tbody>\n",
       "    <tr>\n",
       "      <th>Maternal</th>\n",
       "      <td>138</td>\n",
       "      <td>4</td>\n",
       "    </tr>\n",
       "    <tr>\n",
       "      <th>Paternal</th>\n",
       "      <td>2</td>\n",
       "      <td>98</td>\n",
       "    </tr>\n",
       "  </tbody>\n",
       "</table>\n",
       "</div>"
      ],
      "text/plain": [
       "DMR_DSS_haplotype  Maternal  Paternal\n",
       "known_imprinted                      \n",
       "Maternal                138         4\n",
       "Paternal                  2        98"
      ]
     },
     "execution_count": 82,
     "metadata": {},
     "output_type": "execute_result"
    }
   ],
   "source": [
    "df"
   ]
  },
  {
   "cell_type": "code",
   "execution_count": 83,
   "id": "dfd578e1-be4b-4711-85ef-3484ddd19b7b",
   "metadata": {
    "tags": []
   },
   "outputs": [
    {
     "data": {
      "text/plain": [
       "DMR_DSS_haplotype    1\n",
       "known_imprinted      1\n",
       "dtype: int64"
      ]
     },
     "execution_count": 83,
     "metadata": {},
     "output_type": "execute_result"
    }
   ],
   "source": [
    "frequency = df.groupby(['known_imprinted', 'DMR_DSS_haplotype']).size()\n",
    "frequency"
   ]
  },
  {
   "cell_type": "code",
   "execution_count": 84,
   "id": "131cafaf-855a-4a67-abb9-39c64a0dfc6c",
   "metadata": {
    "tags": []
   },
   "outputs": [
    {
     "data": {
      "text/html": [
       "<div>\n",
       "<style scoped>\n",
       "    .dataframe tbody tr th:only-of-type {\n",
       "        vertical-align: middle;\n",
       "    }\n",
       "\n",
       "    .dataframe tbody tr th {\n",
       "        vertical-align: top;\n",
       "    }\n",
       "\n",
       "    .dataframe thead th {\n",
       "        text-align: right;\n",
       "    }\n",
       "</style>\n",
       "<table border=\"1\" class=\"dataframe\">\n",
       "  <thead>\n",
       "    <tr style=\"text-align: right;\">\n",
       "      <th></th>\n",
       "      <th>known_imprinted</th>\n",
       "      <th>5</th>\n",
       "      <th>6</th>\n",
       "    </tr>\n",
       "  </thead>\n",
       "  <tbody>\n",
       "    <tr>\n",
       "      <th>0</th>\n",
       "      <td>Maternal</td>\n",
       "      <td>0.657271</td>\n",
       "      <td>0.415610</td>\n",
       "    </tr>\n",
       "    <tr>\n",
       "      <th>1</th>\n",
       "      <td>Maternal</td>\n",
       "      <td>0.789138</td>\n",
       "      <td>0.524605</td>\n",
       "    </tr>\n",
       "    <tr>\n",
       "      <th>2</th>\n",
       "      <td>Maternal</td>\n",
       "      <td>0.762157</td>\n",
       "      <td>0.426633</td>\n",
       "    </tr>\n",
       "    <tr>\n",
       "      <th>3</th>\n",
       "      <td>Maternal</td>\n",
       "      <td>0.570428</td>\n",
       "      <td>0.228099</td>\n",
       "    </tr>\n",
       "    <tr>\n",
       "      <th>4</th>\n",
       "      <td>Maternal</td>\n",
       "      <td>0.769939</td>\n",
       "      <td>0.363026</td>\n",
       "    </tr>\n",
       "    <tr>\n",
       "      <th>...</th>\n",
       "      <td>...</td>\n",
       "      <td>...</td>\n",
       "      <td>...</td>\n",
       "    </tr>\n",
       "    <tr>\n",
       "      <th>237</th>\n",
       "      <td>Maternal</td>\n",
       "      <td>0.711511</td>\n",
       "      <td>0.251985</td>\n",
       "    </tr>\n",
       "    <tr>\n",
       "      <th>238</th>\n",
       "      <td>Maternal</td>\n",
       "      <td>0.934303</td>\n",
       "      <td>0.162129</td>\n",
       "    </tr>\n",
       "    <tr>\n",
       "      <th>239</th>\n",
       "      <td>Maternal</td>\n",
       "      <td>0.775403</td>\n",
       "      <td>0.100223</td>\n",
       "    </tr>\n",
       "    <tr>\n",
       "      <th>240</th>\n",
       "      <td>Maternal</td>\n",
       "      <td>0.642814</td>\n",
       "      <td>0.384820</td>\n",
       "    </tr>\n",
       "    <tr>\n",
       "      <th>241</th>\n",
       "      <td>Maternal</td>\n",
       "      <td>0.855551</td>\n",
       "      <td>0.351370</td>\n",
       "    </tr>\n",
       "  </tbody>\n",
       "</table>\n",
       "<p>242 rows × 3 columns</p>\n",
       "</div>"
      ],
      "text/plain": [
       "    known_imprinted         5         6\n",
       "0          Maternal  0.657271  0.415610\n",
       "1          Maternal  0.789138  0.524605\n",
       "2          Maternal  0.762157  0.426633\n",
       "3          Maternal  0.570428  0.228099\n",
       "4          Maternal  0.769939  0.363026\n",
       "..              ...       ...       ...\n",
       "237        Maternal  0.711511  0.251985\n",
       "238        Maternal  0.934303  0.162129\n",
       "239        Maternal  0.775403  0.100223\n",
       "240        Maternal  0.642814  0.384820\n",
       "241        Maternal  0.855551  0.351370\n",
       "\n",
       "[242 rows x 3 columns]"
      ]
     },
     "execution_count": 84,
     "metadata": {},
     "output_type": "execute_result"
    }
   ],
   "source": [
    "df = df_ori[[13,5,6]]\n",
    "df.columns = ['known_imprinted',\"5\",\"6\"]\n",
    "df"
   ]
  },
  {
   "cell_type": "code",
   "execution_count": 85,
   "id": "97609f72-b27d-466e-a088-078453fa0d5a",
   "metadata": {
    "tags": []
   },
   "outputs": [
    {
     "name": "stdout",
     "output_type": "stream",
     "text": [
      "     category    source     value\n",
      "0    Maternal  Maternal  0.657271\n",
      "1    Maternal  Maternal  0.789138\n",
      "2    Maternal  Maternal  0.762157\n",
      "3    Maternal  Maternal  0.570428\n",
      "4    Maternal  Maternal  0.769939\n",
      "..        ...       ...       ...\n",
      "479  Maternal  Paternal  0.251985\n",
      "480  Maternal  Paternal  0.162129\n",
      "481  Maternal  Paternal  0.100223\n",
      "482  Maternal  Paternal  0.384820\n",
      "483  Maternal  Paternal  0.351370\n",
      "\n",
      "[484 rows x 3 columns]\n"
     ]
    }
   ],
   "source": [
    "\n",
    "# Melt the DataFrame to reshape it\n",
    "df_melted = pd.melt(df, id_vars='known_imprinted', var_name='source', value_name='value')\n",
    "\n",
    "# Rename the 'known_imprinted' column to 'category'\n",
    "df_melted = df_melted.rename(columns={'known_imprinted': 'category'})\n",
    "\n",
    "# Map the source values to 'mat' and 'pat'\n",
    "df_melted['source'] = df_melted['source'].map({'5': 'Maternal', '6': 'Paternal'})\n",
    "\n",
    "print(df_melted)"
   ]
  },
  {
   "cell_type": "code",
   "execution_count": 86,
   "id": "583049f7-f0a5-4a63-8172-c4b993ed941b",
   "metadata": {},
   "outputs": [
    {
     "name": "stdout",
     "output_type": "stream",
     "text": [
      "p-value annotation legend:\n",
      "ns: 5.00e-02 < p <= 1.00e+00\n",
      "*: 1.00e-02 < p <= 5.00e-02\n",
      "**: 1.00e-03 < p <= 1.00e-02\n",
      "***: 1.00e-04 < p <= 1.00e-03\n",
      "****: p <= 1.00e-04\n",
      "\n",
      "Paternal_Maternal v.s. Paternal_Paternal: t-test independent samples with Bonferroni correction, P_val=6.891e-63 stat=-2.501e+01\n",
      "Maternal_Maternal v.s. Maternal_Paternal: t-test independent samples with Bonferroni correction, P_val=9.756e-81 stat=2.727e+01\n"
     ]
    },
    {
     "data": {
      "image/png": "[encoded data removed]",
      "text/plain": [
       "<Figure size 400x300 with 1 Axes>"
      ]
     },
     "metadata": {},
     "output_type": "display_data"
    }
   ],
   "source": [
    "fig, ax = plt.subplots(figsize=(4, 3))\n",
    "\n",
    "x = \"category\"\n",
    "y = \"value\"\n",
    "hue = \"source\"\n",
    "ax = sns.boxplot(data=df_melted, x=x, y=y, hue=hue,\n",
    "                # frameon = False,\n",
    "                )\n",
    "add_stat_annotation(ax, data=df_melted, x=x, y=y, hue=hue,\n",
    "                    box_pairs=[((\"Maternal\", \"Maternal\"), (\"Maternal\", \"Paternal\")),\n",
    "                                 ((\"Paternal\", \"Maternal\"), (\"Paternal\", \"Paternal\"))\n",
    "                                ],\n",
    "                    test='t-test_ind', text_format='star', loc='inside', verbose=2)\n",
    "\n",
    "ax.set_ylabel('methylation levels')\n",
    "ax.set_xlabel('Known imprinted methylation')\n",
    "\n",
    "\n",
    "ax.spines['left'].set_visible(False)\n",
    "ax.spines['bottom'].set_visible(False)\n",
    "ax.spines['top'].set_visible(False)\n",
    "ax.spines['right'].set_visible(False)\n",
    "\n",
    "\n",
    "plt.legend(title='HG002 haplotype' , loc='upper left', bbox_to_anchor=(1.03, 1),frameon=False)\n",
    "\n",
    "plt.savefig(figdir + '/boxplot.methLevel.matvspat.png', bbox_inches='tight',dpi=300,transparent=True)"
   ]
  },
  {
   "cell_type": "code",
   "execution_count": 87,
   "id": "193f1c71-8126-4467-8642-ce5fed4e1fb3",
   "metadata": {
    "tags": []
   },
   "outputs": [
    {
     "data": {
      "image/png": "[encoded data removed]",
      "text/plain": [
       "<Figure size 1000x300 with 1 Axes>"
      ]
     },
     "metadata": {},
     "output_type": "display_data"
    }
   ],
   "source": [
    "import matplotlib.pyplot as plt\n",
    "import matplotlib.patches as mpatches\n",
    "\n",
    "# Remove plt.figure() line\n",
    "\n",
    "fig, ax = plt.subplots(figsize=(10, 3))  # Adjust the figsize here\n",
    "\n",
    "start = 0\n",
    "never_ori = 263\n",
    "seldom_ori = 169\n",
    "undecided = 0\n",
    "\n",
    "\n",
    "col1='#adb5bd'\n",
    "col2='#e9ecef'\n",
    "\n",
    "never = round((never_ori / (never_ori + seldom_ori)) * 100,2)\n",
    "seldom = round((seldom_ori / (never_ori + seldom_ori)) * 100,2)\n",
    "\n",
    "ax.broken_barh([(start, never), (never, 100)], [10, 9], facecolors=(col1,col2),\n",
    "              edgecolor='black')\n",
    "ax.set_ylim(5, 15)\n",
    "ax.set_xlim(0, 100)\n",
    "ax.spines['left'].set_visible(False)\n",
    "ax.spines['bottom'].set_visible(False)\n",
    "ax.spines['top'].set_visible(False)\n",
    "ax.spines['right'].set_visible(False)\n",
    "ax.set_yticks([20, 25])\n",
    "ax.set_xticks([0, 25, 50, 75, 100])\n",
    "plt.xticks(fontsize=20)\n",
    "ax.set_axisbelow(True)\n",
    "ax.set_yticks([])\n",
    "ax.set_ylabel('')\n",
    "ax.grid(axis='x')\n",
    "ax.text(never - 15, 14.5, str(never) + \"%\", fontsize=20, rotation = 0)\n",
    "ax.text((never + seldom) - 6, 14.5, str(seldom) + \"%\", fontsize=20)\n",
    "\n",
    "#fig.suptitle('The percent of common between known DMR and HG002 haplotype specific DMR', fontsize=15)\n",
    "\n",
    "leg1 = mpatches.Patch(color=col1, label='common')\n",
    "leg2 = mpatches.Patch(color=col2, label='known DMR only')\n",
    "ax.legend(handles=[leg1, leg2], ncol=2, fontsize = 20, frameon=False)\n",
    "\n",
    "plt.savefig(figdir + '/broken_bar_plot.amongKnownDMR.png',dpi=300,transparent=True)\n",
    "plt.show()\n"
   ]
  },
  {
   "cell_type": "code",
   "execution_count": 88,
   "id": "eababe45-28d5-45f2-a66e-9bccdeebf159",
   "metadata": {},
   "outputs": [
    {
     "data": {
      "text/html": [
       "<div>\n",
       "<style scoped>\n",
       "    .dataframe tbody tr th:only-of-type {\n",
       "        vertical-align: middle;\n",
       "    }\n",
       "\n",
       "    .dataframe tbody tr th {\n",
       "        vertical-align: top;\n",
       "    }\n",
       "\n",
       "    .dataframe thead th {\n",
       "        text-align: right;\n",
       "    }\n",
       "</style>\n",
       "<table border=\"1\" class=\"dataframe\">\n",
       "  <thead>\n",
       "    <tr style=\"text-align: right;\">\n",
       "      <th></th>\n",
       "      <th>known_hap</th>\n",
       "      <th>region</th>\n",
       "      <th>mat</th>\n",
       "    </tr>\n",
       "  </thead>\n",
       "  <tbody>\n",
       "    <tr>\n",
       "      <th>0</th>\n",
       "      <td>Maternal</td>\n",
       "      <td>chr1-mat-2</td>\n",
       "      <td>0</td>\n",
       "    </tr>\n",
       "    <tr>\n",
       "      <th>1</th>\n",
       "      <td>Maternal</td>\n",
       "      <td>chr1-mat-5</td>\n",
       "      <td>100</td>\n",
       "    </tr>\n",
       "    <tr>\n",
       "      <th>2</th>\n",
       "      <td>Maternal</td>\n",
       "      <td>chr1-mat-7</td>\n",
       "      <td>92.59</td>\n",
       "    </tr>\n",
       "    <tr>\n",
       "      <th>3</th>\n",
       "      <td>Maternal</td>\n",
       "      <td>chr1-mat-8</td>\n",
       "      <td>93.75</td>\n",
       "    </tr>\n",
       "    <tr>\n",
       "      <th>4</th>\n",
       "      <td>Maternal</td>\n",
       "      <td>chr10-mat-3</td>\n",
       "      <td>37.23</td>\n",
       "    </tr>\n",
       "  </tbody>\n",
       "</table>\n",
       "</div>"
      ],
      "text/plain": [
       "  known_hap       region    mat\n",
       "0  Maternal   chr1-mat-2      0\n",
       "1  Maternal   chr1-mat-5    100\n",
       "2  Maternal   chr1-mat-7  92.59\n",
       "3  Maternal   chr1-mat-8  93.75\n",
       "4  Maternal  chr10-mat-3  37.23"
      ]
     },
     "execution_count": 88,
     "metadata": {},
     "output_type": "execute_result"
    }
   ],
   "source": [
    "knownonly_mat = pd.read_csv(\"/vf/users/Phillippy/projects/HG002_Masseq/10.interpretation/HST-HSM/hg002.mat.known_only.median.bed\",\n",
    "                            sep ='\\t', \n",
    "                            header = None)\n",
    "knownonly_mat = knownonly_mat[[3,4,7]]\n",
    "knownonly_mat.columns = ['known_hap','region','mat']\n",
    "knownonly_mat.head()"
   ]
  },
  {
   "cell_type": "code",
   "execution_count": 89,
   "id": "bd2089db-ab8e-4127-8892-02c8739a1be4",
   "metadata": {
    "tags": []
   },
   "outputs": [
    {
     "data": {
      "text/html": [
       "<div>\n",
       "<style scoped>\n",
       "    .dataframe tbody tr th:only-of-type {\n",
       "        vertical-align: middle;\n",
       "    }\n",
       "\n",
       "    .dataframe tbody tr th {\n",
       "        vertical-align: top;\n",
       "    }\n",
       "\n",
       "    .dataframe thead th {\n",
       "        text-align: right;\n",
       "    }\n",
       "</style>\n",
       "<table border=\"1\" class=\"dataframe\">\n",
       "  <thead>\n",
       "    <tr style=\"text-align: right;\">\n",
       "      <th></th>\n",
       "      <th>region</th>\n",
       "      <th>pat</th>\n",
       "    </tr>\n",
       "  </thead>\n",
       "  <tbody>\n",
       "    <tr>\n",
       "      <th>0</th>\n",
       "      <td>chr1-mat-2</td>\n",
       "      <td>0</td>\n",
       "    </tr>\n",
       "    <tr>\n",
       "      <th>1</th>\n",
       "      <td>chr1-mat-5</td>\n",
       "      <td>100</td>\n",
       "    </tr>\n",
       "    <tr>\n",
       "      <th>2</th>\n",
       "      <td>chr1-mat-7</td>\n",
       "      <td>90.43</td>\n",
       "    </tr>\n",
       "    <tr>\n",
       "      <th>3</th>\n",
       "      <td>chr1-mat-8</td>\n",
       "      <td>94.115</td>\n",
       "    </tr>\n",
       "    <tr>\n",
       "      <th>4</th>\n",
       "      <td>chr10-mat-3</td>\n",
       "      <td>51.72</td>\n",
       "    </tr>\n",
       "  </tbody>\n",
       "</table>\n",
       "</div>"
      ],
      "text/plain": [
       "        region     pat\n",
       "0   chr1-mat-2       0\n",
       "1   chr1-mat-5     100\n",
       "2   chr1-mat-7   90.43\n",
       "3   chr1-mat-8  94.115\n",
       "4  chr10-mat-3   51.72"
      ]
     },
     "execution_count": 89,
     "metadata": {},
     "output_type": "execute_result"
    }
   ],
   "source": [
    "knownonly_pat = pd.read_csv(\"/vf/users/Phillippy/projects/HG002_Masseq/10.interpretation/HST-HSM/hg002.pat.known_only.median.bed\",\n",
    "                            sep ='\\t', \n",
    "                            header = None)\n",
    "knownonly_pat = knownonly_pat[[4,7]]\n",
    "knownonly_pat.columns = ['region','pat']\n",
    "knownonly_pat.head()"
   ]
  },
  {
   "cell_type": "code",
   "execution_count": 90,
   "id": "7587e095-9342-4cf1-b593-a64c0d30ad8f",
   "metadata": {
    "tags": []
   },
   "outputs": [
    {
     "data": {
      "text/html": [
       "<div>\n",
       "<style scoped>\n",
       "    .dataframe tbody tr th:only-of-type {\n",
       "        vertical-align: middle;\n",
       "    }\n",
       "\n",
       "    .dataframe tbody tr th {\n",
       "        vertical-align: top;\n",
       "    }\n",
       "\n",
       "    .dataframe thead th {\n",
       "        text-align: right;\n",
       "    }\n",
       "</style>\n",
       "<table border=\"1\" class=\"dataframe\">\n",
       "  <thead>\n",
       "    <tr style=\"text-align: right;\">\n",
       "      <th></th>\n",
       "      <th>known_hap</th>\n",
       "      <th>mat</th>\n",
       "      <th>pat</th>\n",
       "    </tr>\n",
       "  </thead>\n",
       "  <tbody>\n",
       "    <tr>\n",
       "      <th>0</th>\n",
       "      <td>Maternal</td>\n",
       "      <td>0</td>\n",
       "      <td>0</td>\n",
       "    </tr>\n",
       "    <tr>\n",
       "      <th>1</th>\n",
       "      <td>Maternal</td>\n",
       "      <td>100</td>\n",
       "      <td>100</td>\n",
       "    </tr>\n",
       "    <tr>\n",
       "      <th>2</th>\n",
       "      <td>Maternal</td>\n",
       "      <td>92.59</td>\n",
       "      <td>90.43</td>\n",
       "    </tr>\n",
       "  </tbody>\n",
       "</table>\n",
       "</div>"
      ],
      "text/plain": [
       "  known_hap    mat    pat\n",
       "0  Maternal      0      0\n",
       "1  Maternal    100    100\n",
       "2  Maternal  92.59  90.43"
      ]
     },
     "execution_count": 90,
     "metadata": {},
     "output_type": "execute_result"
    }
   ],
   "source": [
    "knownonly = pd.merge(knownonly_mat,knownonly_pat, on = ['region'])\n",
    "\n",
    "del knownonly['region']\n",
    "knownonly.head(3)"
   ]
  },
  {
   "cell_type": "code",
   "execution_count": 107,
   "id": "ad7c7a02-4717-42ee-8432-217b1c85a649",
   "metadata": {
    "tags": []
   },
   "outputs": [
    {
     "name": "stdout",
     "output_type": "stream",
     "text": [
      "     category    source   value\n",
      "0    Maternal  Maternal  0.0000\n",
      "1    Maternal  Maternal  1.0000\n",
      "2    Maternal  Maternal  0.9259\n",
      "3    Maternal  Maternal  0.9375\n",
      "4    Maternal  Maternal  0.3723\n",
      "..        ...       ...     ...\n",
      "267  Maternal  Paternal  0.9787\n",
      "268  Maternal  Paternal  0.9545\n",
      "269  Maternal  Paternal  0.0000\n",
      "270  Maternal  Paternal  1.0000\n",
      "271  Maternal  Paternal  1.0000\n",
      "\n",
      "[272 rows x 3 columns]\n"
     ]
    }
   ],
   "source": [
    "\n",
    "# Melt the DataFrame to reshape it\n",
    "df_melted = pd.melt(knownonly, id_vars='known_hap', var_name='source', value_name='value')\n",
    "\n",
    "# Rename the 'known_imprinted' column to 'category'\n",
    "df_melted = df_melted.rename(columns={'known_hap': 'category'})\n",
    "\n",
    "# Map the source values to 'mat' and 'pat'\n",
    "df_melted['source'] = df_melted['source'].map({'mat': 'Maternal', 'pat': 'Paternal'})\n",
    "# Assuming df_melted is your DataFrame\n",
    "df_melted['value'] = pd.to_numeric(df_melted['value'], errors='coerce')\n",
    "df_melted['value'] = df_melted['value']*.01\n",
    "print(df_melted)"
   ]
  },
  {
   "cell_type": "code",
   "execution_count": 109,
   "id": "48344a1b-c528-46c7-8fda-09d14ae9c018",
   "metadata": {
    "tags": []
   },
   "outputs": [
    {
     "name": "stdout",
     "output_type": "stream",
     "text": [
      "p-value annotation legend:\n",
      "ns: 5.00e-02 < p <= 1.00e+00\n",
      "*: 1.00e-02 < p <= 5.00e-02\n",
      "**: 1.00e-03 < p <= 1.00e-02\n",
      "***: 1.00e-04 < p <= 1.00e-03\n",
      "****: p <= 1.00e-04\n",
      "\n",
      "Paternal_Maternal v.s. Paternal_Paternal: t-test independent samples with Bonferroni correction, P_val=1.000e+00 stat=4.218e-02\n",
      "Maternal_Maternal v.s. Maternal_Paternal: t-test independent samples with Bonferroni correction, P_val=3.495e-01 stat=1.362e+00\n"
     ]
    },
    {
     "data": {
      "image/png": "[encoded data removed]",
      "text/plain": [
       "<Figure size 400x300 with 1 Axes>"
      ]
     },
     "metadata": {},
     "output_type": "display_data"
    }
   ],
   "source": [
    "fig, ax = plt.subplots(figsize=(4, 3))\n",
    "\n",
    "x = \"category\"\n",
    "y = \"value\"\n",
    "hue = \"source\"\n",
    "ax = sns.boxplot(data=df_melted, x=x, y=y, hue=hue,\n",
    "                # frameon = False,\n",
    "                )\n",
    "add_stat_annotation(ax, data=df_melted, x=x, y=y, hue=hue,\n",
    "                    box_pairs=[((\"Maternal\", \"Maternal\"), (\"Maternal\", \"Paternal\")),\n",
    "                                 ((\"Paternal\", \"Maternal\"), (\"Paternal\", \"Paternal\"))\n",
    "                                ],\n",
    "                    test='t-test_ind', text_format='star', loc='inside', verbose=2)\n",
    "\n",
    "ax.set_ylabel('methylation levels')\n",
    "ax.set_xlabel('Known imprinted methylation')\n",
    "\n",
    "\n",
    "ax.spines['left'].set_visible(False)\n",
    "ax.spines['bottom'].set_visible(False)\n",
    "ax.spines['top'].set_visible(False)\n",
    "ax.spines['right'].set_visible(False)\n",
    "\n",
    "plt.ylim(0,1)\n",
    "plt.legend(title='HG002 haplotype' , loc='upper left', bbox_to_anchor=(1.03, 1),frameon=False)\n",
    "\n",
    "plt.savefig(figdir + '/boxplot.methLevel.matvspat.inknownonly.png', bbox_inches='tight',dpi=300,transparent=True)"
   ]
  },
  {
   "cell_type": "code",
   "execution_count": 95,
   "id": "7d64464f-1480-47bf-8804-96334058b224",
   "metadata": {
    "tags": []
   },
   "outputs": [
    {
     "data": {
      "text/html": [
       "<div>\n",
       "<style scoped>\n",
       "    .dataframe tbody tr th:only-of-type {\n",
       "        vertical-align: middle;\n",
       "    }\n",
       "\n",
       "    .dataframe tbody tr th {\n",
       "        vertical-align: top;\n",
       "    }\n",
       "\n",
       "    .dataframe thead th {\n",
       "        text-align: right;\n",
       "    }\n",
       "</style>\n",
       "<table border=\"1\" class=\"dataframe\">\n",
       "  <thead>\n",
       "    <tr style=\"text-align: right;\">\n",
       "      <th></th>\n",
       "      <th>0</th>\n",
       "      <th>1</th>\n",
       "      <th>2</th>\n",
       "      <th>3</th>\n",
       "      <th>4</th>\n",
       "      <th>5</th>\n",
       "      <th>6</th>\n",
       "      <th>7</th>\n",
       "      <th>8</th>\n",
       "      <th>9</th>\n",
       "      <th>len</th>\n",
       "    </tr>\n",
       "  </thead>\n",
       "  <tbody>\n",
       "    <tr>\n",
       "      <th>0</th>\n",
       "      <td>chr1</td>\n",
       "      <td>29675</td>\n",
       "      <td>29983</td>\n",
       "      <td>309</td>\n",
       "      <td>7</td>\n",
       "      <td>0.722980</td>\n",
       "      <td>0.317880</td>\n",
       "      <td>0.405100</td>\n",
       "      <td>35.956545</td>\n",
       "      <td>chr1:29675-29983</td>\n",
       "      <td>308</td>\n",
       "    </tr>\n",
       "    <tr>\n",
       "      <th>1</th>\n",
       "      <td>chr1</td>\n",
       "      <td>31003</td>\n",
       "      <td>31385</td>\n",
       "      <td>383</td>\n",
       "      <td>18</td>\n",
       "      <td>0.881259</td>\n",
       "      <td>0.643392</td>\n",
       "      <td>0.237867</td>\n",
       "      <td>95.516186</td>\n",
       "      <td>chr1:31003-31385</td>\n",
       "      <td>382</td>\n",
       "    </tr>\n",
       "    <tr>\n",
       "      <th>2</th>\n",
       "      <td>chr1</td>\n",
       "      <td>31579</td>\n",
       "      <td>32695</td>\n",
       "      <td>1117</td>\n",
       "      <td>45</td>\n",
       "      <td>0.197803</td>\n",
       "      <td>0.662006</td>\n",
       "      <td>-0.464203</td>\n",
       "      <td>-462.182853</td>\n",
       "      <td>chr1:31579-32695</td>\n",
       "      <td>1116</td>\n",
       "    </tr>\n",
       "  </tbody>\n",
       "</table>\n",
       "</div>"
      ],
      "text/plain": [
       "      0      1      2     3   4         5         6         7           8  \\\n",
       "0  chr1  29675  29983   309   7  0.722980  0.317880  0.405100   35.956545   \n",
       "1  chr1  31003  31385   383  18  0.881259  0.643392  0.237867   95.516186   \n",
       "2  chr1  31579  32695  1117  45  0.197803  0.662006 -0.464203 -462.182853   \n",
       "\n",
       "                  9   len  \n",
       "0  chr1:29675-29983   308  \n",
       "1  chr1:31003-31385   382  \n",
       "2  chr1:31579-32695  1116  "
      ]
     },
     "execution_count": 95,
     "metadata": {},
     "output_type": "execute_result"
    }
   ],
   "source": [
    "hsm = pd.read_csv(\"/vf/users/Phillippy/projects/HG002_Masseq/10.interpretation/HST-HSM/HSM.tsv\",\n",
    "                 sep = '\\t',\n",
    "                 header = None)\n",
    "hsm['len'] = hsm[2]-hsm[1]\n",
    "hsm.head(3)"
   ]
  },
  {
   "cell_type": "code",
   "execution_count": 102,
   "id": "7977f070-86b3-4ba9-b404-5e34d07dac04",
   "metadata": {
    "tags": []
   },
   "outputs": [
    {
     "data": {
      "image/png": "[encoded data removed]",
      "text/plain": [
       "<Figure size 3000x300 with 1 Axes>"
      ]
     },
     "metadata": {},
     "output_type": "display_data"
    }
   ],
   "source": [
    "fig = plt.figure(figsize=(30, 3))\n",
    "plt.hist(hsm.len, bins=10000,log=True)\n",
    "\n",
    "# Adding x-axis and y-axis labels\n",
    "plt.xlabel('TPM', fontsize=10)\n",
    "plt.ylabel('Frequency', fontsize=10)\n",
    "plt.title('Histogram of TPM from HG002 isoseq', fontsize=12)\n",
    "#plt.ylim(0,10)\n",
    "plt.savefig(figdir + '/hist.hsm_hg002.len.png', bbox_inches='tight',dpi=300,transparent=True)\n",
    "\n",
    "plt.show() "
   ]
  },
  {
   "cell_type": "code",
   "execution_count": 98,
   "id": "249b445f-17ee-4c48-b3b1-069a319dfe1e",
   "metadata": {
    "tags": []
   },
   "outputs": [
    {
     "data": {
      "text/html": [
       "<div>\n",
       "<style scoped>\n",
       "    .dataframe tbody tr th:only-of-type {\n",
       "        vertical-align: middle;\n",
       "    }\n",
       "\n",
       "    .dataframe tbody tr th {\n",
       "        vertical-align: top;\n",
       "    }\n",
       "\n",
       "    .dataframe thead th {\n",
       "        text-align: right;\n",
       "    }\n",
       "</style>\n",
       "<table border=\"1\" class=\"dataframe\">\n",
       "  <thead>\n",
       "    <tr style=\"text-align: right;\">\n",
       "      <th></th>\n",
       "      <th>0</th>\n",
       "      <th>1</th>\n",
       "      <th>2</th>\n",
       "      <th>3</th>\n",
       "      <th>4</th>\n",
       "      <th>5</th>\n",
       "      <th>6</th>\n",
       "      <th>len</th>\n",
       "    </tr>\n",
       "  </thead>\n",
       "  <tbody>\n",
       "    <tr>\n",
       "      <th>0</th>\n",
       "      <td>chr1</td>\n",
       "      <td>11044370</td>\n",
       "      <td>11044544</td>\n",
       "      <td>Maternal</td>\n",
       "      <td>chr1-mat-1</td>\n",
       "      <td>PTCHD2</td>\n",
       "      <td>Hernandez</td>\n",
       "      <td>174</td>\n",
       "    </tr>\n",
       "    <tr>\n",
       "      <th>1</th>\n",
       "      <td>chr1</td>\n",
       "      <td>21120031</td>\n",
       "      <td>21120143</td>\n",
       "      <td>Maternal</td>\n",
       "      <td>chr1-mat-2</td>\n",
       "      <td>ECE1,LOC100506801</td>\n",
       "      <td>Hernandez</td>\n",
       "      <td>112</td>\n",
       "    </tr>\n",
       "    <tr>\n",
       "      <th>2</th>\n",
       "      <td>chr1</td>\n",
       "      <td>32329102</td>\n",
       "      <td>32329320</td>\n",
       "      <td>Maternal</td>\n",
       "      <td>chr1-mat-3</td>\n",
       "      <td>ZBTB8B</td>\n",
       "      <td>Joshi</td>\n",
       "      <td>218</td>\n",
       "    </tr>\n",
       "  </tbody>\n",
       "</table>\n",
       "</div>"
      ],
      "text/plain": [
       "      0         1         2         3           4                  5  \\\n",
       "0  chr1  11044370  11044544  Maternal  chr1-mat-1             PTCHD2   \n",
       "1  chr1  21120031  21120143  Maternal  chr1-mat-2  ECE1,LOC100506801   \n",
       "2  chr1  32329102  32329320  Maternal  chr1-mat-3             ZBTB8B   \n",
       "\n",
       "           6  len  \n",
       "0  Hernandez  174  \n",
       "1  Hernandez  112  \n",
       "2      Joshi  218  "
      ]
     },
     "execution_count": 98,
     "metadata": {},
     "output_type": "execute_result"
    }
   ],
   "source": [
    "\n",
    "\n",
    "idmr = pd.read_csv('/vf/users/Phillippy/projects/HG002_Masseq/10.interpretation/HST-HSM/iDMR-v1.chm13_coor.bed',\n",
    "                 sep = '\\t',\n",
    "                 header = None)\n",
    "idmr['len'] = idmr[2]-idmr[1]\n",
    "idmr.head(3)"
   ]
  },
  {
   "cell_type": "code",
   "execution_count": 101,
   "id": "31431330-bb1f-4d3d-a7f7-9e0ff72f4b3f",
   "metadata": {
    "tags": []
   },
   "outputs": [
    {
     "data": {
      "image/png": "[encoded data removed]",
      "text/plain": [
       "<Figure size 3000x300 with 1 Axes>"
      ]
     },
     "metadata": {},
     "output_type": "display_data"
    }
   ],
   "source": [
    "fig = plt.figure(figsize=(30, 3))\n",
    "plt.hist(idmr.len, bins=10000,log=True)\n",
    "\n",
    "# Adding x-axis and y-axis labels\n",
    "plt.xlabel('TPM', fontsize=10)\n",
    "plt.ylabel('Frequency', fontsize=10)\n",
    "plt.title('Histogram of TPM from HG002 isoseq', fontsize=12)\n",
    "# plt.ylim(0,10)\n",
    "plt.savefig(figdir + '/hist.idmr.len.png', bbox_inches='tight',dpi=300,transparent=True)\n",
    "\n",
    "plt.show() "
   ]
  },
  {
   "cell_type": "code",
   "execution_count": null,
   "id": "e5048590-396f-49aa-a0b3-86abc829ee88",
   "metadata": {},
   "outputs": [],
   "source": []
  }
 ],
 "metadata": {
  "kernelspec": {
   "display_name": "plot_python",
   "language": "python",
   "name": "plot_python"
  },
  "language_info": {
   "codemirror_mode": {
    "name": "ipython",
    "version": 3
   },
   "file_extension": ".py",
   "mimetype": "text/x-python",
   "name": "python",
   "nbconvert_exporter": "python",
   "pygments_lexer": "ipython3",
   "version": "3.9.17"
  }
 },
 "nbformat": 4,
 "nbformat_minor": 5
}
