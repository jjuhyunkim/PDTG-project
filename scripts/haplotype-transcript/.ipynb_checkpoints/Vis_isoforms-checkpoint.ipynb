{
 "cells": [
  {
   "cell_type": "code",
   "execution_count": 1,
   "id": "1605dc8b-423d-4e1c-badb-e6e3723faa71",
   "metadata": {
    "tags": []
   },
   "outputs": [],
   "source": [
    "import swan_vis as swan\n",
    "import cv2\n",
    "from IPython.display import display, Image\n",
    "import pandas as pd"
   ]
  },
  {
   "cell_type": "code",
   "execution_count": 2,
   "id": "1e5cc053-1e62-4cbe-ba69-fe5bcd04390e",
   "metadata": {
    "tags": []
   },
   "outputs": [],
   "source": [
    "import os\n",
    "\n",
    "os.getcwd()\n",
    "os.chdir('/data/Phillippy/projects/HG002_Masseq/06.pantranscriptome/07.hg002v1.0.1/')"
   ]
  },
  {
   "cell_type": "code",
   "execution_count": 3,
   "id": "e62f761c-e413-44bd-8768-1c6e0cbf2e81",
   "metadata": {
    "tags": []
   },
   "outputs": [],
   "source": [
    "%matplotlib inline\n",
    "import swan_vis as swan"
   ]
  },
  {
   "cell_type": "markdown",
   "id": "31a4355e-90e5-46ef-b900-85947ffd0d31",
   "metadata": {},
   "source": [
    "## Load data"
   ]
  },
  {
   "cell_type": "raw",
   "id": "13e211b2-e1fd-4701-b711-a87aa6b89665",
   "metadata": {
    "tags": []
   },
   "source": [
    "# initialize a new SwanGraph\n",
    "sg = swan.SwanGraph()\n",
    "sg"
   ]
  },
  {
   "cell_type": "raw",
   "id": "2c8b3894-d915-4ffd-9520-f1daf0d4943b",
   "metadata": {
    "tags": []
   },
   "source": [
    "# save the SwanGraph as a Python pickle file\n",
    "sg.save_graph('/data/Phillippy/projects/HG002_Masseq/06.pantranscriptome/07.hg002v1.0.1/swan.p')"
   ]
  },
  {
   "cell_type": "raw",
   "id": "846fe0cf-eaa9-4f84-8e9d-9645d31d3d4a",
   "metadata": {
    "tags": []
   },
   "source": [
    "annot_gtf = '/data/Phillippy/projects/HG002_Masseq/05.mergeGFF/chm13.vs.chm13/5.1_merge_woUCSC_agat/chm13.v2.0_rCRS.refseq_JHU.sorted.gtf'\n",
    "data_gtf = '/data/Phillippy/projects/HG002_Masseq/06.pantranscriptome/07.hg002v1.0.1/00.references/chm13.hg002_read.isoquantModel.squanti3_rescued.gtf'"
   ]
  },
  {
   "cell_type": "raw",
   "id": "b6c52f1c-c521-4116-aefb-c8fa04738a79",
   "metadata": {
    "tags": []
   },
   "source": [
    "annot_gtf = '/data/Phillippy/projects/HG002_Masseq/03.align/HG002_Bulk/01.mapped/chm13_2312_2/gtf/chm13v2.0.refseq_curated5.1.rCRS.chrEBV.combined.gtf'\n",
    "data_gtf = '/data/Phillippy/projects/HG002_Masseq/06.pantranscriptome/07.hg002v1.0.1/00.references/chm13.hg002_read.isoquantModel.squanti3_rescued.gtf'"
   ]
  },
  {
   "cell_type": "raw",
   "id": "9c97b67a-c975-4a1d-b390-be8e10408e6b",
   "metadata": {
    "tags": []
   },
   "source": [
    "# add an annotation transcriptome\n",
    "sg.add_annotation(annot_gtf)"
   ]
  },
  {
   "cell_type": "raw",
   "id": "0e874b00-77a0-4cb4-9316-2b63bc126133",
   "metadata": {
    "tags": []
   },
   "source": [
    "# add a dataset's transcriptome to the SwanGraph\n",
    "sg.add_transcriptome(data_gtf)"
   ]
  },
  {
   "cell_type": "raw",
   "id": "d2dd3038-4374-4184-adf1-1a10ae6eb308",
   "metadata": {
    "tags": []
   },
   "source": [
    "# save the SwanGraph as a Python pickle file\n",
    "sg.save_graph('/data/Phillippy/projects/HG002_Masseq/06.pantranscriptome/07.hg002v1.0.1/swanv2.p')"
   ]
  },
  {
   "cell_type": "code",
   "execution_count": 4,
   "id": "90b12eec-c242-4c92-b19b-046ba92c7c5e",
   "metadata": {
    "tags": []
   },
   "outputs": [
    {
     "name": "stdout",
     "output_type": "stream",
     "text": [
      "Read in graph from /data/Phillippy/projects/HG002_Masseq/06.pantranscriptome/07.hg002v1.0.1/swanv2.p.p\n"
     ]
    }
   ],
   "source": [
    "## Load graph\n",
    "# load up a saved SwanGraph from a pickle file\n",
    "sg = swan.read('/data/Phillippy/projects/HG002_Masseq/06.pantranscriptome/07.hg002v1.0.1/swanv2.p.p')"
   ]
  },
  {
   "cell_type": "markdown",
   "id": "2af4cde2-c885-4073-93de-652888186183",
   "metadata": {},
   "source": [
    "# analysis "
   ]
  },
  {
   "cell_type": "raw",
   "id": "1bbc26af-eb3f-4f53-9502-64aa1dc02d83",
   "metadata": {
    "tags": []
   },
   "source": [
    "es_df = sg.find_es_genes(verbose=True) # novel exon skipping events"
   ]
  },
  {
   "cell_type": "raw",
   "id": "d5f0275d-c63c-4403-8780-5d5110ca8dee",
   "metadata": {
    "tags": []
   },
   "source": [
    "es_df.head()"
   ]
  },
  {
   "cell_type": "raw",
   "id": "d45e2e86-669f-4603-a5dc-0c0270e528d4",
   "metadata": {
    "tags": []
   },
   "source": [
    "ir_df = sg.find_ir_genes(verbose=True) # novel intron retention "
   ]
  },
  {
   "cell_type": "raw",
   "id": "a2ab82ca-1691-422c-add6-3c775f7a4fa3",
   "metadata": {
    "tags": []
   },
   "source": [
    "ir_df.head()"
   ]
  },
  {
   "cell_type": "markdown",
   "id": "33a4398a-17d4-425d-a411-dd0481af1626",
   "metadata": {},
   "source": [
    "# VIs"
   ]
  },
  {
   "cell_type": "code",
   "execution_count": null,
   "id": "e6a15556-f81d-450f-8ea2-c8484921d27c",
   "metadata": {
    "tags": []
   },
   "outputs": [],
   "source": [
    "ab = '/data/Phillippy/projects/HG002_Masseq/06.pantranscriptome/07.hg002v1.0.1/05.quantification/hg002v101.allGene.isoquantModel.rpvg_joint.max.hap.txt'\n",
    "sg.add_abundance(ab)"
   ]
  },
  {
   "cell_type": "code",
   "execution_count": 19,
   "id": "2294b569-20dd-4344-88fe-4955339fd9c7",
   "metadata": {
    "tags": []
   },
   "outputs": [],
   "source": [
    "order_trans = ['TCONS_00020367', 'TCONS_00020366', 'TCONS_00020368', 'TCONS_00020364']"
   ]
  },
  {
   "cell_type": "code",
   "execution_count": 20,
   "id": "79d007f8-f0a8-49d6-947b-b2d9c64832bb",
   "metadata": {
    "tags": []
   },
   "outputs": [
    {
     "name": "stdout",
     "output_type": "stream",
     "text": [
      "Saving transcript path graph for TCONS_00020367 as figures/trans_browser_TCONS_00020367_path.png\n",
      "Saving transcript path graph for TCONS_00020366 as figures/trans_browser_TCONS_00020366_path.png\n",
      "Saving transcript path graph for TCONS_00020368 as figures/trans_browser_TCONS_00020368_path.png\n",
      "Saving transcript path graph for TCONS_00020364 as figures/trans_browser_TCONS_00020364_path.png\n"
     ]
    }
   ],
   "source": [
    "sg.plot_each_transcript(order_trans, browser=True, prefix = 'figures/trans')"
   ]
  },
  {
   "cell_type": "code",
   "execution_count": 21,
   "id": "be7c4c10-bbc4-4e9a-8c4e-95feba8675ba",
   "metadata": {
    "tags": []
   },
   "outputs": [
    {
     "data": {
      "image/png": "[encoded data removed]",
      "text/plain": [
       "<Figure size 640x480 with 1 Axes>"
      ]
     },
     "metadata": {},
     "output_type": "display_data"
    }
   ],
   "source": [
    "import glob\n",
    "import matplotlib.pyplot as plt\n",
    "from PIL import Image as PILImage\n",
    "\n",
    "# Create a figure and axis\n",
    "fig, ax = plt.subplots()\n",
    "\n",
    "# Define the offset for overlapping\n",
    "offset_x = 0\n",
    "offset_y = 50\n",
    "new_width=1000\n",
    "new_height = 200\n",
    "# Iterate over each transformation\n",
    "for i, trans in enumerate(order_trans):\n",
    "    imageName = glob.glob('figures/*_browser_'+trans+'*.png')[0]\n",
    "    img = PILImage.open(imageName)\n",
    "    img = img.resize((new_width, new_height))  # Replace new_width and new_height with your desired dimensions\n",
    "    \n",
    "    # Adjust the position of the image based on the offset\n",
    "    x_offset = i * offset_x\n",
    "    y_offset = i * offset_y\n",
    "    ax.imshow(img, alpha=1, extent=[-x_offset, new_width - x_offset, -y_offset, new_height - y_offset])\n",
    "\n",
    "# Set the limits of the plot\n",
    "ax.set_xlim(-offset_x * len(order_trans), new_width)\n",
    "ax.set_ylim(-offset_y * len(order_trans), new_height)\n",
    "\n",
    "# Turn off axis\n",
    "ax.axis('off')\n",
    "\n",
    "# Show the overlapped images\n",
    "plt.show()\n"
   ]
  },
  {
   "cell_type": "code",
   "execution_count": 15,
   "id": "8d32ad8d-c5a0-4ffa-982d-dd67b6950e3c",
   "metadata": {
    "tags": []
   },
   "outputs": [
    {
     "ename": "NameError",
     "evalue": "name 'gene' is not defined",
     "output_type": "error",
     "traceback": [
      "\u001b[0;31m---------------------------------------------------------------------------\u001b[0m",
      "\u001b[0;31mNameError\u001b[0m                                 Traceback (most recent call last)",
      "Cell \u001b[0;32mIn[15], line 1\u001b[0m\n\u001b[0;32m----> 1\u001b[0m sg\u001b[38;5;241m.\u001b[39mgen_report( gid \u001b[38;5;241m=\u001b[39m \u001b[43mgene\u001b[49m,\n\u001b[1;32m      2\u001b[0m               prefix\u001b[38;5;241m=\u001b[39m\u001b[38;5;124m'\u001b[39m\u001b[38;5;124mfigures/isoform\u001b[39m\u001b[38;5;124m'\u001b[39m,\n\u001b[1;32m      3\u001b[0m               browser\u001b[38;5;241m=\u001b[39m\u001b[38;5;28;01mTrue\u001b[39;00m,\n\u001b[1;32m      4\u001b[0m              order \u001b[38;5;241m=\u001b[39m \u001b[38;5;124m'\u001b[39m\u001b[38;5;124mtss\u001b[39m\u001b[38;5;124m'\u001b[39m)\n",
      "\u001b[0;31mNameError\u001b[0m: name 'gene' is not defined"
     ]
    }
   ],
   "source": [
    "sg.gen_report( gid = gene,\n",
    "              prefix='figures/isoform',\n",
    "              browser=True,\n",
    "             order = 'tss')"
   ]
  },
  {
   "cell_type": "code",
   "execution_count": 65,
   "id": "bb8cd0ed-23c6-41c1-95fc-2b94700a5dd0",
   "metadata": {},
   "outputs": [
    {
     "data": {
      "text/html": [
       "<details>\n",
       "<summary>Click to view session information</summary>\n",
       "<pre>\n",
       "-----\n",
       "pandas              1.5.3\n",
       "session_info        1.0.0\n",
       "swan_vis            NA\n",
       "-----\n",
       "</pre>\n",
       "<details>\n",
       "<summary>Click to view modules imported as dependencies</summary>\n",
       "<pre>\n",
       "PIL                         10.0.0\n",
       "anndata                     0.10.3\n",
       "anyio                       NA\n",
       "arrow                       1.2.3\n",
       "asttokens                   NA\n",
       "attr                        23.1.0\n",
       "attrs                       23.1.0\n",
       "babel                       2.12.1\n",
       "backcall                    0.2.0\n",
       "certifi                     2023.07.22\n",
       "cffi                        1.15.1\n",
       "charset_normalizer          3.2.0\n",
       "comm                        0.1.4\n",
       "cycler                      0.10.0\n",
       "cython_runtime              NA\n",
       "dateutil                    2.8.2\n",
       "debugpy                     1.6.7.post1\n",
       "decorator                   5.1.1\n",
       "defusedxml                  0.7.1\n",
       "exceptiongroup              1.1.3\n",
       "executing                   1.2.0\n",
       "fastjsonschema              NA\n",
       "fpdf                        1.7.2\n",
       "fqdn                        NA\n",
       "get_annotations             NA\n",
       "h5py                        3.10.0\n",
       "idna                        3.4\n",
       "importlib_metadata          NA\n",
       "importlib_resources         NA\n",
       "ipykernel                   6.25.1\n",
       "isoduration                 NA\n",
       "jedi                        0.19.0\n",
       "jinja2                      3.1.2\n",
       "joblib                      1.3.2\n",
       "json5                       NA\n",
       "jsonpointer                 2.4\n",
       "jsonschema                  4.19.0\n",
       "jsonschema_specifications   NA\n",
       "jupyter_events              0.7.0\n",
       "jupyter_server              2.7.2\n",
       "jupyterlab_server           2.24.0\n",
       "kiwisolver                  1.4.4\n",
       "llvmlite                    0.41.1\n",
       "markupsafe                  2.1.3\n",
       "matplotlib                  3.7.2\n",
       "matplotlib_inline           0.1.6\n",
       "mpl_toolkits                NA\n",
       "natsort                     8.4.0\n",
       "nbformat                    5.9.2\n",
       "networkx                    3.2.1\n",
       "numba                       0.58.1\n",
       "numpy                       1.26.0\n",
       "overrides                   NA\n",
       "packaging                   23.1\n",
       "parso                       0.8.3\n",
       "patsy                       0.5.4\n",
       "pexpect                     4.8.0\n",
       "pickleshare                 0.7.5\n",
       "pkg_resources               NA\n",
       "platformdirs                3.10.0\n",
       "prometheus_client           NA\n",
       "prompt_toolkit              3.0.39\n",
       "psutil                      5.9.5\n",
       "ptyprocess                  0.7.0\n",
       "pure_eval                   0.2.2\n",
       "pydev_ipython               NA\n",
       "pydevconsole                NA\n",
       "pydevd                      2.9.5\n",
       "pydevd_file_utils           NA\n",
       "pydevd_plugins              NA\n",
       "pydevd_tracing              NA\n",
       "pygments                    2.16.1\n",
       "pyparsing                   3.0.9\n",
       "pythonjsonlogger            NA\n",
       "pytz                        2023.3\n",
       "referencing                 NA\n",
       "requests                    2.31.0\n",
       "rfc3339_validator           0.1.4\n",
       "rfc3986_validator           0.1.1\n",
       "rpds                        NA\n",
       "scanpy                      1.9.6\n",
       "scipy                       1.11.4\n",
       "send2trash                  NA\n",
       "six                         1.16.0\n",
       "sklearn                     1.3.2\n",
       "sniffio                     1.3.0\n",
       "stack_data                  0.6.2\n",
       "statsmodels                 0.14.1\n",
       "threadpoolctl               3.2.0\n",
       "tornado                     6.3.3\n",
       "tqdm                        4.66.1\n",
       "traitlets                   5.9.0\n",
       "typing_extensions           NA\n",
       "uri_template                NA\n",
       "urllib3                     2.0.4\n",
       "wcwidth                     0.2.6\n",
       "webcolors                   1.13\n",
       "websocket                   1.6.1\n",
       "yaml                        6.0.1\n",
       "zipp                        NA\n",
       "zmq                         25.1.1\n",
       "zoneinfo                    NA\n",
       "</pre>\n",
       "</details> <!-- seems like this ends pre, so might as well be explicit -->\n",
       "<pre>\n",
       "-----\n",
       "IPython             8.14.0\n",
       "jupyter_client      8.3.0\n",
       "jupyter_core        5.3.1\n",
       "jupyterlab          4.0.5\n",
       "notebook            7.0.2\n",
       "-----\n",
       "Python 3.9.17 | packaged by conda-forge | (main, Aug 10 2023, 07:02:31) [GCC 12.3.0]\n",
       "Linux-4.18.0-425.19.2.el8_7.x86_64-x86_64-with-glibc2.28\n",
       "-----\n",
       "Session information updated at 2024-03-29 16:43\n",
       "</pre>\n",
       "</details>"
      ],
      "text/plain": [
       "<IPython.core.display.HTML object>"
      ]
     },
     "execution_count": 65,
     "metadata": {},
     "output_type": "execute_result"
    }
   ],
   "source": [
    "import session_info\n",
    "\n",
    "\n",
    "session_info.show()"
   ]
  },
  {
   "cell_type": "code",
   "execution_count": null,
   "id": "3a2de176-b5e6-46d4-8abb-bbc7a52469f0",
   "metadata": {},
   "outputs": [],
   "source": []
  }
 ],
 "metadata": {
  "kernelspec": {
   "display_name": "plot_python",
   "language": "python",
   "name": "plot_python"
  },
  "language_info": {
   "codemirror_mode": {
    "name": "ipython",
    "version": 3
   },
   "file_extension": ".py",
   "mimetype": "text/x-python",
   "name": "python",
   "nbconvert_exporter": "python",
   "pygments_lexer": "ipython3",
   "version": "3.9.17"
  }
 },
 "nbformat": 4,
 "nbformat_minor": 5
}
