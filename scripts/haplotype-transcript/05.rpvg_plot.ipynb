{
 "cells": [
  {
   "cell_type": "markdown",
   "id": "64bd2a63-e146-4ef3-ad62-b3fc94aa59b9",
   "metadata": {},
   "source": [
    "# import modules"
   ]
  },
  {
   "cell_type": "code",
   "execution_count": 1,
   "id": "ad1468d2-0601-4fc9-9721-89bed7369886",
   "metadata": {
    "tags": []
   },
   "outputs": [],
   "source": [
    "import pandas as pd\n",
    "from Bio import SeqIO\n",
    "from Bio import Entrez\n",
    "from Bio.Blast import NCBIXML\n",
    "from Bio.Blast import NCBIWWW\n",
    "from Bio import ExPASy\n",
    "import biomart \n",
    "import swan_vis as swan\n",
    "import cv2\n",
    "from IPython.display import display, Image\n",
    "import pandas as pd\n",
    "%matplotlib inline\n",
    "import swan_vis as swan"
   ]
  },
  {
   "cell_type": "code",
   "execution_count": 2,
   "id": "bf34ec2a-efe1-4cde-b17a-215346ecf92a",
   "metadata": {
    "tags": []
   },
   "outputs": [
    {
     "name": "stdout",
     "output_type": "stream",
     "text": [
      "Read in graph from /data/Phillippy/projects/HG002_Masseq/06.pantranscriptome/07.hg002v1.0.1/swanv2.p.p\n"
     ]
    }
   ],
   "source": [
    "## Load graph\n",
    "# load up a saved SwanGraph from a pickle file\n",
    "sg = swan.read('/data/Phillippy/projects/HG002_Masseq/06.pantranscriptome/07.hg002v1.0.1/swanv2.p.p')"
   ]
  },
  {
   "cell_type": "code",
   "execution_count": 3,
   "id": "dfddea10-e001-4252-bcf5-85f499c77961",
   "metadata": {
    "tags": []
   },
   "outputs": [],
   "source": [
    "import os\n",
    "\n",
    "os.getcwd()\n",
    "os.chdir('/data/Phillippy/projects/HG002_Masseq/06.pantranscriptome/07.hg002v1.0.1/')"
   ]
  },
  {
   "cell_type": "markdown",
   "id": "c343b9bc-6183-437e-b5ad-9264d193645c",
   "metadata": {},
   "source": [
    "## Plot"
   ]
  },
  {
   "cell_type": "code",
   "execution_count": 4,
   "id": "36bfbdd0-63e8-4484-91d5-de7b77e56ae9",
   "metadata": {
    "tags": []
   },
   "outputs": [
    {
     "name": "stdout",
     "output_type": "stream",
     "text": [
      "Warning: Cannot change to a different GUI toolkit: widget. Using notebook instead.\n"
     ]
    }
   ],
   "source": [
    "import matplotlib.pyplot as plt\n",
    "import matplotlib as mpl\n",
    "import pandas as pd\n",
    "import numpy as np\n",
    "import seaborn as sns\n",
    "sns.set()\n",
    "%matplotlib notebook\n",
    "%matplotlib widget\n",
    "%matplotlib inline"
   ]
  },
  {
   "cell_type": "code",
   "execution_count": 5,
   "id": "ffd907ba-0498-4591-ad11-d2aded067f95",
   "metadata": {
    "tags": []
   },
   "outputs": [
    {
     "data": {
      "text/html": [
       "<div>\n",
       "<style scoped>\n",
       "    .dataframe tbody tr th:only-of-type {\n",
       "        vertical-align: middle;\n",
       "    }\n",
       "\n",
       "    .dataframe tbody tr th {\n",
       "        vertical-align: top;\n",
       "    }\n",
       "\n",
       "    .dataframe thead th {\n",
       "        text-align: right;\n",
       "    }\n",
       "</style>\n",
       "<table border=\"1\" class=\"dataframe\">\n",
       "  <thead>\n",
       "    <tr style=\"text-align: right;\">\n",
       "      <th></th>\n",
       "      <th>Name_1</th>\n",
       "      <th>Name_2</th>\n",
       "      <th>ClusterID</th>\n",
       "      <th>HaplotypingProbability</th>\n",
       "      <th>ReadCount_1</th>\n",
       "      <th>TPM_1</th>\n",
       "      <th>ReadCount_2</th>\n",
       "      <th>TPM_2</th>\n",
       "      <th>trans</th>\n",
       "      <th>gene</th>\n",
       "      <th>geneName</th>\n",
       "      <th>max</th>\n",
       "      <th>Minimum_TPM</th>\n",
       "    </tr>\n",
       "  </thead>\n",
       "  <tbody>\n",
       "    <tr>\n",
       "      <th>0</th>\n",
       "      <td>TCONS_00020747_R1</td>\n",
       "      <td>TCONS_00020747_H1</td>\n",
       "      <td>20</td>\n",
       "      <td>1.0</td>\n",
       "      <td>0.000000</td>\n",
       "      <td>0.000000</td>\n",
       "      <td>0.00000</td>\n",
       "      <td>0.000000</td>\n",
       "      <td>TCONS_00020747</td>\n",
       "      <td>XLOC_005166</td>\n",
       "      <td>WASHC2A</td>\n",
       "      <td>T</td>\n",
       "      <td>0.000000</td>\n",
       "    </tr>\n",
       "    <tr>\n",
       "      <th>1</th>\n",
       "      <td>transcript12583.chr10.nic_R1</td>\n",
       "      <td>transcript12583.chr10.nic_H1</td>\n",
       "      <td>20</td>\n",
       "      <td>1.0</td>\n",
       "      <td>400.482380</td>\n",
       "      <td>50.293997</td>\n",
       "      <td>233.34355</td>\n",
       "      <td>29.312355</td>\n",
       "      <td>transcript12583.chr10.nic</td>\n",
       "      <td>XLOC_005166</td>\n",
       "      <td>WASHC2A</td>\n",
       "      <td>T</td>\n",
       "      <td>29.312355</td>\n",
       "    </tr>\n",
       "    <tr>\n",
       "      <th>2</th>\n",
       "      <td>TCONS_00020735_R1</td>\n",
       "      <td>TCONS_00020735_H1</td>\n",
       "      <td>20</td>\n",
       "      <td>1.0</td>\n",
       "      <td>14.922362</td>\n",
       "      <td>6.534654</td>\n",
       "      <td>0.00000</td>\n",
       "      <td>0.000000</td>\n",
       "      <td>TCONS_00020735</td>\n",
       "      <td>XLOC_005166</td>\n",
       "      <td>WASHC2A</td>\n",
       "      <td>T</td>\n",
       "      <td>0.000000</td>\n",
       "    </tr>\n",
       "    <tr>\n",
       "      <th>3</th>\n",
       "      <td>TCONS_00020751_R1</td>\n",
       "      <td>TCONS_00020751_H1</td>\n",
       "      <td>20</td>\n",
       "      <td>1.0</td>\n",
       "      <td>0.000000</td>\n",
       "      <td>0.000000</td>\n",
       "      <td>0.00000</td>\n",
       "      <td>0.000000</td>\n",
       "      <td>TCONS_00020751</td>\n",
       "      <td>XLOC_005166</td>\n",
       "      <td>WASHC2A</td>\n",
       "      <td>T</td>\n",
       "      <td>0.000000</td>\n",
       "    </tr>\n",
       "    <tr>\n",
       "      <th>4</th>\n",
       "      <td>TCONS_00020739_R1</td>\n",
       "      <td>TCONS_00020739_H1</td>\n",
       "      <td>20</td>\n",
       "      <td>1.0</td>\n",
       "      <td>0.000000</td>\n",
       "      <td>0.000000</td>\n",
       "      <td>0.00000</td>\n",
       "      <td>0.000000</td>\n",
       "      <td>TCONS_00020739</td>\n",
       "      <td>XLOC_005166</td>\n",
       "      <td>WASHC2A</td>\n",
       "      <td>T</td>\n",
       "      <td>0.000000</td>\n",
       "    </tr>\n",
       "    <tr>\n",
       "      <th>...</th>\n",
       "      <td>...</td>\n",
       "      <td>...</td>\n",
       "      <td>...</td>\n",
       "      <td>...</td>\n",
       "      <td>...</td>\n",
       "      <td>...</td>\n",
       "      <td>...</td>\n",
       "      <td>...</td>\n",
       "      <td>...</td>\n",
       "      <td>...</td>\n",
       "      <td>...</td>\n",
       "      <td>...</td>\n",
       "      <td>...</td>\n",
       "    </tr>\n",
       "    <tr>\n",
       "      <th>6464</th>\n",
       "      <td>TCONS_00037843_H1</td>\n",
       "      <td>TCONS_00037843_H1</td>\n",
       "      <td>2468</td>\n",
       "      <td>1.0</td>\n",
       "      <td>0.000000</td>\n",
       "      <td>0.000000</td>\n",
       "      <td>0.00000</td>\n",
       "      <td>0.000000</td>\n",
       "      <td>TCONS_00037843</td>\n",
       "      <td>XLOC_009201</td>\n",
       "      <td>MSANTD2</td>\n",
       "      <td>T</td>\n",
       "      <td>0.000000</td>\n",
       "    </tr>\n",
       "    <tr>\n",
       "      <th>6465</th>\n",
       "      <td>TCONS_00037841_H1</td>\n",
       "      <td>TCONS_00037841_H1</td>\n",
       "      <td>2468</td>\n",
       "      <td>1.0</td>\n",
       "      <td>0.000000</td>\n",
       "      <td>0.000000</td>\n",
       "      <td>0.00000</td>\n",
       "      <td>0.000000</td>\n",
       "      <td>TCONS_00037841</td>\n",
       "      <td>XLOC_009201</td>\n",
       "      <td>MSANTD2</td>\n",
       "      <td>T</td>\n",
       "      <td>0.000000</td>\n",
       "    </tr>\n",
       "    <tr>\n",
       "      <th>6466</th>\n",
       "      <td>TCONS_00037838_H1</td>\n",
       "      <td>TCONS_00037838_H1</td>\n",
       "      <td>2468</td>\n",
       "      <td>1.0</td>\n",
       "      <td>0.000000</td>\n",
       "      <td>0.000000</td>\n",
       "      <td>0.00000</td>\n",
       "      <td>0.000000</td>\n",
       "      <td>TCONS_00037838</td>\n",
       "      <td>XLOC_009201</td>\n",
       "      <td>MSANTD2</td>\n",
       "      <td>T</td>\n",
       "      <td>0.000000</td>\n",
       "    </tr>\n",
       "    <tr>\n",
       "      <th>6467</th>\n",
       "      <td>TCONS_00037840_H1</td>\n",
       "      <td>TCONS_00037840_H1</td>\n",
       "      <td>2468</td>\n",
       "      <td>1.0</td>\n",
       "      <td>0.000000</td>\n",
       "      <td>0.000000</td>\n",
       "      <td>0.00000</td>\n",
       "      <td>0.000000</td>\n",
       "      <td>TCONS_00037840</td>\n",
       "      <td>XLOC_009201</td>\n",
       "      <td>MSANTD2</td>\n",
       "      <td>T</td>\n",
       "      <td>0.000000</td>\n",
       "    </tr>\n",
       "    <tr>\n",
       "      <th>6468</th>\n",
       "      <td>transcript44779.chr11.nic_H1</td>\n",
       "      <td>transcript44779.chr11.nic_H2</td>\n",
       "      <td>2468</td>\n",
       "      <td>0.5</td>\n",
       "      <td>0.000000</td>\n",
       "      <td>0.000000</td>\n",
       "      <td>0.00000</td>\n",
       "      <td>0.000000</td>\n",
       "      <td>transcript44779.chr11.nic</td>\n",
       "      <td>XLOC_009201</td>\n",
       "      <td>MSANTD2</td>\n",
       "      <td>T</td>\n",
       "      <td>0.000000</td>\n",
       "    </tr>\n",
       "  </tbody>\n",
       "</table>\n",
       "<p>6469 rows × 13 columns</p>\n",
       "</div>"
      ],
      "text/plain": [
       "                            Name_1                        Name_2  ClusterID  \\\n",
       "0                TCONS_00020747_R1             TCONS_00020747_H1         20   \n",
       "1     transcript12583.chr10.nic_R1  transcript12583.chr10.nic_H1         20   \n",
       "2                TCONS_00020735_R1             TCONS_00020735_H1         20   \n",
       "3                TCONS_00020751_R1             TCONS_00020751_H1         20   \n",
       "4                TCONS_00020739_R1             TCONS_00020739_H1         20   \n",
       "...                            ...                           ...        ...   \n",
       "6464             TCONS_00037843_H1             TCONS_00037843_H1       2468   \n",
       "6465             TCONS_00037841_H1             TCONS_00037841_H1       2468   \n",
       "6466             TCONS_00037838_H1             TCONS_00037838_H1       2468   \n",
       "6467             TCONS_00037840_H1             TCONS_00037840_H1       2468   \n",
       "6468  transcript44779.chr11.nic_H1  transcript44779.chr11.nic_H2       2468   \n",
       "\n",
       "      HaplotypingProbability  ReadCount_1      TPM_1  ReadCount_2      TPM_2  \\\n",
       "0                        1.0     0.000000   0.000000      0.00000   0.000000   \n",
       "1                        1.0   400.482380  50.293997    233.34355  29.312355   \n",
       "2                        1.0    14.922362   6.534654      0.00000   0.000000   \n",
       "3                        1.0     0.000000   0.000000      0.00000   0.000000   \n",
       "4                        1.0     0.000000   0.000000      0.00000   0.000000   \n",
       "...                      ...          ...        ...          ...        ...   \n",
       "6464                     1.0     0.000000   0.000000      0.00000   0.000000   \n",
       "6465                     1.0     0.000000   0.000000      0.00000   0.000000   \n",
       "6466                     1.0     0.000000   0.000000      0.00000   0.000000   \n",
       "6467                     1.0     0.000000   0.000000      0.00000   0.000000   \n",
       "6468                     0.5     0.000000   0.000000      0.00000   0.000000   \n",
       "\n",
       "                          trans         gene geneName max  Minimum_TPM  \n",
       "0                TCONS_00020747  XLOC_005166  WASHC2A   T     0.000000  \n",
       "1     transcript12583.chr10.nic  XLOC_005166  WASHC2A   T    29.312355  \n",
       "2                TCONS_00020735  XLOC_005166  WASHC2A   T     0.000000  \n",
       "3                TCONS_00020751  XLOC_005166  WASHC2A   T     0.000000  \n",
       "4                TCONS_00020739  XLOC_005166  WASHC2A   T     0.000000  \n",
       "...                         ...          ...      ...  ..          ...  \n",
       "6464             TCONS_00037843  XLOC_009201  MSANTD2   T     0.000000  \n",
       "6465             TCONS_00037841  XLOC_009201  MSANTD2   T     0.000000  \n",
       "6466             TCONS_00037838  XLOC_009201  MSANTD2   T     0.000000  \n",
       "6467             TCONS_00037840  XLOC_009201  MSANTD2   T     0.000000  \n",
       "6468  transcript44779.chr11.nic  XLOC_009201  MSANTD2   T     0.000000  \n",
       "\n",
       "[6469 rows x 13 columns]"
      ]
     },
     "execution_count": 5,
     "metadata": {},
     "output_type": "execute_result"
    }
   ],
   "source": [
    "rpvg_gene_max = pd.read_csv('/data/Phillippy/projects/HG002_Masseq/06.pantranscriptome/07.hg002v1.0.1/05.quantification/hg002v101.allGene.isoquantModel.rpvg_joint.max.txt',\n",
    "          sep='\\t')\n",
    "rpvg_gene_max"
   ]
  },
  {
   "cell_type": "raw",
   "id": "87c4eaff-8934-40f7-a840-82ead4bb973e",
   "metadata": {
    "tags": []
   },
   "source": [
    "iso = 'transcript10401.chr10.nnic'\n",
    "gene_to_plt = list(rpvg_gene_max.loc[rpvg_gene_max['trans'] == iso, \"geneName\"])[0]\n",
    "by_transcript = rpvg_gene_max[rpvg_gene_max['geneName'] == gene_to_plt]\n",
    "by_transcript.index = by_transcript.trans\n",
    "by_transcript"
   ]
  },
  {
   "cell_type": "code",
   "execution_count": 203,
   "id": "c0b7c843-0726-4b10-b6e4-4e96f4d78051",
   "metadata": {
    "tags": []
   },
   "outputs": [
    {
     "data": {
      "text/html": [
       "<div>\n",
       "<style scoped>\n",
       "    .dataframe tbody tr th:only-of-type {\n",
       "        vertical-align: middle;\n",
       "    }\n",
       "\n",
       "    .dataframe tbody tr th {\n",
       "        vertical-align: top;\n",
       "    }\n",
       "\n",
       "    .dataframe thead th {\n",
       "        text-align: right;\n",
       "    }\n",
       "</style>\n",
       "<table border=\"1\" class=\"dataframe\">\n",
       "  <thead>\n",
       "    <tr style=\"text-align: right;\">\n",
       "      <th></th>\n",
       "      <th>Name_1</th>\n",
       "      <th>Name_2</th>\n",
       "      <th>ClusterID</th>\n",
       "      <th>HaplotypingProbability</th>\n",
       "      <th>ReadCount_1</th>\n",
       "      <th>TPM_1</th>\n",
       "      <th>ReadCount_2</th>\n",
       "      <th>TPM_2</th>\n",
       "      <th>trans</th>\n",
       "      <th>gene</th>\n",
       "      <th>geneName</th>\n",
       "      <th>max</th>\n",
       "      <th>Minimum_TPM</th>\n",
       "    </tr>\n",
       "    <tr>\n",
       "      <th>trans</th>\n",
       "      <th></th>\n",
       "      <th></th>\n",
       "      <th></th>\n",
       "      <th></th>\n",
       "      <th></th>\n",
       "      <th></th>\n",
       "      <th></th>\n",
       "      <th></th>\n",
       "      <th></th>\n",
       "      <th></th>\n",
       "      <th></th>\n",
       "      <th></th>\n",
       "      <th></th>\n",
       "    </tr>\n",
       "  </thead>\n",
       "  <tbody>\n",
       "    <tr>\n",
       "      <th>TCONS_00175870</th>\n",
       "      <td>TCONS_00175870_H1</td>\n",
       "      <td>TCONS_00175870_H2</td>\n",
       "      <td>635</td>\n",
       "      <td>0.998126</td>\n",
       "      <td>0.000000</td>\n",
       "      <td>0.000000</td>\n",
       "      <td>0.000000</td>\n",
       "      <td>0.000000</td>\n",
       "      <td>TCONS_00175870</td>\n",
       "      <td>XLOC_042963</td>\n",
       "      <td>ESYT2</td>\n",
       "      <td>T</td>\n",
       "      <td>0.000000</td>\n",
       "    </tr>\n",
       "    <tr>\n",
       "      <th>TCONS_00175871</th>\n",
       "      <td>TCONS_00175871_H1</td>\n",
       "      <td>TCONS_00175871_H2</td>\n",
       "      <td>635</td>\n",
       "      <td>0.998126</td>\n",
       "      <td>2.915934</td>\n",
       "      <td>0.366916</td>\n",
       "      <td>25.031593</td>\n",
       "      <td>4.812809</td>\n",
       "      <td>TCONS_00175871</td>\n",
       "      <td>XLOC_042963</td>\n",
       "      <td>ESYT2</td>\n",
       "      <td>T</td>\n",
       "      <td>0.366916</td>\n",
       "    </tr>\n",
       "  </tbody>\n",
       "</table>\n",
       "</div>"
      ],
      "text/plain": [
       "                           Name_1             Name_2  ClusterID  \\\n",
       "trans                                                             \n",
       "TCONS_00175870  TCONS_00175870_H1  TCONS_00175870_H2        635   \n",
       "TCONS_00175871  TCONS_00175871_H1  TCONS_00175871_H2        635   \n",
       "\n",
       "                HaplotypingProbability  ReadCount_1     TPM_1  ReadCount_2  \\\n",
       "trans                                                                        \n",
       "TCONS_00175870                0.998126     0.000000  0.000000     0.000000   \n",
       "TCONS_00175871                0.998126     2.915934  0.366916    25.031593   \n",
       "\n",
       "                   TPM_2           trans         gene geneName max  \\\n",
       "trans                                                                \n",
       "TCONS_00175870  0.000000  TCONS_00175870  XLOC_042963    ESYT2   T   \n",
       "TCONS_00175871  4.812809  TCONS_00175871  XLOC_042963    ESYT2   T   \n",
       "\n",
       "                Minimum_TPM  \n",
       "trans                        \n",
       "TCONS_00175870     0.000000  \n",
       "TCONS_00175871     0.366916  "
      ]
     },
     "execution_count": 203,
     "metadata": {},
     "output_type": "execute_result"
    }
   ],
   "source": [
    "gene_to_plt = 'ESYT2'\n",
    "by_transcript = rpvg_gene_max[rpvg_gene_max['geneName'] == gene_to_plt]\n",
    "by_transcript.index = by_transcript.trans\n",
    "by_transcript"
   ]
  },
  {
   "cell_type": "code",
   "execution_count": 204,
   "id": "effc3439-019a-4dbd-bdae-b7fe860d85a3",
   "metadata": {
    "tags": []
   },
   "outputs": [
    {
     "data": {
      "text/plain": [
       "['TCONS_00175870', 'TCONS_00175871']"
      ]
     },
     "execution_count": 204,
     "metadata": {},
     "output_type": "execute_result"
    }
   ],
   "source": [
    "list(by_transcript.index)"
   ]
  },
  {
   "cell_type": "code",
   "execution_count": 205,
   "id": "912ac518-a6eb-4779-9c7c-26bfe6f45926",
   "metadata": {
    "tags": []
   },
   "outputs": [
    {
     "data": {
      "text/html": [
       "<div>\n",
       "<style scoped>\n",
       "    .dataframe tbody tr th:only-of-type {\n",
       "        vertical-align: middle;\n",
       "    }\n",
       "\n",
       "    .dataframe tbody tr th {\n",
       "        vertical-align: top;\n",
       "    }\n",
       "\n",
       "    .dataframe thead th {\n",
       "        text-align: right;\n",
       "    }\n",
       "</style>\n",
       "<table border=\"1\" class=\"dataframe\">\n",
       "  <thead>\n",
       "    <tr style=\"text-align: right;\">\n",
       "      <th></th>\n",
       "      <th>log_totalExp</th>\n",
       "    </tr>\n",
       "    <tr>\n",
       "      <th>trans</th>\n",
       "      <th></th>\n",
       "    </tr>\n",
       "  </thead>\n",
       "  <tbody>\n",
       "    <tr>\n",
       "      <th>TCONS_00175870</th>\n",
       "      <td>0.000000</td>\n",
       "    </tr>\n",
       "    <tr>\n",
       "      <th>TCONS_00175871</th>\n",
       "      <td>0.790969</td>\n",
       "    </tr>\n",
       "  </tbody>\n",
       "</table>\n",
       "</div>"
      ],
      "text/plain": [
       "                log_totalExp\n",
       "trans                       \n",
       "TCONS_00175870      0.000000\n",
       "TCONS_00175871      0.790969"
      ]
     },
     "execution_count": 205,
     "metadata": {},
     "output_type": "execute_result"
    }
   ],
   "source": [
    "by_transcript['log_totalExp']  = np.log10(by_transcript['TPM_1'] + by_transcript['TPM_2']+1)\n",
    "by_transcript = by_transcript.sort_values(by = \"log_totalExp\", ascending=True)\n",
    "by_transcript_totalExp = by_transcript[['log_totalExp']]\n",
    "by_transcript_totalExp.index = by_transcript['trans']\n",
    "by_transcript_totalExp"
   ]
  },
  {
   "cell_type": "code",
   "execution_count": 206,
   "id": "a3eb80b1-da0f-4e5e-8ce0-fc535bc95dcc",
   "metadata": {
    "tags": []
   },
   "outputs": [],
   "source": [
    "totalMAX=max(by_transcript_totalExp['log_totalExp'])+0.1"
   ]
  },
  {
   "cell_type": "code",
   "execution_count": 207,
   "id": "f29d914f-d1ef-44e3-bdaf-2c6aabc7d6fb",
   "metadata": {
    "tags": []
   },
   "outputs": [],
   "source": [
    "by_transcript['TPM_1_prob']  = by_transcript['TPM_1'] / (by_transcript['TPM_1'] + by_transcript['TPM_2'] ) * 100\n",
    "by_transcript['TPM_2_prob']  = by_transcript['TPM_2'] / (by_transcript['TPM_1'] + by_transcript['TPM_2'] ) * 100\n",
    "by_transcript_prob = by_transcript[['TPM_1_prob','TPM_2_prob']]"
   ]
  },
  {
   "cell_type": "code",
   "execution_count": 208,
   "id": "a2ac7493-bb3c-4bb3-8900-7b377fa15095",
   "metadata": {
    "tags": []
   },
   "outputs": [
    {
     "data": {
      "image/png": "[encoded data removed]",
      "text/plain": [
       "<Figure size 640x480 with 1 Axes>"
      ]
     },
     "metadata": {},
     "output_type": "display_data"
    }
   ],
   "source": [
    "ax1 = by_transcript_prob.plot.barh()"
   ]
  },
  {
   "cell_type": "code",
   "execution_count": 209,
   "id": "0d7e6135-3192-4609-8602-e9f1c64159d0",
   "metadata": {
    "tags": []
   },
   "outputs": [
    {
     "data": {
      "image/png": "[encoded data removed]",
      "text/plain": [
       "<Figure size 640x480 with 1 Axes>"
      ]
     },
     "metadata": {},
     "output_type": "display_data"
    }
   ],
   "source": [
    "ax2 = by_transcript_totalExp.plot.barh(color=\"green\")"
   ]
  },
  {
   "cell_type": "code",
   "execution_count": null,
   "id": "8355689a-43f0-4547-a840-234964a1f42d",
   "metadata": {
    "tags": []
   },
   "outputs": [],
   "source": []
  },
  {
   "cell_type": "code",
   "execution_count": null,
   "id": "1b539d20-17b0-45a1-a0fd-7a0a056fc723",
   "metadata": {},
   "outputs": [],
   "source": []
  },
  {
   "cell_type": "code",
   "execution_count": 210,
   "id": "6229106a-6013-44b0-be6f-a16769f1fc0f",
   "metadata": {
    "tags": []
   },
   "outputs": [
    {
     "data": {
      "text/html": [
       "<div>\n",
       "<style scoped>\n",
       "    .dataframe tbody tr th:only-of-type {\n",
       "        vertical-align: middle;\n",
       "    }\n",
       "\n",
       "    .dataframe tbody tr th {\n",
       "        vertical-align: top;\n",
       "    }\n",
       "\n",
       "    .dataframe thead th {\n",
       "        text-align: right;\n",
       "    }\n",
       "</style>\n",
       "<table border=\"1\" class=\"dataframe\">\n",
       "  <thead>\n",
       "    <tr style=\"text-align: right;\">\n",
       "      <th></th>\n",
       "      <th>trans</th>\n",
       "      <th>logFC</th>\n",
       "    </tr>\n",
       "  </thead>\n",
       "  <tbody>\n",
       "    <tr>\n",
       "      <th>0</th>\n",
       "      <td>TCONS_00175870</td>\n",
       "      <td>0.000000</td>\n",
       "    </tr>\n",
       "    <tr>\n",
       "      <th>1</th>\n",
       "      <td>TCONS_00175871</td>\n",
       "      <td>-1.065131</td>\n",
       "    </tr>\n",
       "  </tbody>\n",
       "</table>\n",
       "</div>"
      ],
      "text/plain": [
       "            trans     logFC\n",
       "0  TCONS_00175870  0.000000\n",
       "1  TCONS_00175871 -1.065131"
      ]
     },
     "execution_count": 210,
     "metadata": {},
     "output_type": "execute_result"
    }
   ],
   "source": [
    "import numpy as np\n",
    "by_transcript_FC = pd.DataFrame(np.log10( (by_transcript_prob['TPM_1_prob'] + 1) / (by_transcript_prob['TPM_2_prob'] + 1)))\n",
    "by_transcript_FC.columns = ['logFC']\n",
    "by_transcript_FC = by_transcript_FC.reset_index()\n",
    "by_transcript_FC['logFC'] = by_transcript_FC['logFC'].fillna(0)\n",
    "by_transcript_FC.head(6)"
   ]
  },
  {
   "cell_type": "code",
   "execution_count": 211,
   "id": "635ff2a7-40fd-4d7b-8d02-76df1887322a",
   "metadata": {
    "tags": []
   },
   "outputs": [
    {
     "data": {
      "text/plain": [
       "[<matplotlib.lines.Line2D at 0x1554e9de25b0>]"
      ]
     },
     "execution_count": 211,
     "metadata": {},
     "output_type": "execute_result"
    },
    {
     "data": {
      "image/png": "[encoded data removed]",
      "text/plain": [
       "<Figure size 640x480 with 1 Axes>"
      ]
     },
     "metadata": {},
     "output_type": "display_data"
    }
   ],
   "source": [
    "# Plotting\n",
    "plt.scatter(by_transcript_FC['logFC'], by_transcript_FC['trans'], label='Data points', color='blue')\n",
    "plt.plot(by_transcript_FC['logFC'], by_transcript_FC['trans'], label='Connected line', color='red', linestyle='-', marker='o')"
   ]
  },
  {
   "cell_type": "code",
   "execution_count": 212,
   "id": "0b15977f-546f-4e44-94ce-2130b8ec552a",
   "metadata": {},
   "outputs": [
    {
     "data": {
      "image/png": "[encoded data removed]",
      "text/plain": [
       "<Figure size 600x300 with 3 Axes>"
      ]
     },
     "metadata": {},
     "output_type": "display_data"
    }
   ],
   "source": [
    "import matplotlib.pyplot as plt\n",
    "import matplotlib.gridspec as gridspec\n",
    "\n",
    "# Create a gridspec with one row and three columns\n",
    "fig, (ax1, ax2, ax3) = plt.subplots(1, 3, sharey=True, figsize=(6, 3), frameon=False, constrained_layout=True, gridspec_kw={'width_ratios': [2, 1, 1]})\n",
    "\n",
    "# Plot data on each subplot\n",
    "by_transcript_prob.plot.barh(ax=ax1)\n",
    "by_transcript_totalExp.plot.barh(ax=ax2, color = \"green\")\n",
    "\n",
    "ax3.scatter(by_transcript_FC['logFC'], by_transcript_FC['trans'], label='Data points', color='blue')\n",
    "ax3.plot(by_transcript_FC['logFC'], by_transcript_FC['trans'], label='Connected line', color='red', linestyle='-', marker='o')\n",
    "\n",
    "# Set x-axis limits for each subplotd\n",
    "ax1.set_xlim(0, 100)\n",
    "ax2.set_xlim(0, totalMAX)\n",
    "ax3.set_xlim(-max(abs(by_transcript_FC['logFC']))-0.5, max(abs(by_transcript_FC['logFC']))+0.5)\n",
    "\n",
    "# Set the background color of each subplot to white\n",
    "ax1.set_facecolor('white')\n",
    "ax2.set_facecolor('white')\n",
    "ax3.set_facecolor('white')\n",
    "\n",
    "# Set the background color of the figure to white\n",
    "fig.set_facecolor('white')\n",
    "\n",
    "# Set the grid color to light gray\n",
    "ax1.grid(color='lightgray', linestyle='--')\n",
    "ax2.grid(color='lightgray', linestyle='--')\n",
    "ax3.grid(color='lightgray', linestyle='--')\n",
    "\n",
    "# Add x-axis for each subplot\n",
    "ax1.set_xlabel('Proprtion of Exp')\n",
    "ax2.set_xlabel('Total Exp')\n",
    "ax3.set_xlabel('FC')\n",
    "ax3.set_ylabel('Transcripts')\n",
    "\n",
    "fig.suptitle(gene_to_plt, fontsize=16, y=1.08)\n",
    "\n",
    "ax1.legend().set_visible(False)\n",
    "ax2.legend().set_visible(False)\n",
    "ax3.legend().set_visible(False)\n",
    "\n",
    "\n",
    "plt.show()\n"
   ]
  },
  {
   "cell_type": "code",
   "execution_count": 213,
   "id": "a8a31da6-9677-4585-a2f7-35039d582169",
   "metadata": {},
   "outputs": [
    {
     "data": {
      "text/plain": [
       "['TCONS_00175871', 'TCONS_00175870']"
      ]
     },
     "execution_count": 213,
     "metadata": {},
     "output_type": "execute_result"
    }
   ],
   "source": [
    "order_trans = by_transcript_totalExp.index.tolist()\n",
    "order_trans.reverse()\n",
    "order_trans"
   ]
  },
  {
   "cell_type": "code",
   "execution_count": null,
   "id": "43a88f3a-4d01-4740-898f-1aedbdd4515e",
   "metadata": {},
   "outputs": [],
   "source": []
  },
  {
   "cell_type": "code",
   "execution_count": 214,
   "id": "d4f7d268-a710-4295-b577-d8d82a5fde6b",
   "metadata": {
    "tags": []
   },
   "outputs": [
    {
     "name": "stdout",
     "output_type": "stream",
     "text": [
      "Saving transcript path graph for TCONS_00175871 as figures/trans_browser_TCONS_00175871_path.png\n",
      "Saving transcript path graph for TCONS_00175870 as figures/trans_browser_TCONS_00175870_path.png\n"
     ]
    }
   ],
   "source": [
    "sg.plot_each_transcript(order_trans, browser=True, prefix = 'figures/trans')"
   ]
  },
  {
   "cell_type": "code",
   "execution_count": 215,
   "id": "a8b668f6-81de-4102-abc8-fadccf1cf84a",
   "metadata": {
    "tags": []
   },
   "outputs": [
    {
     "data": {
      "image/png": "[encoded data removed]",
      "text/plain": [
       "<Figure size 600x300 with 3 Axes>"
      ]
     },
     "metadata": {},
     "output_type": "display_data"
    }
   ],
   "source": [
    "import matplotlib.pyplot as plt\n",
    "import matplotlib.gridspec as gridspec\n",
    "\n",
    "# Create a gridspec with one row and three columns\n",
    "fig, (ax1, ax2, ax3) = plt.subplots(1, 3, sharey=True, figsize=(6, 3), frameon=False, constrained_layout=True, gridspec_kw={'width_ratios': [2, 1, 1]})\n",
    "\n",
    "# Plot data on each subplot\n",
    "by_transcript_prob.plot.barh(ax=ax1)\n",
    "by_transcript_totalExp.plot.barh(ax=ax2, color = \"green\")\n",
    "\n",
    "ax3.scatter(by_transcript_FC['logFC'], by_transcript_FC['trans'], label='Data points', color='blue')\n",
    "ax3.plot(by_transcript_FC['logFC'], by_transcript_FC['trans'], label='Connected line', color='red', linestyle='-', marker='o')\n",
    "\n",
    "# Set x-axis limits for each subplotd\n",
    "ax1.set_xlim(0, 100)\n",
    "ax2.set_xlim(0, totalMAX)\n",
    "ax3.set_xlim(-max(abs(by_transcript_FC['logFC']))-0.5, max(abs(by_transcript_FC['logFC']))+0.5)\n",
    "\n",
    "# Set the background color of each subplot to white\n",
    "ax1.set_facecolor('white')\n",
    "ax2.set_facecolor('white')\n",
    "ax3.set_facecolor('white')\n",
    "\n",
    "# Set the background color of the figure to white\n",
    "fig.set_facecolor('white')\n",
    "\n",
    "# Set the grid color to light gray\n",
    "ax1.grid(color='lightgray', linestyle='--')\n",
    "ax2.grid(color='lightgray', linestyle='--')\n",
    "ax3.grid(color='lightgray', linestyle='--')\n",
    "\n",
    "# Add x-axis for each subplot\n",
    "ax1.set_xlabel('Proprtion of Exp')\n",
    "ax2.set_xlabel('Total Exp')\n",
    "ax3.set_xlabel('FC')\n",
    "ax3.set_ylabel('Transcripts')\n",
    "\n",
    "fig.suptitle(gene_to_plt, fontsize=16, y=1.08)\n",
    "\n",
    "ax1.legend().set_visible(False)\n",
    "ax2.legend().set_visible(False)\n",
    "ax3.legend().set_visible(False)\n",
    "\n",
    "\n",
    "plt.show()\n"
   ]
  },
  {
   "cell_type": "code",
   "execution_count": 216,
   "id": "b2f464dc-1b91-4dc4-88bd-2245335c5a8c",
   "metadata": {
    "tags": []
   },
   "outputs": [
    {
     "data": {
      "image/png": "[encoded data removed]",
      "text/plain": [
       "<Figure size 640x480 with 1 Axes>"
      ]
     },
     "metadata": {},
     "output_type": "display_data"
    }
   ],
   "source": [
    "import glob\n",
    "import matplotlib.pyplot as plt\n",
    "from PIL import Image as PILImage\n",
    "\n",
    "# Create a figure and axis\n",
    "fig, ax = plt.subplots()\n",
    "\n",
    "# Define the offset for overlapping\n",
    "offset_x = 0\n",
    "offset_y = 50\n",
    "new_width=1000\n",
    "new_height = 200\n",
    "# Iterate over each transformation\n",
    "for i, trans in enumerate(order_trans):\n",
    "    imageName = glob.glob('figures/*_browser_'+trans+'*.png')[0]\n",
    "    img = PILImage.open(imageName)\n",
    "    img = img.resize((new_width, new_height))  # Replace new_width and new_height with your desired dimensions\n",
    "    \n",
    "    # Adjust the position of the image based on the offset\n",
    "    x_offset = i * offset_x\n",
    "    y_offset = i * offset_y\n",
    "    ax.imshow(img, alpha=1, extent=[-x_offset, new_width - x_offset, -y_offset, new_height - y_offset])\n",
    "\n",
    "# Set the limits of the plot\n",
    "ax.set_xlim(-offset_x * len(order_trans), new_width)\n",
    "ax.set_ylim(-offset_y * len(order_trans), new_height)\n",
    "\n",
    "# Turn off axis\n",
    "ax.axis('off')\n",
    "\n",
    "# Show the overlapped images\n",
    "plt.show()\n"
   ]
  },
  {
   "cell_type": "code",
   "execution_count": null,
   "id": "5e6b9254-7f61-4da7-b9b5-e03034df3839",
   "metadata": {},
   "outputs": [],
   "source": []
  },
  {
   "cell_type": "code",
   "execution_count": null,
   "id": "57efae96-17d8-4647-b581-aa77e5814085",
   "metadata": {},
   "outputs": [],
   "source": []
  },
  {
   "cell_type": "code",
   "execution_count": null,
   "id": "ecaf8d44-f10b-4bee-8035-ff02a0dd4020",
   "metadata": {},
   "outputs": [],
   "source": []
  },
  {
   "cell_type": "code",
   "execution_count": null,
   "id": "6fd7cc6b-889b-41f6-90a3-3f666d9a5f7a",
   "metadata": {},
   "outputs": [],
   "source": []
  },
  {
   "cell_type": "code",
   "execution_count": null,
   "id": "bb77a71b-bf6c-4d4c-9e47-8887acd5485e",
   "metadata": {},
   "outputs": [],
   "source": []
  },
  {
   "cell_type": "code",
   "execution_count": null,
   "id": "c2daa978-e77a-495d-b520-656245a2fcd6",
   "metadata": {},
   "outputs": [],
   "source": []
  }
 ],
 "metadata": {
  "kernelspec": {
   "display_name": "plot_python",
   "language": "python",
   "name": "plot_python"
  },
  "language_info": {
   "codemirror_mode": {
    "name": "ipython",
    "version": 3
   },
   "file_extension": ".py",
   "mimetype": "text/x-python",
   "name": "python",
   "nbconvert_exporter": "python",
   "pygments_lexer": "ipython3",
   "version": "3.9.17"
  }
 },
 "nbformat": 4,
 "nbformat_minor": 5
}
