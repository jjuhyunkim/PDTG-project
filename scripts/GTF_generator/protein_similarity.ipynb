{
 "cells": [
  {
   "cell_type": "markdown",
   "id": "fb0ccced-cf06-45a3-8356-48cf126b708d",
   "metadata": {},
   "source": [
    "# Protein similarity check using blastp(uniprot) and pfam"
   ]
  },
  {
   "cell_type": "markdown",
   "id": "4c8dc4dd-1cb7-4614-b36f-ae2cb757fbab",
   "metadata": {},
   "source": [
    "## Load libraries"
   ]
  },
  {
   "cell_type": "code",
   "execution_count": 1,
   "id": "91733b32-a2f9-4fc2-b95a-2a9c08203c2c",
   "metadata": {},
   "outputs": [],
   "source": [
    "import pandas as pd\n",
    "import seaborn as sns"
   ]
  },
  {
   "cell_type": "markdown",
   "id": "4972afd0-0453-4f12-8979-ab0786151e42",
   "metadata": {},
   "source": [
    "## Load input files"
   ]
  },
  {
   "cell_type": "code",
   "execution_count": 47,
   "id": "19b0eb39-5986-4ad1-bb87-4589a0d1a78f",
   "metadata": {},
   "outputs": [],
   "source": [
    "pfam_file = \"/vf/users/Phillippy/projects/HG002_Masseq/03.align/squanti/pfam.domtblout\"\n",
    "blastp_file = \"/vf/users/Phillippy/projects/HG002_Masseq/03.align/squanti/blastp.outfmt6\"\n",
    "match_file = \"/vf/users/Phillippy/projects/HG002_Masseq/03.align/squanti/hg002.integrated.tracking.clean\""
   ]
  },
  {
   "cell_type": "code",
   "execution_count": 52,
   "id": "16462658-e343-440f-980d-b0c98f1f2e5f",
   "metadata": {},
   "outputs": [
    {
     "data": {
      "text/html": [
       "<div>\n",
       "<style scoped>\n",
       "    .dataframe tbody tr th:only-of-type {\n",
       "        vertical-align: middle;\n",
       "    }\n",
       "\n",
       "    .dataframe tbody tr th {\n",
       "        vertical-align: top;\n",
       "    }\n",
       "\n",
       "    .dataframe thead th {\n",
       "        text-align: right;\n",
       "    }\n",
       "</style>\n",
       "<table border=\"1\" class=\"dataframe\">\n",
       "  <thead>\n",
       "    <tr style=\"text-align: right;\">\n",
       "      <th></th>\n",
       "      <th>trans</th>\n",
       "      <th>type</th>\n",
       "    </tr>\n",
       "  </thead>\n",
       "  <tbody>\n",
       "    <tr>\n",
       "      <th>0</th>\n",
       "      <td>TCONS_00000270</td>\n",
       "      <td>nic</td>\n",
       "    </tr>\n",
       "    <tr>\n",
       "      <th>1</th>\n",
       "      <td>TCONS_00000271</td>\n",
       "      <td>nic</td>\n",
       "    </tr>\n",
       "  </tbody>\n",
       "</table>\n",
       "</div>"
      ],
      "text/plain": [
       "            trans type\n",
       "0  TCONS_00000270  nic\n",
       "1  TCONS_00000271  nic"
      ]
     },
     "execution_count": 52,
     "metadata": {},
     "output_type": "execute_result"
    }
   ],
   "source": [
    "m = pd.read_csv(match_file, header = None, sep = '\\t')\n",
    "m.columns = ['trans','type']\n",
    "m.head(2)"
   ]
  },
  {
   "cell_type": "code",
   "execution_count": 53,
   "id": "a849b3f0-75c2-45b7-bd45-67e17f4b17ab",
   "metadata": {
    "scrolled": true
   },
   "outputs": [
    {
     "data": {
      "text/html": [
       "<div>\n",
       "<style scoped>\n",
       "    .dataframe tbody tr th:only-of-type {\n",
       "        vertical-align: middle;\n",
       "    }\n",
       "\n",
       "    .dataframe tbody tr th {\n",
       "        vertical-align: top;\n",
       "    }\n",
       "\n",
       "    .dataframe thead th {\n",
       "        text-align: right;\n",
       "    }\n",
       "</style>\n",
       "<table border=\"1\" class=\"dataframe\">\n",
       "  <thead>\n",
       "    <tr style=\"text-align: right;\">\n",
       "      <th></th>\n",
       "      <th>qseqid</th>\n",
       "      <th>sseqid</th>\n",
       "      <th>pident</th>\n",
       "      <th>length</th>\n",
       "      <th>mismatch</th>\n",
       "      <th>gapopen</th>\n",
       "      <th>qstart</th>\n",
       "      <th>qend</th>\n",
       "      <th>sstart</th>\n",
       "      <th>send</th>\n",
       "      <th>evalue</th>\n",
       "      <th>bitscore</th>\n",
       "      <th>trans</th>\n",
       "    </tr>\n",
       "  </thead>\n",
       "  <tbody>\n",
       "    <tr>\n",
       "      <th>4</th>\n",
       "      <td>TCONS_00025276.p2</td>\n",
       "      <td>sp|O00370|LORF2_HUMAN</td>\n",
       "      <td>80.000</td>\n",
       "      <td>80</td>\n",
       "      <td>16</td>\n",
       "      <td>0</td>\n",
       "      <td>1</td>\n",
       "      <td>80</td>\n",
       "      <td>1196</td>\n",
       "      <td>1275</td>\n",
       "      <td>3.240000e-39</td>\n",
       "      <td>141.0</td>\n",
       "      <td>TCONS_00025276</td>\n",
       "    </tr>\n",
       "    <tr>\n",
       "      <th>6</th>\n",
       "      <td>TCONS_00010308.p2</td>\n",
       "      <td>sp|O00370|LORF2_HUMAN</td>\n",
       "      <td>80.233</td>\n",
       "      <td>86</td>\n",
       "      <td>17</td>\n",
       "      <td>0</td>\n",
       "      <td>1</td>\n",
       "      <td>86</td>\n",
       "      <td>1190</td>\n",
       "      <td>1275</td>\n",
       "      <td>2.940000e-42</td>\n",
       "      <td>150.0</td>\n",
       "      <td>TCONS_00010308</td>\n",
       "    </tr>\n",
       "  </tbody>\n",
       "</table>\n",
       "</div>"
      ],
      "text/plain": [
       "              qseqid                 sseqid  pident  length  mismatch  \\\n",
       "4  TCONS_00025276.p2  sp|O00370|LORF2_HUMAN  80.000      80        16   \n",
       "6  TCONS_00010308.p2  sp|O00370|LORF2_HUMAN  80.233      86        17   \n",
       "\n",
       "   gapopen  qstart  qend  sstart  send        evalue  bitscore           trans  \n",
       "4        0       1    80    1196  1275  3.240000e-39     141.0  TCONS_00025276  \n",
       "6        0       1    86    1190  1275  2.940000e-42     150.0  TCONS_00010308  "
      ]
     },
     "execution_count": 53,
     "metadata": {},
     "output_type": "execute_result"
    }
   ],
   "source": [
    "blastp = pd.read_csv(blastp_file, header = None, sep = '\\t')\n",
    "blastp.columns = ['qseqid','sseqid','pident','length','mismatch','gapopen','qstart','qend','sstart','send','evalue','bitscore']\n",
    "blastp = blastp[blastp['sseqid'].str.contains(\"HUMAN\")]\n",
    "blastp['trans'] = blastp['qseqid'].str.split('.', expand=True)[0]\n",
    "\n",
    "blastp.head(2)"
   ]
  },
  {
   "cell_type": "code",
   "execution_count": 54,
   "id": "718f8779-947c-47bc-90e6-de60f7110935",
   "metadata": {},
   "outputs": [
    {
     "data": {
      "text/html": [
       "<div>\n",
       "<style scoped>\n",
       "    .dataframe tbody tr th:only-of-type {\n",
       "        vertical-align: middle;\n",
       "    }\n",
       "\n",
       "    .dataframe tbody tr th {\n",
       "        vertical-align: top;\n",
       "    }\n",
       "\n",
       "    .dataframe thead th {\n",
       "        text-align: right;\n",
       "    }\n",
       "</style>\n",
       "<table border=\"1\" class=\"dataframe\">\n",
       "  <thead>\n",
       "    <tr style=\"text-align: right;\">\n",
       "      <th></th>\n",
       "      <th>trans</th>\n",
       "      <th>type</th>\n",
       "      <th>pident</th>\n",
       "    </tr>\n",
       "  </thead>\n",
       "  <tbody>\n",
       "    <tr>\n",
       "      <th>0</th>\n",
       "      <td>TCONS_00000270</td>\n",
       "      <td>nic</td>\n",
       "      <td>100.0</td>\n",
       "    </tr>\n",
       "    <tr>\n",
       "      <th>1</th>\n",
       "      <td>TCONS_00000271</td>\n",
       "      <td>nic</td>\n",
       "      <td>100.0</td>\n",
       "    </tr>\n",
       "  </tbody>\n",
       "</table>\n",
       "</div>"
      ],
      "text/plain": [
       "            trans type  pident\n",
       "0  TCONS_00000270  nic   100.0\n",
       "1  TCONS_00000271  nic   100.0"
      ]
     },
     "execution_count": 54,
     "metadata": {},
     "output_type": "execute_result"
    }
   ],
   "source": [
    "blastp_max = blastp.groupby('trans')['pident'].max().reset_index()\n",
    "blastp_max = pd.merge(m,blastp_max, on='trans')\n",
    "blastp_max.head(2)"
   ]
  },
  {
   "cell_type": "raw",
   "id": "52229026-dceb-43aa-8bae-893120ae5e8f",
   "metadata": {},
   "source": [
    "pfam = pd.read_csv(pfam_file, header = 1, sep = ' ', skiprows=100)\n",
    "# pfam.columns = ['qseqid','sseqid','pident','length','mismatch','gapopen','qstart','qend','sstart','send','evalue','bitscore']\n",
    "pfam.head(2)"
   ]
  },
  {
   "cell_type": "code",
   "execution_count": null,
   "id": "5ff9ac71-9fc1-4989-ada5-404e496cba6f",
   "metadata": {},
   "outputs": [],
   "source": []
  },
  {
   "cell_type": "markdown",
   "id": "ffa4983d-2a47-46d8-a903-2d80bf42116f",
   "metadata": {},
   "source": [
    "## Plotting!"
   ]
  },
  {
   "cell_type": "code",
   "execution_count": 65,
   "id": "4ab0f455-386c-4a09-8f57-bfe184cd151c",
   "metadata": {},
   "outputs": [
    {
     "data": {
      "image/png": "[encoded data removed]",
      "text/plain": [
       "<Figure size 1600x400 with 4 Axes>"
      ]
     },
     "metadata": {},
     "output_type": "display_data"
    }
   ],
   "source": [
    "import pandas as pd\n",
    "import seaborn as sns\n",
    "import matplotlib.pyplot as plt\n",
    "\n",
    "# Assuming blastp_max is already defined as a DataFrame\n",
    "x = \"pident\"\n",
    "\n",
    "# Check if the column exists and convert to float\n",
    "if x in blastp_max.columns:\n",
    "    # Convert the column to float, handling errors if necessary\n",
    "    blastp_max[x] = pd.to_numeric(blastp_max[x], errors='coerce')  # Use 'coerce' to handle non-numeric values\n",
    "\n",
    "    # Drop NaN values after conversion\n",
    "    blastp_max = blastp_max.dropna(subset=[x])\n",
    "\n",
    "    # Create a FacetGrid to plot histograms by 'type' with shared y-axis\n",
    "    g = sns.FacetGrid(blastp_max, col='type', col_wrap=4, height=4, sharey=True)  # sharey=True ensures shared y-axis\n",
    "    num_bins = 100  # Set the number of bins\n",
    "\n",
    "    g.map(sns.histplot, x, bins=num_bins, kde=True)\n",
    "\n",
    "    # Set y-axis to logarithmic scale for each facet\n",
    "    for ax in g.axes.flatten():\n",
    "        ax.set_yscale('log', base = 10)  # Set y-axis to logarithmic scale\n",
    "        ax.set_xlabel(x)\n",
    "        # ax.set_title(f'Distribution of {x} by Type')\n",
    "\n",
    "    plt.tight_layout()\n",
    "    plt.show()\n",
    "else:\n",
    "    print(f\"Column '{x}' does not exist in the DataFrame.\")\n"
   ]
  },
  {
   "cell_type": "code",
   "execution_count": null,
   "id": "69552f6f-2041-400c-98de-6c63a868fb6e",
   "metadata": {},
   "outputs": [],
   "source": []
  }
 ],
 "metadata": {
  "kernelspec": {
   "display_name": "plot_python",
   "language": "python",
   "name": "plot_python"
  },
  "language_info": {
   "codemirror_mode": {
    "name": "ipython",
    "version": 3
   },
   "file_extension": ".py",
   "mimetype": "text/x-python",
   "name": "python",
   "nbconvert_exporter": "python",
   "pygments_lexer": "ipython3",
   "version": "3.9.17"
  }
 },
 "nbformat": 4,
 "nbformat_minor": 5
}
