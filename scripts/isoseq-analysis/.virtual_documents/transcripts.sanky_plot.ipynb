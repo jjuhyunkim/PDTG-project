import pandas as pd
import matplotlib.pyplot as plt
import numpy as np



figdir="/data/Phillippy/projects/HG002_Masseq/figure"


df0= pd.read_csv("/vf/users/Phillippy/projects/HG002_Masseq/05.mergeGFF/chm13.vs.chm13/5.1_merge_woUCSC/chm13v2.0.curated.refseq.tracking",
                sep ="\t",
                header = None)
df0.head()


mask = df0[4] != '-'
# Create a new column '13' and fill it with 'q1' where the condition is True
df0['q1'] = 'N'
df0.loc[mask, 'q1'] = 'q1'

mask = df0[5] != '-'
# Create a new column '13' and fill it with 'q1' where the condition is True
df0['q2'] = 'N'
df0.loc[mask, 'q2'] = 'q2'
df0.tail()


df0=df0[[0,1,'q1','q2']]
df0.columns = ['isoform','gene','q1','q2']

df0['q1_only'] = ''
df0['q2_only'] = ''
df0['q1_and_q2'] = ''

df0.loc[(df0['q1'] == 'q1') & (df0['q2'] == 'N'), 'q1_only'] = 'q1_only'
df0.loc[(df0['q1'] == 'N') & (df0['q2'] == 'q2'), 'q2_only'] = 'q2_only'
df0.loc[(df0['q1'] == 'q1') & (df0['q2'] == 'q2'), 'q1_and_q2'] = 'q1_and_q2'
df0.head()


df1 = pd.read_csv("/vf/users/Phillippy/projects/HG002_Masseq/03.align/HG002_Bulk/01.mapped/chm13_2312_3/chm13.hg002_read/OUT/OUT.transcript_model.transcripts",
                  sep = ' ',
                  header = None)
df1.columns = ['isoform','isoquantModel']
df1.head()


df2 = pd.read_csv("/data/Phillippy/projects/HG002_Masseq/03.align/HG002_Bulk/01.mapped/chm13_2312_3/model/chm13.hg002_read_squanti3_classification.txt",
                 sep = '\t',
                 header = 0
                 )
df2.head()


df2 = df2[['isoform','structural_category']]
df2['squanti_qc'] = "squanti_qc"
df2.head()


df2.tail()


df3 = pd.read_csv("/data/Phillippy/projects/HG002_Masseq/03.align/HG002_Bulk/01.mapped/chm13_2312_3/model/chm13.hg002_read_squanti3_filtering_reasons.txt",
                 sep = '\t',
                 header = 0)
df3.head()


pd.DataFrame(df3.groupby('reasons').size())


df4 = pd.read_csv("/data/Phillippy/projects/HG002_Masseq/03.align/HG002_Bulk/01.mapped/chm13_2312_3/model/chm13.hg002_read_squanti3_rescued_classification.txt",
                 sep = '\t',
                 header = None)
df4.head()


df4 = pd.DataFrame(df4[0])
df4['squanti_rescue'] = "squanti_rescue"
df4.columns = ['isoform','squanti_rescue']
df4.head()


df02 = pd.merge(df0,df2,on='isoform', how = 'outer')
df024 = pd.merge(df02,df4,on='isoform', how = 'outer')
df024['novel'] = ""
df024.loc[df024['isoform'].str.startswith('transcript'),"novel"] = "novel"


q1only = df024.groupby('q1_only').size().reset_index()[df024.groupby('q1_only').size().reset_index()['q1_only']=="q1_only"][0].to_list()[0]
q2only = df024.groupby('q2_only').size().reset_index()[df024.groupby('q2_only').size().reset_index()['q2_only']=="q2_only"][0].to_list()[0]
q1_and_q2 = df024.groupby('q1_and_q2').size().reset_index()[df024.groupby('q1_and_q2').size().reset_index()['q1_and_q2']=="q1_and_q2"][0].to_list()[0]
squanti_qc = df024.groupby('squanti_qc').size().reset_index()[df024.groupby('squanti_qc').size().reset_index()['squanti_qc']=="squanti_qc"][0].to_list()[0]
squanti_rescue = df024.groupby('squanti_rescue').size().reset_index()[df024.groupby('squanti_rescue').size().reset_index()['squanti_rescue']=="squanti_rescue"][0].to_list()[0]
novel_inqc = df024.groupby(['novel','squanti_qc']).size().reset_index().loc[1,0]
known_inqc = df024.groupby(['novel','squanti_qc']).size().reset_index().loc[0,0]
notexp=(q1only + q2only + q1_and_q2) - squanti_qc 


novel_inqc + known_inqc


squanti_qc





squanti_rescue


squanti_qc








import plotly.graph_objects as go

fig = go.Figure(data=[go.Sankey(
    node = dict(
      pad = 15,
      thickness = 20,
      line = dict(color = "black", width = 0.5),
      label = ['Known','Novel','Detected','Not Detected','QC Failed','QC Passed']
      
    ),
    link = dict(
      source = [0, 0, 1, 2, 2], 
      target = [2, 3, 2, 4, 5],
      value =  [known_inqc,
                q1_and_q2 + q2only + q1only - known_inqc,
                novel_inqc,
                squanti_qc-squanti_rescue,
                squanti_rescue],

  ))])

fig.update_layout(title_text="Basic Sankey Diagram", font_size=15,width=600, height=500)
fig.write_image(figdir + "/sankey_plot.transcript_tracking.png", scale=10)
fig.show()


known = q1only+q2only+q1_and_q2+novel_inqc
notexp = notexp

detected = squanti_qc
novel = novel_inqc

qc_passed= squanti_rescue
qc_failed = detected - qc_passed

print('known :' + str(known))
print('notexp :' + str(notexp))
print('novel :' + str(novel))
print('detected :' + str(detected))
print('qc_passed :' + str(qc_passed))
print('qc_failed :' + str(qc_failed))


import plotly.graph_objects as go

fig = go.Figure(data=[go.Sankey(
    node = dict(
      pad = 15,
      thickness = 20,
      line = dict(color = "black", width = 0.5),
      label = ['Known:\n' + str(known),
               'Novel:' + str(novel),
               'Detected:' + str(detected),
               'Not Detected:' + str(notexp),
               'QC Failed:' + str(qc_failed),
               'QC Passed:' + str(qc_passed)]
      
    ),
    link = dict(
      source = [0, 0, 1, 2, 2], 
      target = [2, 3, 2, 4, 5],
      value =  [known_inqc,
                q1_and_q2 + q2only + q1only - known_inqc,
                novel_inqc,
                squanti_qc-squanti_rescue,
                squanti_rescue],

  ))])

fig.update_layout(title_text="Basic Sankey Diagram", font_size=15,width=600, height=500)
# fig.write_image(figdir + "/sankey_plot.transcript_tracking.png", scale=10)
fig.show()


tab = pd.DataFrame(df4.groupby([5]).size()).reset_index()
tab.columns = ['cat','count']
tab['col'] = ['#787A7B','#67A6D3','#515151','#E38E67','#6D4A97','#7AB581','#D8715B']
tab['perc'] = round(tab['count'] * 100 / sum(tab['count']),2)
tab['legend'] = tab['cat'] + ' ' + tab['perc'].astype(str) +  '% (' + tab['count'].astype(str) + ')'

tab


import numpy as np
import matplotlib.pyplot as plt

# Assuming df_pie is your DataFrame containing counts and legend information
data = tab['count']
colors = tab['col']

fig, ax = plt.subplots(figsize=(6, 3), subplot_kw=dict(aspect="equal"))

# Plotting the pie chart with specified colors
wedges, texts = ax.pie(data, wedgeprops=dict(width=0.5), startangle=-40, colors=colors)

bbox_props = dict(boxstyle="square,pad=0.3", fc="w", ec="k", lw=0.72)
kw = dict(arrowprops=dict(arrowstyle="-"),
          bbox=bbox_props, zorder=0, va="center")

for i, p in enumerate(wedges):
    ang = (p.theta2 - p.theta1) / 2.0 + p.theta1
    y = np.sin(np.deg2rad(ang))
    x = np.cos(np.deg2rad(ang))
    horizontalalignment = {-1: "right", 1: "left"}[int(np.sign(x))]
    connectionstyle = f"angle,angleA=0,angleB={ang}"
    kw["arrowprops"].update({"connectionstyle": connectionstyle})
    ax.annotate(tab['legend'][i], xy=(x, y), xytext=(1.35 * np.sign(x), 1.4 * y),
                horizontalalignment=horizontalalignment, **kw)
plt.savefig(figdir + '/pie.structure.png', bbox_inches='tight',dpi=300,transparent=True)
plt.show()



hst = pd.read_csv('/vf/users/Phillippy/projects/HG002_Masseq/06.pantranscriptome/07.hg002v1.0.1/05.quantification/noiseq.result.txt',
                  sep = '\t',
                  header = 0).reset_index()

hst.columns = ['isoform', 'mat_mean', 'pat_mean', 'M', 'D', 'prob', 'ranking']
hst.head()


hst[hst['M'] < 0]


sqanti = df4[[0,5]]
sqanti.columns = ['isoform','structure']
sqanti.head()


df6 = pd.merge(sqanti, hst, on ='isoform')


tab


tab = pd.DataFrame(df6.groupby(['structure']).size()).reset_index()
tab.columns = ['cat','count']
tab['col'] = ['#67A6D3','#515151','#E38E67','#6D4A97','#7AB581','#D8715B']
tab['perc'] = round(tab['count'] * 100 / sum(tab['count']),2)
tab['legend'] = tab['cat'] + ' ' + tab['perc'].astype(str) +  '% (' + tab['count'].astype(str) + ')'

tab


import numpy as np
import matplotlib.pyplot as plt

# Assuming df_pie is your DataFrame containing counts and legend information
data = tab['count']
colors = tab['col']

fig, ax = plt.subplots(figsize=(6, 3), subplot_kw=dict(aspect="equal"))

# Plotting the pie chart with specified colors
wedges, texts = ax.pie(data, wedgeprops=dict(width=0.5), startangle=-40, colors=colors)

bbox_props = dict(boxstyle="square,pad=0.3", fc="w", ec="k", lw=0.72)
kw = dict(arrowprops=dict(arrowstyle="-"),
          bbox=bbox_props, zorder=0, va="center")

for i, p in enumerate(wedges):
    ang = (p.theta2 - p.theta1) / 2.0 + p.theta1
    y = np.sin(np.deg2rad(ang))
    x = np.cos(np.deg2rad(ang))
    horizontalalignment = {-1: "right", 1: "left"}[int(np.sign(x))]
    connectionstyle = f"angle,angleA=0,angleB={ang}"
    kw["arrowprops"].update({"connectionstyle": connectionstyle})
    ax.annotate(tab['legend'][i], xy=(x, y), xytext=(1.35 * np.sign(x), 1.4 * y),
                horizontalalignment=horizontalalignment, **kw)
plt.savefig(figdir + '/pie.structure.hst.png', bbox_inches='tight',dpi=300,transparent=True)
plt.show()




