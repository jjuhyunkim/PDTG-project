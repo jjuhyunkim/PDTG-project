{
 "cells": [
  {
   "cell_type": "code",
   "execution_count": 1,
   "id": "29278b90-c691-4927-8333-0b7713580629",
   "metadata": {
    "tags": []
   },
   "outputs": [],
   "source": [
    "import pandas as pd"
   ]
  },
  {
   "cell_type": "code",
   "execution_count": null,
   "id": "84bb5260-d4ef-4a80-9dcd-918cb429386b",
   "metadata": {},
   "outputs": [],
   "source": [
    "pd.read_csv(\"\",\n",
    "           header = None)"
   ]
  }
 ],
 "metadata": {
  "kernelspec": {
   "display_name": "plot_python",
   "language": "python",
   "name": "plot_python"
  },
  "language_info": {
   "codemirror_mode": {
    "name": "ipython",
    "version": 3
   },
   "file_extension": ".py",
   "mimetype": "text/x-python",
   "name": "python",
   "nbconvert_exporter": "python",
   "pygments_lexer": "ipython3",
   "version": "3.9.17"
  }
 },
 "nbformat": 4,
 "nbformat_minor": 5
}
