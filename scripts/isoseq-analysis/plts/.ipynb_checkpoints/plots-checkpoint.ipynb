{
 "cells": [
  {
   "cell_type": "code",
   "execution_count": 9,
   "id": "a1bb2859-9d3d-4116-8ff6-4b2c5e3efd95",
   "metadata": {
    "tags": []
   },
   "outputs": [],
   "source": [
    "import pandas as pd\n",
    "import plotly.express as px"
   ]
  },
  {
   "cell_type": "code",
   "execution_count": 29,
   "id": "17b2cc6e-329e-4e4a-b5e4-7f803b6287f1",
   "metadata": {
    "tags": []
   },
   "outputs": [],
   "source": [
    "sqanti = \"/data/Phillippy/projects/HG002_Masseq/03.align/HG002_Bulk/01.mapped/chm13_2309/hg002.chm13.flnc_squanti3_rescued_classification.txt\""
   ]
  },
  {
   "cell_type": "code",
   "execution_count": 30,
   "id": "60fb4156-09ca-4c22-a990-b3411cfd72e1",
   "metadata": {
    "tags": []
   },
   "outputs": [],
   "source": [
    "tab = pd.read_csv(sqanti, sep = '\\t' , header=0)"
   ]
  },
  {
   "cell_type": "code",
   "execution_count": 31,
   "id": "0db11dc7-2c4b-4498-b22a-e5209d5f56af",
   "metadata": {
    "tags": []
   },
   "outputs": [
    {
     "data": {
      "text/html": [
       "<div>\n",
       "<style scoped>\n",
       "    .dataframe tbody tr th:only-of-type {\n",
       "        vertical-align: middle;\n",
       "    }\n",
       "\n",
       "    .dataframe tbody tr th {\n",
       "        vertical-align: top;\n",
       "    }\n",
       "\n",
       "    .dataframe thead th {\n",
       "        text-align: right;\n",
       "    }\n",
       "</style>\n",
       "<table border=\"1\" class=\"dataframe\">\n",
       "  <thead>\n",
       "    <tr style=\"text-align: right;\">\n",
       "      <th></th>\n",
       "      <th>isoform</th>\n",
       "      <th>chrom</th>\n",
       "      <th>strand</th>\n",
       "      <th>length</th>\n",
       "      <th>exons</th>\n",
       "      <th>structural_category</th>\n",
       "      <th>associated_gene</th>\n",
       "      <th>associated_transcript</th>\n",
       "      <th>ref_length</th>\n",
       "      <th>ref_exons</th>\n",
       "      <th>...</th>\n",
       "      <th>seq_A_downstream_TTS</th>\n",
       "      <th>dist_to_CAGE_peak</th>\n",
       "      <th>within_CAGE_peak</th>\n",
       "      <th>dist_to_polyA_site</th>\n",
       "      <th>within_polyA_site</th>\n",
       "      <th>polyA_motif</th>\n",
       "      <th>polyA_dist</th>\n",
       "      <th>polyA_motif_found</th>\n",
       "      <th>ORF_seq</th>\n",
       "      <th>ratio_TSS</th>\n",
       "    </tr>\n",
       "  </thead>\n",
       "  <tbody>\n",
       "    <tr>\n",
       "      <th>0</th>\n",
       "      <td>HHV4_unassigned_transcript_11</td>\n",
       "      <td>NC_007605.1</td>\n",
       "      <td>+</td>\n",
       "      <td>1803</td>\n",
       "      <td>19</td>\n",
       "      <td>full-splice_match</td>\n",
       "      <td>NaN</td>\n",
       "      <td>HHV4_unassigned_transcript_11</td>\n",
       "      <td>1803.0</td>\n",
       "      <td>19.0</td>\n",
       "      <td>...</td>\n",
       "      <td>TTGACACGCCTGTCATTCTA</td>\n",
       "      <td>NaN</td>\n",
       "      <td>False</td>\n",
       "      <td>NaN</td>\n",
       "      <td>False</td>\n",
       "      <td>AATAAA</td>\n",
       "      <td>-25.0</td>\n",
       "      <td>True</td>\n",
       "      <td>NaN</td>\n",
       "      <td>NaN</td>\n",
       "    </tr>\n",
       "    <tr>\n",
       "      <th>1</th>\n",
       "      <td>HHV4_unassigned_transcript_129</td>\n",
       "      <td>NC_007605.1</td>\n",
       "      <td>+</td>\n",
       "      <td>2150</td>\n",
       "      <td>4</td>\n",
       "      <td>full-splice_match</td>\n",
       "      <td>NaN</td>\n",
       "      <td>HHV4_unassigned_transcript_129</td>\n",
       "      <td>2150.0</td>\n",
       "      <td>4.0</td>\n",
       "      <td>...</td>\n",
       "      <td>ATTAAAATCTCTATGTCATT</td>\n",
       "      <td>NaN</td>\n",
       "      <td>False</td>\n",
       "      <td>NaN</td>\n",
       "      <td>False</td>\n",
       "      <td>AATAAA</td>\n",
       "      <td>-21.0</td>\n",
       "      <td>True</td>\n",
       "      <td>MAARVPIEELRELRHLRGHCREDVVGVQRSGRPLCLRPPRARDRAL...</td>\n",
       "      <td>NaN</td>\n",
       "    </tr>\n",
       "    <tr>\n",
       "      <th>2</th>\n",
       "      <td>HHV4_unassigned_transcript_135</td>\n",
       "      <td>NC_007605.1</td>\n",
       "      <td>+</td>\n",
       "      <td>2008</td>\n",
       "      <td>9</td>\n",
       "      <td>full-splice_match</td>\n",
       "      <td>NaN</td>\n",
       "      <td>HHV4_unassigned_transcript_135</td>\n",
       "      <td>2008.0</td>\n",
       "      <td>9.0</td>\n",
       "      <td>...</td>\n",
       "      <td>AAATGTGGTTTGTATGGCTA</td>\n",
       "      <td>NaN</td>\n",
       "      <td>False</td>\n",
       "      <td>NaN</td>\n",
       "      <td>False</td>\n",
       "      <td>AATAAA</td>\n",
       "      <td>-11.0</td>\n",
       "      <td>True</td>\n",
       "      <td>MFLACVLVLIVDAVLQLSPLLGAVTVVSMTLLLLAFVLWLSSPGGL...</td>\n",
       "      <td>NaN</td>\n",
       "    </tr>\n",
       "  </tbody>\n",
       "</table>\n",
       "<p>3 rows × 48 columns</p>\n",
       "</div>"
      ],
      "text/plain": [
       "                          isoform        chrom strand  length  exons  \\\n",
       "0   HHV4_unassigned_transcript_11  NC_007605.1      +    1803     19   \n",
       "1  HHV4_unassigned_transcript_129  NC_007605.1      +    2150      4   \n",
       "2  HHV4_unassigned_transcript_135  NC_007605.1      +    2008      9   \n",
       "\n",
       "  structural_category associated_gene           associated_transcript  \\\n",
       "0   full-splice_match             NaN   HHV4_unassigned_transcript_11   \n",
       "1   full-splice_match             NaN  HHV4_unassigned_transcript_129   \n",
       "2   full-splice_match             NaN  HHV4_unassigned_transcript_135   \n",
       "\n",
       "   ref_length  ref_exons  ...  seq_A_downstream_TTS  dist_to_CAGE_peak  \\\n",
       "0      1803.0       19.0  ...  TTGACACGCCTGTCATTCTA                NaN   \n",
       "1      2150.0        4.0  ...  ATTAAAATCTCTATGTCATT                NaN   \n",
       "2      2008.0        9.0  ...  AAATGTGGTTTGTATGGCTA                NaN   \n",
       "\n",
       "   within_CAGE_peak  dist_to_polyA_site within_polyA_site  polyA_motif  \\\n",
       "0             False                 NaN             False       AATAAA   \n",
       "1             False                 NaN             False       AATAAA   \n",
       "2             False                 NaN             False       AATAAA   \n",
       "\n",
       "  polyA_dist  polyA_motif_found  \\\n",
       "0      -25.0               True   \n",
       "1      -21.0               True   \n",
       "2      -11.0               True   \n",
       "\n",
       "                                             ORF_seq  ratio_TSS  \n",
       "0                                                NaN        NaN  \n",
       "1  MAARVPIEELRELRHLRGHCREDVVGVQRSGRPLCLRPPRARDRAL...        NaN  \n",
       "2  MFLACVLVLIVDAVLQLSPLLGAVTVVSMTLLLLAFVLWLSSPGGL...        NaN  \n",
       "\n",
       "[3 rows x 48 columns]"
      ]
     },
     "execution_count": 31,
     "metadata": {},
     "output_type": "execute_result"
    }
   ],
   "source": [
    "tab.head(3)"
   ]
  },
  {
   "cell_type": "code",
   "execution_count": 7,
   "id": "31af142b-db8e-4c15-a50a-85b065ca0b89",
   "metadata": {
    "tags": []
   },
   "outputs": [
    {
     "data": {
      "text/plain": [
       "Index(['isoform', 'chrom', 'strand', 'length', 'exons', 'structural_category',\n",
       "       'associated_gene', 'associated_transcript', 'ref_length', 'ref_exons',\n",
       "       'diff_to_TSS', 'diff_to_TTS', 'diff_to_gene_TSS', 'diff_to_gene_TTS',\n",
       "       'subcategory', 'RTS_stage', 'all_canonical', 'min_sample_cov',\n",
       "       'min_cov', 'min_cov_pos', 'sd_cov', 'FL', 'n_indels', 'n_indels_junc',\n",
       "       'bite', 'iso_exp', 'gene_exp', 'ratio_exp', 'FSM_class', 'coding',\n",
       "       'ORF_length', 'CDS_length', 'CDS_start', 'CDS_end', 'CDS_genomic_start',\n",
       "       'CDS_genomic_end', 'predicted_NMD', 'perc_A_downstream_TTS',\n",
       "       'seq_A_downstream_TTS', 'dist_to_CAGE_peak', 'within_CAGE_peak',\n",
       "       'dist_to_polyA_site', 'within_polyA_site', 'polyA_motif', 'polyA_dist',\n",
       "       'polyA_motif_found', 'ORF_seq', 'ratio_TSS'],\n",
       "      dtype='object')"
      ]
     },
     "execution_count": 7,
     "metadata": {},
     "output_type": "execute_result"
    }
   ],
   "source": [
    "tab.columns"
   ]
  },
  {
   "cell_type": "code",
   "execution_count": 36,
   "id": "85ce9e1c-997a-47a0-97e2-47ce411e645e",
   "metadata": {
    "tags": []
   },
   "outputs": [],
   "source": [
    "# Filter out transcripts with RTS \n",
    "tab = tab[tab['RTS_stage'] != True ]"
   ]
  },
  {
   "cell_type": "code",
   "execution_count": 19,
   "id": "19b55b24-2b03-42f4-afec-9eb0f806bb99",
   "metadata": {
    "tags": []
   },
   "outputs": [
    {
     "data": {
      "text/plain": [
       "{'antisense',\n",
       " 'full-splice_match',\n",
       " 'genic',\n",
       " 'incomplete-splice_match',\n",
       " 'intergenic',\n",
       " 'novel_in_catalog',\n",
       " 'novel_not_in_catalog'}"
      ]
     },
     "execution_count": 19,
     "metadata": {},
     "output_type": "execute_result"
    }
   ],
   "source": [
    "set(tab['structural_category'])"
   ]
  },
  {
   "cell_type": "code",
   "execution_count": null,
   "id": "e5387dae-15ca-4623-a43d-74fb5d39349e",
   "metadata": {},
   "outputs": [],
   "source": []
  },
  {
   "cell_type": "code",
   "execution_count": 41,
   "id": "6f75ff73-78ce-4acb-bcca-6e8855ea9b78",
   "metadata": {
    "tags": []
   },
   "outputs": [
    {
     "data": {
      "text/html": [
       "<div>\n",
       "<style scoped>\n",
       "    .dataframe tbody tr th:only-of-type {\n",
       "        vertical-align: middle;\n",
       "    }\n",
       "\n",
       "    .dataframe tbody tr th {\n",
       "        vertical-align: top;\n",
       "    }\n",
       "\n",
       "    .dataframe thead th {\n",
       "        text-align: right;\n",
       "    }\n",
       "</style>\n",
       "<table border=\"1\" class=\"dataframe\">\n",
       "  <thead>\n",
       "    <tr style=\"text-align: right;\">\n",
       "      <th></th>\n",
       "      <th>polyA_motif_found</th>\n",
       "      <th>within_polyA_site</th>\n",
       "      <th>within_CAGE_peak</th>\n",
       "    </tr>\n",
       "    <tr>\n",
       "      <th>structural_category</th>\n",
       "      <th></th>\n",
       "      <th></th>\n",
       "      <th></th>\n",
       "    </tr>\n",
       "  </thead>\n",
       "  <tbody>\n",
       "    <tr>\n",
       "      <th>antisense</th>\n",
       "      <td>155</td>\n",
       "      <td>155</td>\n",
       "      <td>155</td>\n",
       "    </tr>\n",
       "    <tr>\n",
       "      <th>full-splice_match</th>\n",
       "      <td>33829</td>\n",
       "      <td>33829</td>\n",
       "      <td>33829</td>\n",
       "    </tr>\n",
       "    <tr>\n",
       "      <th>genic</th>\n",
       "      <td>62</td>\n",
       "      <td>62</td>\n",
       "      <td>62</td>\n",
       "    </tr>\n",
       "    <tr>\n",
       "      <th>incomplete-splice_match</th>\n",
       "      <td>2447</td>\n",
       "      <td>2447</td>\n",
       "      <td>2447</td>\n",
       "    </tr>\n",
       "    <tr>\n",
       "      <th>intergenic</th>\n",
       "      <td>131</td>\n",
       "      <td>131</td>\n",
       "      <td>131</td>\n",
       "    </tr>\n",
       "    <tr>\n",
       "      <th>novel_in_catalog</th>\n",
       "      <td>5095</td>\n",
       "      <td>5095</td>\n",
       "      <td>5095</td>\n",
       "    </tr>\n",
       "    <tr>\n",
       "      <th>novel_not_in_catalog</th>\n",
       "      <td>5098</td>\n",
       "      <td>5098</td>\n",
       "      <td>5098</td>\n",
       "    </tr>\n",
       "  </tbody>\n",
       "</table>\n",
       "</div>"
      ],
      "text/plain": [
       "                         polyA_motif_found  within_polyA_site  \\\n",
       "structural_category                                             \n",
       "antisense                              155                155   \n",
       "full-splice_match                    33829              33829   \n",
       "genic                                   62                 62   \n",
       "incomplete-splice_match               2447               2447   \n",
       "intergenic                             131                131   \n",
       "novel_in_catalog                      5095               5095   \n",
       "novel_not_in_catalog                  5098               5098   \n",
       "\n",
       "                         within_CAGE_peak  \n",
       "structural_category                        \n",
       "antisense                             155  \n",
       "full-splice_match                   33829  \n",
       "genic                                  62  \n",
       "incomplete-splice_match              2447  \n",
       "intergenic                            131  \n",
       "novel_in_catalog                     5095  \n",
       "novel_not_in_catalog                 5098  "
      ]
     },
     "execution_count": 41,
     "metadata": {},
     "output_type": "execute_result"
    }
   ],
   "source": [
    "tab.groupby(['structural_category'])[['polyA_motif_found','within_polyA_site','within_CAGE_peak']].count()"
   ]
  },
  {
   "cell_type": "code",
   "execution_count": 37,
   "id": "87a45aa4-5a18-471d-8a1f-0965ed93aed3",
   "metadata": {
    "tags": []
   },
   "outputs": [
    {
     "data": {
      "text/plain": [
       "polyA_motif_found\n",
       "False    26502\n",
       "True     20315\n",
       "Name: polyA_motif_found, dtype: int64"
      ]
     },
     "execution_count": 37,
     "metadata": {},
     "output_type": "execute_result"
    }
   ],
   "source": [
    "tab.groupby(['polyA_motif_found'])['polyA_motif_found'].count()"
   ]
  },
  {
   "cell_type": "code",
   "execution_count": 16,
   "id": "2ecf9344-9945-40f5-9c0c-0149348fb388",
   "metadata": {
    "tags": []
   },
   "outputs": [
    {
     "data": {
      "text/plain": [
       "coding\n",
       "coding        43729\n",
       "non_coding     4741\n",
       "Name: coding, dtype: int64"
      ]
     },
     "execution_count": 16,
     "metadata": {},
     "output_type": "execute_result"
    }
   ],
   "source": [
    "tab.groupby(['coding'])['coding'].count()"
   ]
  },
  {
   "cell_type": "code",
   "execution_count": 15,
   "id": "7be25351-5b99-4b57-a153-348e6b313fa4",
   "metadata": {
    "tags": []
   },
   "outputs": [
    {
     "data": {
      "text/plain": [
       "predicted_NMD\n",
       "False    38606\n",
       "True      5116\n",
       "Name: predicted_NMD, dtype: int64"
      ]
     },
     "execution_count": 15,
     "metadata": {},
     "output_type": "execute_result"
    }
   ],
   "source": [
    "tab.groupby(['predicted_NMD'])['predicted_NMD'].count()"
   ]
  },
  {
   "cell_type": "code",
   "execution_count": 38,
   "id": "b2f62a1f-96d5-4a19-a54d-7b7c0f37bba3",
   "metadata": {
    "tags": []
   },
   "outputs": [
    {
     "data": {
      "text/plain": [
       "within_polyA_site\n",
       "False    45667\n",
       "True      1150\n",
       "Name: within_polyA_site, dtype: int64"
      ]
     },
     "execution_count": 38,
     "metadata": {},
     "output_type": "execute_result"
    }
   ],
   "source": [
    "tab.groupby(['within_polyA_site'])['within_polyA_site'].count()"
   ]
  },
  {
   "cell_type": "code",
   "execution_count": null,
   "id": "e084bc88-e2db-4913-aba5-24127cc8b055",
   "metadata": {},
   "outputs": [],
   "source": [
    "fig = px.histogram(df, x=\"sex\", y=\"total_bill\",\n",
    "             color='smoker', barmode='group',\n",
    "             height=400)\n",
    "fig.show()"
   ]
  }
 ],
 "metadata": {
  "kernelspec": {
   "display_name": "plot_python",
   "language": "python",
   "name": "plot_python"
  },
  "language_info": {
   "codemirror_mode": {
    "name": "ipython",
    "version": 3
   },
   "file_extension": ".py",
   "mimetype": "text/x-python",
   "name": "python",
   "nbconvert_exporter": "python",
   "pygments_lexer": "ipython3",
   "version": "3.9.17"
  }
 },
 "nbformat": 4,
 "nbformat_minor": 5
}
