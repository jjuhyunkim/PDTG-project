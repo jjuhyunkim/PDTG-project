{
 "cells": [
  {
   "cell_type": "markdown",
   "id": "9a2026be-5cd8-453f-a510-6342553355e3",
   "metadata": {},
   "source": [
    "# plotting the number of transcripts from different gene annotation files"
   ]
  },
  {
   "cell_type": "code",
   "execution_count": 1,
   "id": "db402b78-c8a8-4dd4-b832-85e5be2742d7",
   "metadata": {
    "tags": []
   },
   "outputs": [],
   "source": [
    "from upsetplot import plot\n",
    "from matplotlib import pyplot as plt\n",
    "import pandas as pd"
   ]
  },
  {
   "cell_type": "code",
   "execution_count": 2,
   "id": "533d644b-afc7-4c38-870a-e3ae32ea75c6",
   "metadata": {
    "tags": []
   },
   "outputs": [],
   "source": [
    "figDir = \"/data/Phillippy/projects/HG002_Masseq/PDTG-project/figures/isoseq\""
   ]
  },
  {
   "cell_type": "markdown",
   "id": "6a067b0f-50f5-4f04-b8bf-b07a850bb482",
   "metadata": {},
   "source": [
    "## Load data generated from gffcompare"
   ]
  },
  {
   "cell_type": "code",
   "execution_count": 3,
   "id": "4cafed77-aaf7-4d63-887e-05e7ecf2fffa",
   "metadata": {
    "tags": []
   },
   "outputs": [],
   "source": [
    "track = \"/data/Phillippy/projects/HG002_Masseq/05.mergeGFF/chm13.vs.chm13/5.1_merge_woUCSC/chm13v2.0.curated.refseq.tracking\""
   ]
  },
  {
   "cell_type": "code",
   "execution_count": 4,
   "id": "bf88fe91-47ff-4882-be97-49d09c68606e",
   "metadata": {
    "tags": []
   },
   "outputs": [],
   "source": [
    "dat = pd.read_csv(track, sep = '\\t', header=None, index_col= None)"
   ]
  },
  {
   "cell_type": "code",
   "execution_count": 5,
   "id": "d7a89aaa-dd44-4389-8dd3-368045822c8f",
   "metadata": {
    "tags": []
   },
   "outputs": [
    {
     "data": {
      "text/html": [
       "<div>\n",
       "<style scoped>\n",
       "    .dataframe tbody tr th:only-of-type {\n",
       "        vertical-align: middle;\n",
       "    }\n",
       "\n",
       "    .dataframe tbody tr th {\n",
       "        vertical-align: top;\n",
       "    }\n",
       "\n",
       "    .dataframe thead th {\n",
       "        text-align: right;\n",
       "    }\n",
       "</style>\n",
       "<table border=\"1\" class=\"dataframe\">\n",
       "  <thead>\n",
       "    <tr style=\"text-align: right;\">\n",
       "      <th></th>\n",
       "      <th>0</th>\n",
       "      <th>1</th>\n",
       "      <th>2</th>\n",
       "      <th>3</th>\n",
       "      <th>4</th>\n",
       "      <th>5</th>\n",
       "    </tr>\n",
       "  </thead>\n",
       "  <tbody>\n",
       "    <tr>\n",
       "      <th>0</th>\n",
       "      <td>TCONS_00000001</td>\n",
       "      <td>XLOC_000001</td>\n",
       "      <td>-</td>\n",
       "      <td>u</td>\n",
       "      <td>q1:LOC124905335_1|XR_007068557.1_1|2|0.000000|...</td>\n",
       "      <td>-</td>\n",
       "    </tr>\n",
       "    <tr>\n",
       "      <th>1</th>\n",
       "      <td>TCONS_00000002</td>\n",
       "      <td>XLOC_000002</td>\n",
       "      <td>-</td>\n",
       "      <td>u</td>\n",
       "      <td>q1:LINC01409|XR_007065319.1|2|0.000000|0.00000...</td>\n",
       "      <td>q2:gene-LINC01409|rna-XR_007069729.1|2|0.00000...</td>\n",
       "    </tr>\n",
       "    <tr>\n",
       "      <th>2</th>\n",
       "      <td>TCONS_00000003</td>\n",
       "      <td>XLOC_000002</td>\n",
       "      <td>-</td>\n",
       "      <td>u</td>\n",
       "      <td>q1:LINC01409|XR_007065320.1|2|0.000000|0.00000...</td>\n",
       "      <td>q2:gene-LINC01409|rna-XR_007069730.1|2|0.00000...</td>\n",
       "    </tr>\n",
       "    <tr>\n",
       "      <th>3</th>\n",
       "      <td>TCONS_00000004</td>\n",
       "      <td>XLOC_000003</td>\n",
       "      <td>-</td>\n",
       "      <td>u</td>\n",
       "      <td>q1:LOC124903817|XR_007065339.1|2|0.000000|0.00...</td>\n",
       "      <td>-</td>\n",
       "    </tr>\n",
       "    <tr>\n",
       "      <th>4</th>\n",
       "      <td>TCONS_00000005</td>\n",
       "      <td>XLOC_000004</td>\n",
       "      <td>-</td>\n",
       "      <td>u</td>\n",
       "      <td>q1:FAM87B|NR_103536.1|2|0.000000|0.000000|0.00...</td>\n",
       "      <td>q2:gene-FAM87B|rna-NR_103536.1|2|0.000000|0.00...</td>\n",
       "    </tr>\n",
       "  </tbody>\n",
       "</table>\n",
       "</div>"
      ],
      "text/plain": [
       "                0            1  2  3  \\\n",
       "0  TCONS_00000001  XLOC_000001  -  u   \n",
       "1  TCONS_00000002  XLOC_000002  -  u   \n",
       "2  TCONS_00000003  XLOC_000002  -  u   \n",
       "3  TCONS_00000004  XLOC_000003  -  u   \n",
       "4  TCONS_00000005  XLOC_000004  -  u   \n",
       "\n",
       "                                                   4  \\\n",
       "0  q1:LOC124905335_1|XR_007068557.1_1|2|0.000000|...   \n",
       "1  q1:LINC01409|XR_007065319.1|2|0.000000|0.00000...   \n",
       "2  q1:LINC01409|XR_007065320.1|2|0.000000|0.00000...   \n",
       "3  q1:LOC124903817|XR_007065339.1|2|0.000000|0.00...   \n",
       "4  q1:FAM87B|NR_103536.1|2|0.000000|0.000000|0.00...   \n",
       "\n",
       "                                                   5  \n",
       "0                                                  -  \n",
       "1  q2:gene-LINC01409|rna-XR_007069729.1|2|0.00000...  \n",
       "2  q2:gene-LINC01409|rna-XR_007069730.1|2|0.00000...  \n",
       "3                                                  -  \n",
       "4  q2:gene-FAM87B|rna-NR_103536.1|2|0.000000|0.00...  "
      ]
     },
     "execution_count": 5,
     "metadata": {},
     "output_type": "execute_result"
    }
   ],
   "source": [
    "dat.head()"
   ]
  },
  {
   "cell_type": "code",
   "execution_count": 6,
   "id": "a6684d4a-d68d-4b1d-a18e-fe446511455f",
   "metadata": {
    "tags": []
   },
   "outputs": [],
   "source": [
    "dat[4] = [False if item=='-' else True for item in dat[4]]\n",
    "dat[5] = [False if item=='-' else True for item in dat[5]]\n",
    "# dat[6] = [False if item=='-' else True for item in dat[6]]"
   ]
  },
  {
   "cell_type": "code",
   "execution_count": 7,
   "id": "6d9b16bb-b3f4-499f-a005-84499f1e2901",
   "metadata": {
    "tags": []
   },
   "outputs": [],
   "source": [
    "# dat = dat.set_index([4,5,6])\n",
    "dat = dat.set_index([4,5])"
   ]
  },
  {
   "cell_type": "code",
   "execution_count": 8,
   "id": "72ffc4f4-8746-499c-9e07-02e1c32c1e8d",
   "metadata": {
    "tags": []
   },
   "outputs": [
    {
     "data": {
      "text/html": [
       "<div>\n",
       "<style scoped>\n",
       "    .dataframe tbody tr th:only-of-type {\n",
       "        vertical-align: middle;\n",
       "    }\n",
       "\n",
       "    .dataframe tbody tr th {\n",
       "        vertical-align: top;\n",
       "    }\n",
       "\n",
       "    .dataframe thead th {\n",
       "        text-align: right;\n",
       "    }\n",
       "</style>\n",
       "<table border=\"1\" class=\"dataframe\">\n",
       "  <thead>\n",
       "    <tr style=\"text-align: right;\">\n",
       "      <th></th>\n",
       "      <th></th>\n",
       "      <th>0</th>\n",
       "      <th>1</th>\n",
       "      <th>2</th>\n",
       "      <th>3</th>\n",
       "    </tr>\n",
       "    <tr>\n",
       "      <th>4</th>\n",
       "      <th>5</th>\n",
       "      <th></th>\n",
       "      <th></th>\n",
       "      <th></th>\n",
       "      <th></th>\n",
       "    </tr>\n",
       "  </thead>\n",
       "  <tbody>\n",
       "    <tr>\n",
       "      <th rowspan=\"5\" valign=\"top\">True</th>\n",
       "      <th>False</th>\n",
       "      <td>TCONS_00000001</td>\n",
       "      <td>XLOC_000001</td>\n",
       "      <td>-</td>\n",
       "      <td>u</td>\n",
       "    </tr>\n",
       "    <tr>\n",
       "      <th>True</th>\n",
       "      <td>TCONS_00000002</td>\n",
       "      <td>XLOC_000002</td>\n",
       "      <td>-</td>\n",
       "      <td>u</td>\n",
       "    </tr>\n",
       "    <tr>\n",
       "      <th>True</th>\n",
       "      <td>TCONS_00000003</td>\n",
       "      <td>XLOC_000002</td>\n",
       "      <td>-</td>\n",
       "      <td>u</td>\n",
       "    </tr>\n",
       "    <tr>\n",
       "      <th>False</th>\n",
       "      <td>TCONS_00000004</td>\n",
       "      <td>XLOC_000003</td>\n",
       "      <td>-</td>\n",
       "      <td>u</td>\n",
       "    </tr>\n",
       "    <tr>\n",
       "      <th>True</th>\n",
       "      <td>TCONS_00000005</td>\n",
       "      <td>XLOC_000004</td>\n",
       "      <td>-</td>\n",
       "      <td>u</td>\n",
       "    </tr>\n",
       "  </tbody>\n",
       "</table>\n",
       "</div>"
      ],
      "text/plain": [
       "                         0            1  2  3\n",
       "4    5                                       \n",
       "True False  TCONS_00000001  XLOC_000001  -  u\n",
       "     True   TCONS_00000002  XLOC_000002  -  u\n",
       "     True   TCONS_00000003  XLOC_000002  -  u\n",
       "     False  TCONS_00000004  XLOC_000003  -  u\n",
       "     True   TCONS_00000005  XLOC_000004  -  u"
      ]
     },
     "execution_count": 8,
     "metadata": {},
     "output_type": "execute_result"
    }
   ],
   "source": [
    "dat.head()"
   ]
  },
  {
   "cell_type": "code",
   "execution_count": 9,
   "id": "4973a11d-4843-4bef-a644-f24aa5e35774",
   "metadata": {
    "tags": []
   },
   "outputs": [],
   "source": [
    "dat = dat.rename_axis(index={4:'JHU RefSeq/Liftoff',# RefSeq_Liftoff_v5.1\n",
    "           5:'NCBI RefSeq', # GCF_009914755\n",
    "           # 6:'UCSC GENCODE'\n",
    "           })"
   ]
  },
  {
   "cell_type": "code",
   "execution_count": 61,
   "id": "4379c896-0948-42d4-a694-54ba0bad774a",
   "metadata": {},
   "outputs": [
    {
     "name": "stderr",
     "output_type": "stream",
     "text": [
      "/data/kimj75/anaconda3/envs/plot_python/lib/python3.9/site-packages/upsetplot/plotting.py:660: FutureWarning: A value is trying to be set on a copy of a DataFrame or Series through chained assignment using an inplace method.\n",
      "The behavior will change in pandas 3.0. This inplace method will never work because the intermediate object on which we are setting values always behaves as a copy.\n",
      "\n",
      "For example, when doing 'df[col].method(value, inplace=True)', try using 'df.method({col: value}, inplace=True)' or df[col] = df[col].method(value) instead, to perform the operation inplace on the original object.\n",
      "\n",
      "\n",
      "  styles[\"linewidth\"].fillna(1, inplace=True)\n",
      "/data/kimj75/anaconda3/envs/plot_python/lib/python3.9/site-packages/upsetplot/plotting.py:661: FutureWarning: A value is trying to be set on a copy of a DataFrame or Series through chained assignment using an inplace method.\n",
      "The behavior will change in pandas 3.0. This inplace method will never work because the intermediate object on which we are setting values always behaves as a copy.\n",
      "\n",
      "For example, when doing 'df[col].method(value, inplace=True)', try using 'df.method({col: value}, inplace=True)' or df[col] = df[col].method(value) instead, to perform the operation inplace on the original object.\n",
      "\n",
      "\n",
      "  styles[\"facecolor\"].fillna(self._facecolor, inplace=True)\n",
      "/data/kimj75/anaconda3/envs/plot_python/lib/python3.9/site-packages/upsetplot/plotting.py:662: FutureWarning: A value is trying to be set on a copy of a DataFrame or Series through chained assignment using an inplace method.\n",
      "The behavior will change in pandas 3.0. This inplace method will never work because the intermediate object on which we are setting values always behaves as a copy.\n",
      "\n",
      "For example, when doing 'df[col].method(value, inplace=True)', try using 'df.method({col: value}, inplace=True)' or df[col] = df[col].method(value) instead, to perform the operation inplace on the original object.\n",
      "\n",
      "\n",
      "  styles[\"edgecolor\"].fillna(styles[\"facecolor\"], inplace=True)\n",
      "/data/kimj75/anaconda3/envs/plot_python/lib/python3.9/site-packages/upsetplot/plotting.py:662: FutureWarning: Setting an item of incompatible dtype is deprecated and will raise an error in a future version of pandas. Value '['black' '#0000002e' '#0000002e' 'black' 'black' 'black']' has dtype incompatible with float64, please explicitly cast to a compatible dtype first.\n",
      "  styles[\"edgecolor\"].fillna(styles[\"facecolor\"], inplace=True)\n",
      "/data/kimj75/anaconda3/envs/plot_python/lib/python3.9/site-packages/upsetplot/plotting.py:663: FutureWarning: A value is trying to be set on a copy of a DataFrame or Series through chained assignment using an inplace method.\n",
      "The behavior will change in pandas 3.0. This inplace method will never work because the intermediate object on which we are setting values always behaves as a copy.\n",
      "\n",
      "For example, when doing 'df[col].method(value, inplace=True)', try using 'df.method({col: value}, inplace=True)' or df[col] = df[col].method(value) instead, to perform the operation inplace on the original object.\n",
      "\n",
      "\n",
      "  styles[\"linestyle\"].fillna(\"solid\", inplace=True)\n",
      "/data/kimj75/anaconda3/envs/plot_python/lib/python3.9/site-packages/upsetplot/plotting.py:663: FutureWarning: Setting an item of incompatible dtype is deprecated and will raise an error in a future version of pandas. Value 'solid' has dtype incompatible with float64, please explicitly cast to a compatible dtype first.\n",
      "  styles[\"linestyle\"].fillna(\"solid\", inplace=True)\n"
     ]
    },
    {
     "data": {
      "image/png": "[encoded data removed]",
      "text/plain": [
       "<Figure size 437.5x388.889 with 4 Axes>"
      ]
     },
     "metadata": {},
     "output_type": "display_data"
    }
   ],
   "source": [
    "import matplotlib.pyplot as plt\n",
    "from upsetplot import plot\n",
    "\n",
    "fig = plt.figure(figsize=(15, 5))\n",
    "\n",
    "# Create the UpSet plot\n",
    "plt2 = plot(dat,\n",
    "     show_counts=True, \n",
    "     element_size=35,\n",
    "     fig=fig\n",
    "    )\n",
    "\n",
    "# Access the axes and rotate the bar labels\n",
    "\n",
    "for label in fig.axes[3].texts:  # All text elements, including bar labels\n",
    "    label.set_text(f\"{int(label.get_text()):,}\")\n",
    "    label.set_rotation(45)  # Rotate the labels by 45 degrees\n",
    "\n",
    "for label in fig.axes[0].texts:  # All text elements, including bar labels\n",
    "    label.set_text(f\"{int(label.get_text()):,}\")\n",
    "    \n",
    "\n",
    "\n",
    "# Show or save the plot\n",
    "# plt.savefig(figDir + '/transcript_annotation.upsetPlot.CHM13_only.svg')\n",
    "plt.show()\n"
   ]
  },
  {
   "cell_type": "code",
   "execution_count": null,
   "id": "df5783b2-058d-4a41-bc91-5eeeb2786d7a",
   "metadata": {},
   "outputs": [],
   "source": []
  }
 ],
 "metadata": {
  "kernelspec": {
   "display_name": "plot_python",
   "language": "python",
   "name": "plot_python"
  },
  "language_info": {
   "codemirror_mode": {
    "name": "ipython",
    "version": 3
   },
   "file_extension": ".py",
   "mimetype": "text/x-python",
   "name": "python",
   "nbconvert_exporter": "python",
   "pygments_lexer": "ipython3",
   "version": "3.9.17"
  }
 },
 "nbformat": 4,
 "nbformat_minor": 5
}
