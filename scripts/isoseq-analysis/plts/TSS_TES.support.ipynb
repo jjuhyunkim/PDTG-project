{
 "cells": [
  {
   "cell_type": "code",
   "execution_count": 1,
   "id": "6aeb3651-c2e2-4c2a-bdeb-d11367ba8ddf",
   "metadata": {
    "tags": []
   },
   "outputs": [],
   "source": [
    "figdir = '/data/Phillippy/projects/HG002_Masseq/PDTG-project/scripts/isoseq-analysis/plts'"
   ]
  },
  {
   "cell_type": "code",
   "execution_count": 2,
   "id": "a1bb2859-9d3d-4116-8ff6-4b2c5e3efd95",
   "metadata": {
    "tags": []
   },
   "outputs": [],
   "source": [
    "import pandas as pd\n",
    "import plotly.express as px"
   ]
  },
  {
   "cell_type": "raw",
   "id": "5c03aa84-0896-423f-b4e5-cacb160a5093",
   "metadata": {},
   "source": [
    "sed -i \"1i `head -1 hg002.chm13.flnc_squanti3_classification.txt`\" hg002.chm13.flnc_squanti3_rescued_classification.txt "
   ]
  },
  {
   "cell_type": "code",
   "execution_count": 3,
   "id": "17b2cc6e-329e-4e4a-b5e4-7f803b6287f1",
   "metadata": {
    "tags": []
   },
   "outputs": [],
   "source": [
    "sqanti = \"/data/Phillippy/projects/HG002_Masseq/03.align/HG002_Bulk/01.mapped/chm13_2309/isoquant_extended/hg002.chm13.flnc_extended_sqanti3_rescued_classification.txt\""
   ]
  },
  {
   "cell_type": "code",
   "execution_count": 4,
   "id": "60fb4156-09ca-4c22-a990-b3411cfd72e1",
   "metadata": {
    "tags": []
   },
   "outputs": [],
   "source": [
    "tab = pd.read_csv(sqanti, sep = '\\t' , header=0)"
   ]
  },
  {
   "cell_type": "code",
   "execution_count": 5,
   "id": "0db11dc7-2c4b-4498-b22a-e5209d5f56af",
   "metadata": {
    "tags": []
   },
   "outputs": [
    {
     "data": {
      "text/html": [
       "<div>\n",
       "<style scoped>\n",
       "    .dataframe tbody tr th:only-of-type {\n",
       "        vertical-align: middle;\n",
       "    }\n",
       "\n",
       "    .dataframe tbody tr th {\n",
       "        vertical-align: top;\n",
       "    }\n",
       "\n",
       "    .dataframe thead th {\n",
       "        text-align: right;\n",
       "    }\n",
       "</style>\n",
       "<table border=\"1\" class=\"dataframe\">\n",
       "  <thead>\n",
       "    <tr style=\"text-align: right;\">\n",
       "      <th></th>\n",
       "      <th>isoform</th>\n",
       "      <th>chrom</th>\n",
       "      <th>strand</th>\n",
       "      <th>length</th>\n",
       "      <th>exons</th>\n",
       "      <th>structural_category</th>\n",
       "      <th>associated_gene</th>\n",
       "      <th>associated_transcript</th>\n",
       "      <th>ref_length</th>\n",
       "      <th>ref_exons</th>\n",
       "      <th>...</th>\n",
       "      <th>seq_A_downstream_TTS</th>\n",
       "      <th>dist_to_CAGE_peak</th>\n",
       "      <th>within_CAGE_peak</th>\n",
       "      <th>dist_to_polyA_site</th>\n",
       "      <th>within_polyA_site</th>\n",
       "      <th>polyA_motif</th>\n",
       "      <th>polyA_dist</th>\n",
       "      <th>polyA_motif_found</th>\n",
       "      <th>ORF_seq</th>\n",
       "      <th>ratio_TSS</th>\n",
       "    </tr>\n",
       "  </thead>\n",
       "  <tbody>\n",
       "    <tr>\n",
       "      <th>0</th>\n",
       "      <td>HHV4_unassigned_transcript_11</td>\n",
       "      <td>NC_007605.1</td>\n",
       "      <td>+</td>\n",
       "      <td>1803</td>\n",
       "      <td>19</td>\n",
       "      <td>full-splice_match</td>\n",
       "      <td>NaN</td>\n",
       "      <td>HHV4_unassigned_transcript_11</td>\n",
       "      <td>1803.0</td>\n",
       "      <td>19.0</td>\n",
       "      <td>...</td>\n",
       "      <td>TTGACACGCCTGTCATTCTA</td>\n",
       "      <td>NaN</td>\n",
       "      <td>False</td>\n",
       "      <td>NaN</td>\n",
       "      <td>False</td>\n",
       "      <td>AATAAA</td>\n",
       "      <td>-25.0</td>\n",
       "      <td>True</td>\n",
       "      <td>NaN</td>\n",
       "      <td>NaN</td>\n",
       "    </tr>\n",
       "    <tr>\n",
       "      <th>1</th>\n",
       "      <td>HHV4_unassigned_transcript_129</td>\n",
       "      <td>NC_007605.1</td>\n",
       "      <td>+</td>\n",
       "      <td>2150</td>\n",
       "      <td>4</td>\n",
       "      <td>full-splice_match</td>\n",
       "      <td>NaN</td>\n",
       "      <td>HHV4_unassigned_transcript_129</td>\n",
       "      <td>2150.0</td>\n",
       "      <td>4.0</td>\n",
       "      <td>...</td>\n",
       "      <td>ATTAAAATCTCTATGTCATT</td>\n",
       "      <td>NaN</td>\n",
       "      <td>False</td>\n",
       "      <td>NaN</td>\n",
       "      <td>False</td>\n",
       "      <td>AATAAA</td>\n",
       "      <td>-21.0</td>\n",
       "      <td>True</td>\n",
       "      <td>MAARVPIEELRELRHLRGHCREDVVGVQRSGRPLCLRPPRARDRAL...</td>\n",
       "      <td>NaN</td>\n",
       "    </tr>\n",
       "    <tr>\n",
       "      <th>2</th>\n",
       "      <td>HHV4_unassigned_transcript_135</td>\n",
       "      <td>NC_007605.1</td>\n",
       "      <td>+</td>\n",
       "      <td>2008</td>\n",
       "      <td>9</td>\n",
       "      <td>full-splice_match</td>\n",
       "      <td>NaN</td>\n",
       "      <td>HHV4_unassigned_transcript_135</td>\n",
       "      <td>2008.0</td>\n",
       "      <td>9.0</td>\n",
       "      <td>...</td>\n",
       "      <td>AAATGTGGTTTGTATGGCTA</td>\n",
       "      <td>NaN</td>\n",
       "      <td>False</td>\n",
       "      <td>NaN</td>\n",
       "      <td>False</td>\n",
       "      <td>AATAAA</td>\n",
       "      <td>-11.0</td>\n",
       "      <td>True</td>\n",
       "      <td>MFLACVLVLIVDAVLQLSPLLGAVTVVSMTLLLLAFVLWLSSPGGL...</td>\n",
       "      <td>NaN</td>\n",
       "    </tr>\n",
       "  </tbody>\n",
       "</table>\n",
       "<p>3 rows × 48 columns</p>\n",
       "</div>"
      ],
      "text/plain": [
       "                          isoform        chrom strand  length  exons  \\\n",
       "0   HHV4_unassigned_transcript_11  NC_007605.1      +    1803     19   \n",
       "1  HHV4_unassigned_transcript_129  NC_007605.1      +    2150      4   \n",
       "2  HHV4_unassigned_transcript_135  NC_007605.1      +    2008      9   \n",
       "\n",
       "  structural_category associated_gene           associated_transcript  \\\n",
       "0   full-splice_match             NaN   HHV4_unassigned_transcript_11   \n",
       "1   full-splice_match             NaN  HHV4_unassigned_transcript_129   \n",
       "2   full-splice_match             NaN  HHV4_unassigned_transcript_135   \n",
       "\n",
       "   ref_length  ref_exons  ...  seq_A_downstream_TTS  dist_to_CAGE_peak  \\\n",
       "0      1803.0       19.0  ...  TTGACACGCCTGTCATTCTA                NaN   \n",
       "1      2150.0        4.0  ...  ATTAAAATCTCTATGTCATT                NaN   \n",
       "2      2008.0        9.0  ...  AAATGTGGTTTGTATGGCTA                NaN   \n",
       "\n",
       "   within_CAGE_peak  dist_to_polyA_site within_polyA_site  polyA_motif  \\\n",
       "0             False                 NaN             False       AATAAA   \n",
       "1             False                 NaN             False       AATAAA   \n",
       "2             False                 NaN             False       AATAAA   \n",
       "\n",
       "  polyA_dist  polyA_motif_found  \\\n",
       "0      -25.0               True   \n",
       "1      -21.0               True   \n",
       "2      -11.0               True   \n",
       "\n",
       "                                             ORF_seq  ratio_TSS  \n",
       "0                                                NaN        NaN  \n",
       "1  MAARVPIEELRELRHLRGHCREDVVGVQRSGRPLCLRPPRARDRAL...        NaN  \n",
       "2  MFLACVLVLIVDAVLQLSPLLGAVTVVSMTLLLLAFVLWLSSPGGL...        NaN  \n",
       "\n",
       "[3 rows x 48 columns]"
      ]
     },
     "execution_count": 5,
     "metadata": {},
     "output_type": "execute_result"
    }
   ],
   "source": [
    "tab.head(3)"
   ]
  },
  {
   "cell_type": "code",
   "execution_count": 6,
   "id": "31af142b-db8e-4c15-a50a-85b065ca0b89",
   "metadata": {
    "tags": []
   },
   "outputs": [
    {
     "data": {
      "text/plain": [
       "Index(['isoform', 'chrom', 'strand', 'length', 'exons', 'structural_category',\n",
       "       'associated_gene', 'associated_transcript', 'ref_length', 'ref_exons',\n",
       "       'diff_to_TSS', 'diff_to_TTS', 'diff_to_gene_TSS', 'diff_to_gene_TTS',\n",
       "       'subcategory', 'RTS_stage', 'all_canonical', 'min_sample_cov',\n",
       "       'min_cov', 'min_cov_pos', 'sd_cov', 'FL', 'n_indels', 'n_indels_junc',\n",
       "       'bite', 'iso_exp', 'gene_exp', 'ratio_exp', 'FSM_class', 'coding',\n",
       "       'ORF_length', 'CDS_length', 'CDS_start', 'CDS_end', 'CDS_genomic_start',\n",
       "       'CDS_genomic_end', 'predicted_NMD', 'perc_A_downstream_TTS',\n",
       "       'seq_A_downstream_TTS', 'dist_to_CAGE_peak', 'within_CAGE_peak',\n",
       "       'dist_to_polyA_site', 'within_polyA_site', 'polyA_motif', 'polyA_dist',\n",
       "       'polyA_motif_found', 'ORF_seq', 'ratio_TSS'],\n",
       "      dtype='object')"
      ]
     },
     "execution_count": 6,
     "metadata": {},
     "output_type": "execute_result"
    }
   ],
   "source": [
    "tab.columns"
   ]
  },
  {
   "cell_type": "code",
   "execution_count": 7,
   "id": "85ce9e1c-997a-47a0-97e2-47ce411e645e",
   "metadata": {
    "tags": []
   },
   "outputs": [],
   "source": [
    "# Filter out transcripts with RTS \n",
    "tab = tab[tab['RTS_stage'] != True ]"
   ]
  },
  {
   "cell_type": "code",
   "execution_count": 9,
   "id": "b1f36da3-6a5c-4629-a785-b80d05e3f24e",
   "metadata": {
    "tags": []
   },
   "outputs": [
    {
     "data": {
      "text/plain": [
       "(292905, 48)"
      ]
     },
     "execution_count": 9,
     "metadata": {},
     "output_type": "execute_result"
    }
   ],
   "source": [
    "tab.shape"
   ]
  },
  {
   "cell_type": "code",
   "execution_count": 10,
   "id": "94db84c0-277d-4b42-a02c-2fb9611b87e2",
   "metadata": {
    "tags": []
   },
   "outputs": [
    {
     "data": {
      "text/html": [
       "<div>\n",
       "<style scoped>\n",
       "    .dataframe tbody tr th:only-of-type {\n",
       "        vertical-align: middle;\n",
       "    }\n",
       "\n",
       "    .dataframe tbody tr th {\n",
       "        vertical-align: top;\n",
       "    }\n",
       "\n",
       "    .dataframe thead th {\n",
       "        text-align: right;\n",
       "    }\n",
       "</style>\n",
       "<table border=\"1\" class=\"dataframe\">\n",
       "  <thead>\n",
       "    <tr style=\"text-align: right;\">\n",
       "      <th></th>\n",
       "      <th>isoform</th>\n",
       "      <th>chrom</th>\n",
       "      <th>strand</th>\n",
       "      <th>length</th>\n",
       "      <th>exons</th>\n",
       "      <th>structural_category</th>\n",
       "      <th>associated_gene</th>\n",
       "      <th>associated_transcript</th>\n",
       "      <th>ref_length</th>\n",
       "      <th>ref_exons</th>\n",
       "      <th>...</th>\n",
       "      <th>seq_A_downstream_TTS</th>\n",
       "      <th>dist_to_CAGE_peak</th>\n",
       "      <th>within_CAGE_peak</th>\n",
       "      <th>dist_to_polyA_site</th>\n",
       "      <th>within_polyA_site</th>\n",
       "      <th>polyA_motif</th>\n",
       "      <th>polyA_dist</th>\n",
       "      <th>polyA_motif_found</th>\n",
       "      <th>ORF_seq</th>\n",
       "      <th>ratio_TSS</th>\n",
       "    </tr>\n",
       "  </thead>\n",
       "  <tbody>\n",
       "    <tr>\n",
       "      <th>0</th>\n",
       "      <td>HHV4_unassigned_transcript_11</td>\n",
       "      <td>NC_007605.1</td>\n",
       "      <td>+</td>\n",
       "      <td>1803</td>\n",
       "      <td>19</td>\n",
       "      <td>full-splice_match</td>\n",
       "      <td>NaN</td>\n",
       "      <td>HHV4_unassigned_transcript_11</td>\n",
       "      <td>1803.0</td>\n",
       "      <td>19.0</td>\n",
       "      <td>...</td>\n",
       "      <td>TTGACACGCCTGTCATTCTA</td>\n",
       "      <td>NaN</td>\n",
       "      <td>False</td>\n",
       "      <td>NaN</td>\n",
       "      <td>False</td>\n",
       "      <td>AATAAA</td>\n",
       "      <td>-25.0</td>\n",
       "      <td>True</td>\n",
       "      <td>NaN</td>\n",
       "      <td>NaN</td>\n",
       "    </tr>\n",
       "    <tr>\n",
       "      <th>1</th>\n",
       "      <td>HHV4_unassigned_transcript_129</td>\n",
       "      <td>NC_007605.1</td>\n",
       "      <td>+</td>\n",
       "      <td>2150</td>\n",
       "      <td>4</td>\n",
       "      <td>full-splice_match</td>\n",
       "      <td>NaN</td>\n",
       "      <td>HHV4_unassigned_transcript_129</td>\n",
       "      <td>2150.0</td>\n",
       "      <td>4.0</td>\n",
       "      <td>...</td>\n",
       "      <td>ATTAAAATCTCTATGTCATT</td>\n",
       "      <td>NaN</td>\n",
       "      <td>False</td>\n",
       "      <td>NaN</td>\n",
       "      <td>False</td>\n",
       "      <td>AATAAA</td>\n",
       "      <td>-21.0</td>\n",
       "      <td>True</td>\n",
       "      <td>MAARVPIEELRELRHLRGHCREDVVGVQRSGRPLCLRPPRARDRAL...</td>\n",
       "      <td>NaN</td>\n",
       "    </tr>\n",
       "    <tr>\n",
       "      <th>2</th>\n",
       "      <td>HHV4_unassigned_transcript_135</td>\n",
       "      <td>NC_007605.1</td>\n",
       "      <td>+</td>\n",
       "      <td>2008</td>\n",
       "      <td>9</td>\n",
       "      <td>full-splice_match</td>\n",
       "      <td>NaN</td>\n",
       "      <td>HHV4_unassigned_transcript_135</td>\n",
       "      <td>2008.0</td>\n",
       "      <td>9.0</td>\n",
       "      <td>...</td>\n",
       "      <td>AAATGTGGTTTGTATGGCTA</td>\n",
       "      <td>NaN</td>\n",
       "      <td>False</td>\n",
       "      <td>NaN</td>\n",
       "      <td>False</td>\n",
       "      <td>AATAAA</td>\n",
       "      <td>-11.0</td>\n",
       "      <td>True</td>\n",
       "      <td>MFLACVLVLIVDAVLQLSPLLGAVTVVSMTLLLLAFVLWLSSPGGL...</td>\n",
       "      <td>NaN</td>\n",
       "    </tr>\n",
       "  </tbody>\n",
       "</table>\n",
       "<p>3 rows × 48 columns</p>\n",
       "</div>"
      ],
      "text/plain": [
       "                          isoform        chrom strand  length  exons  \\\n",
       "0   HHV4_unassigned_transcript_11  NC_007605.1      +    1803     19   \n",
       "1  HHV4_unassigned_transcript_129  NC_007605.1      +    2150      4   \n",
       "2  HHV4_unassigned_transcript_135  NC_007605.1      +    2008      9   \n",
       "\n",
       "  structural_category associated_gene           associated_transcript  \\\n",
       "0   full-splice_match             NaN   HHV4_unassigned_transcript_11   \n",
       "1   full-splice_match             NaN  HHV4_unassigned_transcript_129   \n",
       "2   full-splice_match             NaN  HHV4_unassigned_transcript_135   \n",
       "\n",
       "   ref_length  ref_exons  ...  seq_A_downstream_TTS  dist_to_CAGE_peak  \\\n",
       "0      1803.0       19.0  ...  TTGACACGCCTGTCATTCTA                NaN   \n",
       "1      2150.0        4.0  ...  ATTAAAATCTCTATGTCATT                NaN   \n",
       "2      2008.0        9.0  ...  AAATGTGGTTTGTATGGCTA                NaN   \n",
       "\n",
       "   within_CAGE_peak  dist_to_polyA_site within_polyA_site  polyA_motif  \\\n",
       "0             False                 NaN             False       AATAAA   \n",
       "1             False                 NaN             False       AATAAA   \n",
       "2             False                 NaN             False       AATAAA   \n",
       "\n",
       "  polyA_dist  polyA_motif_found  \\\n",
       "0      -25.0               True   \n",
       "1      -21.0               True   \n",
       "2      -11.0               True   \n",
       "\n",
       "                                             ORF_seq  ratio_TSS  \n",
       "0                                                NaN        NaN  \n",
       "1  MAARVPIEELRELRHLRGHCREDVVGVQRSGRPLCLRPPRARDRAL...        NaN  \n",
       "2  MFLACVLVLIVDAVLQLSPLLGAVTVVSMTLLLLAFVLWLSSPGGL...        NaN  \n",
       "\n",
       "[3 rows x 48 columns]"
      ]
     },
     "execution_count": 10,
     "metadata": {},
     "output_type": "execute_result"
    }
   ],
   "source": [
    "tab.head(3)"
   ]
  },
  {
   "cell_type": "code",
   "execution_count": 11,
   "id": "16c7dbf5-9846-4d5e-840f-ffd2037c1de9",
   "metadata": {
    "tags": []
   },
   "outputs": [
    {
     "name": "stdout",
     "output_type": "stream",
     "text": [
      "polyA_motif_found\n",
      "within_polyA_site\n",
      "within_CAGE_peak\n"
     ]
    }
   ],
   "source": [
    "df = pd.DataFrame(tab.groupby(['structural_category'])['structural_category'].count())\n",
    "df.columns = ['total_count']\n",
    "for cat in ['polyA_motif_found','within_polyA_site','within_CAGE_peak'] :\n",
    "    print(cat)\n",
    "    df_tmp = pd.DataFrame(tab[tab[cat] == True].groupby(['structural_category'])[cat].count())\n",
    "    df = df.merge(df_tmp, left_index= True, right_index= True)\n",
    "    df[cat + '_perc'] = df[cat] / df['total_count'] * 100\n",
    "df = df.reset_index()    "
   ]
  },
  {
   "cell_type": "code",
   "execution_count": 12,
   "id": "f13f002f-22cd-4012-8020-fd16f8eae7f3",
   "metadata": {
    "tags": []
   },
   "outputs": [
    {
     "data": {
      "text/html": [
       "<div>\n",
       "<style scoped>\n",
       "    .dataframe tbody tr th:only-of-type {\n",
       "        vertical-align: middle;\n",
       "    }\n",
       "\n",
       "    .dataframe tbody tr th {\n",
       "        vertical-align: top;\n",
       "    }\n",
       "\n",
       "    .dataframe thead th {\n",
       "        text-align: right;\n",
       "    }\n",
       "</style>\n",
       "<table border=\"1\" class=\"dataframe\">\n",
       "  <thead>\n",
       "    <tr style=\"text-align: right;\">\n",
       "      <th></th>\n",
       "      <th>structural_category</th>\n",
       "      <th>total_count</th>\n",
       "      <th>polyA_motif_found</th>\n",
       "      <th>polyA_motif_found_perc</th>\n",
       "      <th>within_polyA_site</th>\n",
       "      <th>within_polyA_site_perc</th>\n",
       "      <th>within_CAGE_peak</th>\n",
       "      <th>within_CAGE_peak_perc</th>\n",
       "    </tr>\n",
       "  </thead>\n",
       "  <tbody>\n",
       "    <tr>\n",
       "      <th>0</th>\n",
       "      <td>antisense</td>\n",
       "      <td>227</td>\n",
       "      <td>51</td>\n",
       "      <td>22.466960</td>\n",
       "      <td>41</td>\n",
       "      <td>18.061674</td>\n",
       "      <td>36</td>\n",
       "      <td>15.859031</td>\n",
       "    </tr>\n",
       "    <tr>\n",
       "      <th>1</th>\n",
       "      <td>full-splice_match</td>\n",
       "      <td>276465</td>\n",
       "      <td>93127</td>\n",
       "      <td>33.684915</td>\n",
       "      <td>240448</td>\n",
       "      <td>86.972311</td>\n",
       "      <td>227607</td>\n",
       "      <td>82.327600</td>\n",
       "    </tr>\n",
       "    <tr>\n",
       "      <th>2</th>\n",
       "      <td>genic</td>\n",
       "      <td>65</td>\n",
       "      <td>20</td>\n",
       "      <td>30.769231</td>\n",
       "      <td>23</td>\n",
       "      <td>35.384615</td>\n",
       "      <td>30</td>\n",
       "      <td>46.153846</td>\n",
       "    </tr>\n",
       "    <tr>\n",
       "      <th>3</th>\n",
       "      <td>incomplete-splice_match</td>\n",
       "      <td>5154</td>\n",
       "      <td>1005</td>\n",
       "      <td>19.499418</td>\n",
       "      <td>2562</td>\n",
       "      <td>49.708964</td>\n",
       "      <td>3174</td>\n",
       "      <td>61.583236</td>\n",
       "    </tr>\n",
       "    <tr>\n",
       "      <th>4</th>\n",
       "      <td>intergenic</td>\n",
       "      <td>191</td>\n",
       "      <td>39</td>\n",
       "      <td>20.418848</td>\n",
       "      <td>19</td>\n",
       "      <td>9.947644</td>\n",
       "      <td>21</td>\n",
       "      <td>10.994764</td>\n",
       "    </tr>\n",
       "    <tr>\n",
       "      <th>5</th>\n",
       "      <td>novel_in_catalog</td>\n",
       "      <td>5244</td>\n",
       "      <td>2405</td>\n",
       "      <td>45.861937</td>\n",
       "      <td>4395</td>\n",
       "      <td>83.810069</td>\n",
       "      <td>3770</td>\n",
       "      <td>71.891686</td>\n",
       "    </tr>\n",
       "    <tr>\n",
       "      <th>6</th>\n",
       "      <td>novel_not_in_catalog</td>\n",
       "      <td>5559</td>\n",
       "      <td>1818</td>\n",
       "      <td>32.703724</td>\n",
       "      <td>3331</td>\n",
       "      <td>59.920849</td>\n",
       "      <td>3156</td>\n",
       "      <td>56.772801</td>\n",
       "    </tr>\n",
       "  </tbody>\n",
       "</table>\n",
       "</div>"
      ],
      "text/plain": [
       "       structural_category  total_count  polyA_motif_found  \\\n",
       "0                antisense          227                 51   \n",
       "1        full-splice_match       276465              93127   \n",
       "2                    genic           65                 20   \n",
       "3  incomplete-splice_match         5154               1005   \n",
       "4               intergenic          191                 39   \n",
       "5         novel_in_catalog         5244               2405   \n",
       "6     novel_not_in_catalog         5559               1818   \n",
       "\n",
       "   polyA_motif_found_perc  within_polyA_site  within_polyA_site_perc  \\\n",
       "0               22.466960                 41               18.061674   \n",
       "1               33.684915             240448               86.972311   \n",
       "2               30.769231                 23               35.384615   \n",
       "3               19.499418               2562               49.708964   \n",
       "4               20.418848                 19                9.947644   \n",
       "5               45.861937               4395               83.810069   \n",
       "6               32.703724               3331               59.920849   \n",
       "\n",
       "   within_CAGE_peak  within_CAGE_peak_perc  \n",
       "0                36              15.859031  \n",
       "1            227607              82.327600  \n",
       "2                30              46.153846  \n",
       "3              3174              61.583236  \n",
       "4                21              10.994764  \n",
       "5              3770              71.891686  \n",
       "6              3156              56.772801  "
      ]
     },
     "execution_count": 12,
     "metadata": {},
     "output_type": "execute_result"
    }
   ],
   "source": [
    "df"
   ]
  },
  {
   "cell_type": "code",
   "execution_count": 18,
   "id": "db5a9a41-d72a-4ae7-85cb-6d5d7904a59b",
   "metadata": {
    "tags": []
   },
   "outputs": [],
   "source": [
    "nameDic = {'antisense' :'antisense',\n",
    "           'full-splice_match' :'FSM',\n",
    "           'genic' :'genic',\n",
    "           'incomplete-splice_match' :'ISM',\n",
    "           'intergenic' :'intergenic',\n",
    "           'novel_in_catalog' :'NIC',\n",
    "           'novel_not_in_catalog' :'NNC'}"
   ]
  },
  {
   "cell_type": "code",
   "execution_count": 19,
   "id": "ee60474d-68b4-4814-8ff2-5cfe5b364ea5",
   "metadata": {
    "tags": []
   },
   "outputs": [],
   "source": [
    "my_list = [nameDic[item] if item in nameDic else item for item in df['structural_category'].to_list()]"
   ]
  },
  {
   "cell_type": "code",
   "execution_count": 22,
   "id": "46fe01a2-d245-4f97-a632-f8db6fd2c108",
   "metadata": {
    "tags": []
   },
   "outputs": [],
   "source": [
    "df['structural_category'] = my_list"
   ]
  },
  {
   "cell_type": "code",
   "execution_count": 153,
   "id": "09a7af06-dba7-4fb5-a25a-022534e32a8e",
   "metadata": {
    "tags": []
   },
   "outputs": [
    {
     "data": {
      "application/vnd.plotly.v1+json": {
       "config": {
        "plotlyServerURL": "https://plot.ly"
       },
       "data": [
        {
         "marker": {
          "color": "rgb(153,204,255)"
         },
         "name": "PolyA motif",
         "orientation": "h",
         "type": "bar",
         "width": 0.5,
         "x": [
          22.46696035242291,
          33.68491490785452,
          30.76923076923077,
          19.49941792782305,
          20.418848167539267,
          45.861937452326465,
          32.70372369131139
         ],
         "y": [
          "antisense",
          "FSM",
          "genic",
          "ISM",
          "intergenic",
          "NIC",
          "NNC"
         ]
        },
        {
         "marker": {
          "color": "rgb(0,102,204)"
         },
         "name": "TES peak",
         "orientation": "h",
         "type": "bar",
         "width": 0.5,
         "x": [
          18.06167400881057,
          86.97231114245926,
          35.38461538461539,
          49.708963911525025,
          9.947643979057592,
          83.81006864988558,
          59.92084907357439
         ],
         "y": [
          "antisense",
          "FSM",
          "genic",
          "ISM",
          "intergenic",
          "NIC",
          "NNC"
         ]
        }
       ],
       "layout": {
        "height": 400,
        "legend": {
         "font": {
          "size": 17
         }
        },
        "template": {
         "data": {
          "bar": [
           {
            "error_x": {
             "color": "#2a3f5f"
            },
            "error_y": {
             "color": "#2a3f5f"
            },
            "marker": {
             "line": {
              "color": "white",
              "width": 0.5
             },
             "pattern": {
              "fillmode": "overlay",
              "size": 10,
              "solidity": 0.2
             }
            },
            "type": "bar"
           }
          ],
          "barpolar": [
           {
            "marker": {
             "line": {
              "color": "white",
              "width": 0.5
             },
             "pattern": {
              "fillmode": "overlay",
              "size": 10,
              "solidity": 0.2
             }
            },
            "type": "barpolar"
           }
          ],
          "carpet": [
           {
            "aaxis": {
             "endlinecolor": "#2a3f5f",
             "gridcolor": "#C8D4E3",
             "linecolor": "#C8D4E3",
             "minorgridcolor": "#C8D4E3",
             "startlinecolor": "#2a3f5f"
            },
            "baxis": {
             "endlinecolor": "#2a3f5f",
             "gridcolor": "#C8D4E3",
             "linecolor": "#C8D4E3",
             "minorgridcolor": "#C8D4E3",
             "startlinecolor": "#2a3f5f"
            },
            "type": "carpet"
           }
          ],
          "choropleth": [
           {
            "colorbar": {
             "outlinewidth": 0,
             "ticks": ""
            },
            "type": "choropleth"
           }
          ],
          "contour": [
           {
            "colorbar": {
             "outlinewidth": 0,
             "ticks": ""
            },
            "colorscale": [
             [
              0,
              "#0d0887"
             ],
             [
              0.1111111111111111,
              "#46039f"
             ],
             [
              0.2222222222222222,
              "#7201a8"
             ],
             [
              0.3333333333333333,
              "#9c179e"
             ],
             [
              0.4444444444444444,
              "#bd3786"
             ],
             [
              0.5555555555555556,
              "#d8576b"
             ],
             [
              0.6666666666666666,
              "#ed7953"
             ],
             [
              0.7777777777777778,
              "#fb9f3a"
             ],
             [
              0.8888888888888888,
              "#fdca26"
             ],
             [
              1,
              "#f0f921"
             ]
            ],
            "type": "contour"
           }
          ],
          "contourcarpet": [
           {
            "colorbar": {
             "outlinewidth": 0,
             "ticks": ""
            },
            "type": "contourcarpet"
           }
          ],
          "heatmap": [
           {
            "colorbar": {
             "outlinewidth": 0,
             "ticks": ""
            },
            "colorscale": [
             [
              0,
              "#0d0887"
             ],
             [
              0.1111111111111111,
              "#46039f"
             ],
             [
              0.2222222222222222,
              "#7201a8"
             ],
             [
              0.3333333333333333,
              "#9c179e"
             ],
             [
              0.4444444444444444,
              "#bd3786"
             ],
             [
              0.5555555555555556,
              "#d8576b"
             ],
             [
              0.6666666666666666,
              "#ed7953"
             ],
             [
              0.7777777777777778,
              "#fb9f3a"
             ],
             [
              0.8888888888888888,
              "#fdca26"
             ],
             [
              1,
              "#f0f921"
             ]
            ],
            "type": "heatmap"
           }
          ],
          "heatmapgl": [
           {
            "colorbar": {
             "outlinewidth": 0,
             "ticks": ""
            },
            "colorscale": [
             [
              0,
              "#0d0887"
             ],
             [
              0.1111111111111111,
              "#46039f"
             ],
             [
              0.2222222222222222,
              "#7201a8"
             ],
             [
              0.3333333333333333,
              "#9c179e"
             ],
             [
              0.4444444444444444,
              "#bd3786"
             ],
             [
              0.5555555555555556,
              "#d8576b"
             ],
             [
              0.6666666666666666,
              "#ed7953"
             ],
             [
              0.7777777777777778,
              "#fb9f3a"
             ],
             [
              0.8888888888888888,
              "#fdca26"
             ],
             [
              1,
              "#f0f921"
             ]
            ],
            "type": "heatmapgl"
           }
          ],
          "histogram": [
           {
            "marker": {
             "pattern": {
              "fillmode": "overlay",
              "size": 10,
              "solidity": 0.2
             }
            },
            "type": "histogram"
           }
          ],
          "histogram2d": [
           {
            "colorbar": {
             "outlinewidth": 0,
             "ticks": ""
            },
            "colorscale": [
             [
              0,
              "#0d0887"
             ],
             [
              0.1111111111111111,
              "#46039f"
             ],
             [
              0.2222222222222222,
              "#7201a8"
             ],
             [
              0.3333333333333333,
              "#9c179e"
             ],
             [
              0.4444444444444444,
              "#bd3786"
             ],
             [
              0.5555555555555556,
              "#d8576b"
             ],
             [
              0.6666666666666666,
              "#ed7953"
             ],
             [
              0.7777777777777778,
              "#fb9f3a"
             ],
             [
              0.8888888888888888,
              "#fdca26"
             ],
             [
              1,
              "#f0f921"
             ]
            ],
            "type": "histogram2d"
           }
          ],
          "histogram2dcontour": [
           {
            "colorbar": {
             "outlinewidth": 0,
             "ticks": ""
            },
            "colorscale": [
             [
              0,
              "#0d0887"
             ],
             [
              0.1111111111111111,
              "#46039f"
             ],
             [
              0.2222222222222222,
              "#7201a8"
             ],
             [
              0.3333333333333333,
              "#9c179e"
             ],
             [
              0.4444444444444444,
              "#bd3786"
             ],
             [
              0.5555555555555556,
              "#d8576b"
             ],
             [
              0.6666666666666666,
              "#ed7953"
             ],
             [
              0.7777777777777778,
              "#fb9f3a"
             ],
             [
              0.8888888888888888,
              "#fdca26"
             ],
             [
              1,
              "#f0f921"
             ]
            ],
            "type": "histogram2dcontour"
           }
          ],
          "mesh3d": [
           {
            "colorbar": {
             "outlinewidth": 0,
             "ticks": ""
            },
            "type": "mesh3d"
           }
          ],
          "parcoords": [
           {
            "line": {
             "colorbar": {
              "outlinewidth": 0,
              "ticks": ""
             }
            },
            "type": "parcoords"
           }
          ],
          "pie": [
           {
            "automargin": true,
            "type": "pie"
           }
          ],
          "scatter": [
           {
            "fillpattern": {
             "fillmode": "overlay",
             "size": 10,
             "solidity": 0.2
            },
            "type": "scatter"
           }
          ],
          "scatter3d": [
           {
            "line": {
             "colorbar": {
              "outlinewidth": 0,
              "ticks": ""
             }
            },
            "marker": {
             "colorbar": {
              "outlinewidth": 0,
              "ticks": ""
             }
            },
            "type": "scatter3d"
           }
          ],
          "scattercarpet": [
           {
            "marker": {
             "colorbar": {
              "outlinewidth": 0,
              "ticks": ""
             }
            },
            "type": "scattercarpet"
           }
          ],
          "scattergeo": [
           {
            "marker": {
             "colorbar": {
              "outlinewidth": 0,
              "ticks": ""
             }
            },
            "type": "scattergeo"
           }
          ],
          "scattergl": [
           {
            "marker": {
             "colorbar": {
              "outlinewidth": 0,
              "ticks": ""
             }
            },
            "type": "scattergl"
           }
          ],
          "scattermapbox": [
           {
            "marker": {
             "colorbar": {
              "outlinewidth": 0,
              "ticks": ""
             }
            },
            "type": "scattermapbox"
           }
          ],
          "scatterpolar": [
           {
            "marker": {
             "colorbar": {
              "outlinewidth": 0,
              "ticks": ""
             }
            },
            "type": "scatterpolar"
           }
          ],
          "scatterpolargl": [
           {
            "marker": {
             "colorbar": {
              "outlinewidth": 0,
              "ticks": ""
             }
            },
            "type": "scatterpolargl"
           }
          ],
          "scatterternary": [
           {
            "marker": {
             "colorbar": {
              "outlinewidth": 0,
              "ticks": ""
             }
            },
            "type": "scatterternary"
           }
          ],
          "surface": [
           {
            "colorbar": {
             "outlinewidth": 0,
             "ticks": ""
            },
            "colorscale": [
             [
              0,
              "#0d0887"
             ],
             [
              0.1111111111111111,
              "#46039f"
             ],
             [
              0.2222222222222222,
              "#7201a8"
             ],
             [
              0.3333333333333333,
              "#9c179e"
             ],
             [
              0.4444444444444444,
              "#bd3786"
             ],
             [
              0.5555555555555556,
              "#d8576b"
             ],
             [
              0.6666666666666666,
              "#ed7953"
             ],
             [
              0.7777777777777778,
              "#fb9f3a"
             ],
             [
              0.8888888888888888,
              "#fdca26"
             ],
             [
              1,
              "#f0f921"
             ]
            ],
            "type": "surface"
           }
          ],
          "table": [
           {
            "cells": {
             "fill": {
              "color": "#EBF0F8"
             },
             "line": {
              "color": "white"
             }
            },
            "header": {
             "fill": {
              "color": "#C8D4E3"
             },
             "line": {
              "color": "white"
             }
            },
            "type": "table"
           }
          ]
         },
         "layout": {
          "annotationdefaults": {
           "arrowcolor": "#2a3f5f",
           "arrowhead": 0,
           "arrowwidth": 1
          },
          "autotypenumbers": "strict",
          "coloraxis": {
           "colorbar": {
            "outlinewidth": 0,
            "ticks": ""
           }
          },
          "colorscale": {
           "diverging": [
            [
             0,
             "#8e0152"
            ],
            [
             0.1,
             "#c51b7d"
            ],
            [
             0.2,
             "#de77ae"
            ],
            [
             0.3,
             "#f1b6da"
            ],
            [
             0.4,
             "#fde0ef"
            ],
            [
             0.5,
             "#f7f7f7"
            ],
            [
             0.6,
             "#e6f5d0"
            ],
            [
             0.7,
             "#b8e186"
            ],
            [
             0.8,
             "#7fbc41"
            ],
            [
             0.9,
             "#4d9221"
            ],
            [
             1,
             "#276419"
            ]
           ],
           "sequential": [
            [
             0,
             "#0d0887"
            ],
            [
             0.1111111111111111,
             "#46039f"
            ],
            [
             0.2222222222222222,
             "#7201a8"
            ],
            [
             0.3333333333333333,
             "#9c179e"
            ],
            [
             0.4444444444444444,
             "#bd3786"
            ],
            [
             0.5555555555555556,
             "#d8576b"
            ],
            [
             0.6666666666666666,
             "#ed7953"
            ],
            [
             0.7777777777777778,
             "#fb9f3a"
            ],
            [
             0.8888888888888888,
             "#fdca26"
            ],
            [
             1,
             "#f0f921"
            ]
           ],
           "sequentialminus": [
            [
             0,
             "#0d0887"
            ],
            [
             0.1111111111111111,
             "#46039f"
            ],
            [
             0.2222222222222222,
             "#7201a8"
            ],
            [
             0.3333333333333333,
             "#9c179e"
            ],
            [
             0.4444444444444444,
             "#bd3786"
            ],
            [
             0.5555555555555556,
             "#d8576b"
            ],
            [
             0.6666666666666666,
             "#ed7953"
            ],
            [
             0.7777777777777778,
             "#fb9f3a"
            ],
            [
             0.8888888888888888,
             "#fdca26"
            ],
            [
             1,
             "#f0f921"
            ]
           ]
          },
          "colorway": [
           "#636efa",
           "#EF553B",
           "#00cc96",
           "#ab63fa",
           "#FFA15A",
           "#19d3f3",
           "#FF6692",
           "#B6E880",
           "#FF97FF",
           "#FECB52"
          ],
          "font": {
           "color": "#2a3f5f"
          },
          "geo": {
           "bgcolor": "white",
           "lakecolor": "white",
           "landcolor": "white",
           "showlakes": true,
           "showland": true,
           "subunitcolor": "#C8D4E3"
          },
          "hoverlabel": {
           "align": "left"
          },
          "hovermode": "closest",
          "mapbox": {
           "style": "light"
          },
          "paper_bgcolor": "white",
          "plot_bgcolor": "white",
          "polar": {
           "angularaxis": {
            "gridcolor": "#EBF0F8",
            "linecolor": "#EBF0F8",
            "ticks": ""
           },
           "bgcolor": "white",
           "radialaxis": {
            "gridcolor": "#EBF0F8",
            "linecolor": "#EBF0F8",
            "ticks": ""
           }
          },
          "scene": {
           "xaxis": {
            "backgroundcolor": "white",
            "gridcolor": "#DFE8F3",
            "gridwidth": 2,
            "linecolor": "#EBF0F8",
            "showbackground": true,
            "ticks": "",
            "zerolinecolor": "#EBF0F8"
           },
           "yaxis": {
            "backgroundcolor": "white",
            "gridcolor": "#DFE8F3",
            "gridwidth": 2,
            "linecolor": "#EBF0F8",
            "showbackground": true,
            "ticks": "",
            "zerolinecolor": "#EBF0F8"
           },
           "zaxis": {
            "backgroundcolor": "white",
            "gridcolor": "#DFE8F3",
            "gridwidth": 2,
            "linecolor": "#EBF0F8",
            "showbackground": true,
            "ticks": "",
            "zerolinecolor": "#EBF0F8"
           }
          },
          "shapedefaults": {
           "line": {
            "color": "#2a3f5f"
           }
          },
          "ternary": {
           "aaxis": {
            "gridcolor": "#DFE8F3",
            "linecolor": "#A2B1C6",
            "ticks": ""
           },
           "baxis": {
            "gridcolor": "#DFE8F3",
            "linecolor": "#A2B1C6",
            "ticks": ""
           },
           "bgcolor": "white",
           "caxis": {
            "gridcolor": "#DFE8F3",
            "linecolor": "#A2B1C6",
            "ticks": ""
           }
          },
          "title": {
           "x": 0.05
          },
          "xaxis": {
           "automargin": true,
           "gridcolor": "#EBF0F8",
           "linecolor": "#EBF0F8",
           "ticks": "",
           "title": {
            "standoff": 15
           },
           "zerolinecolor": "#EBF0F8",
           "zerolinewidth": 2
          },
          "yaxis": {
           "automargin": true,
           "gridcolor": "#EBF0F8",
           "linecolor": "#EBF0F8",
           "ticks": "",
           "title": {
            "standoff": 15
           },
           "zerolinecolor": "#EBF0F8",
           "zerolinewidth": 2
          }
         }
        },
        "title": {
         "font": {
          "size": 17
         },
         "text": "3' end support",
         "x": 0.45,
         "xanchor": "center",
         "y": 0.8,
         "yanchor": "top"
        },
        "width": 500,
        "xaxis": {
         "dtick": 25,
         "linecolor": "black",
         "linewidth": 1,
         "mirror": true,
         "range": [
          0,
          101
         ],
         "showline": true,
         "tick0": 25,
         "tickfont": {
          "size": 17
         },
         "title": {
          "font": {
           "size": 17
          },
          "text": "isoform (%)"
         },
         "type": "linear"
        },
        "yaxis": {
         "autorange": true,
         "categoryarray": [
          "antisense",
          "intergenic",
          "genic",
          "NNC",
          "NIC",
          "NIC",
          "ISM",
          "FSM"
         ],
         "categoryorder": "array",
         "linecolor": "black",
         "linewidth": 1,
         "mirror": true,
         "range": [
          -0.5,
          6.5
         ],
         "showline": true,
         "tickfont": {
          "size": 17
         },
         "ticksuffix": "  ",
         "type": "category"
        }
       }
      },
      "image/png": "[encoded data removed]",
      "text/html": [
       "<div>                            <div id=\"b43be909-c4e3-4e66-84fc-e08f70f58038\" class=\"plotly-graph-div\" style=\"height:400px; width:500px;\"></div>            <script type=\"text/javascript\">                require([\"plotly\"], function(Plotly) {                    window.PLOTLYENV=window.PLOTLYENV || {};                                    if (document.getElementById(\"b43be909-c4e3-4e66-84fc-e08f70f58038\")) {                    Plotly.newPlot(                        \"b43be909-c4e3-4e66-84fc-e08f70f58038\",                        [{\"marker\":{\"color\":\"rgb(153,204,255)\"},\"name\":\"PolyA motif\",\"orientation\":\"h\",\"x\":[22.46696035242291,33.68491490785452,30.76923076923077,19.49941792782305,20.418848167539267,45.861937452326465,32.70372369131139],\"y\":[\"antisense\",\"FSM\",\"genic\",\"ISM\",\"intergenic\",\"NIC\",\"NNC\"],\"type\":\"bar\",\"width\":0.5},{\"marker\":{\"color\":\"rgb(0,102,204)\"},\"name\":\"TES peak\",\"orientation\":\"h\",\"x\":[18.06167400881057,86.97231114245926,35.38461538461539,49.708963911525025,9.947643979057592,83.81006864988558,59.92084907357439],\"y\":[\"antisense\",\"FSM\",\"genic\",\"ISM\",\"intergenic\",\"NIC\",\"NNC\"],\"type\":\"bar\",\"width\":0.5}],                        {\"template\":{\"data\":{\"barpolar\":[{\"marker\":{\"line\":{\"color\":\"white\",\"width\":0.5},\"pattern\":{\"fillmode\":\"overlay\",\"size\":10,\"solidity\":0.2}},\"type\":\"barpolar\"}],\"bar\":[{\"error_x\":{\"color\":\"#2a3f5f\"},\"error_y\":{\"color\":\"#2a3f5f\"},\"marker\":{\"line\":{\"color\":\"white\",\"width\":0.5},\"pattern\":{\"fillmode\":\"overlay\",\"size\":10,\"solidity\":0.2}},\"type\":\"bar\"}],\"carpet\":[{\"aaxis\":{\"endlinecolor\":\"#2a3f5f\",\"gridcolor\":\"#C8D4E3\",\"linecolor\":\"#C8D4E3\",\"minorgridcolor\":\"#C8D4E3\",\"startlinecolor\":\"#2a3f5f\"},\"baxis\":{\"endlinecolor\":\"#2a3f5f\",\"gridcolor\":\"#C8D4E3\",\"linecolor\":\"#C8D4E3\",\"minorgridcolor\":\"#C8D4E3\",\"startlinecolor\":\"#2a3f5f\"},\"type\":\"carpet\"}],\"choropleth\":[{\"colorbar\":{\"outlinewidth\":0,\"ticks\":\"\"},\"type\":\"choropleth\"}],\"contourcarpet\":[{\"colorbar\":{\"outlinewidth\":0,\"ticks\":\"\"},\"type\":\"contourcarpet\"}],\"contour\":[{\"colorbar\":{\"outlinewidth\":0,\"ticks\":\"\"},\"colorscale\":[[0.0,\"#0d0887\"],[0.1111111111111111,\"#46039f\"],[0.2222222222222222,\"#7201a8\"],[0.3333333333333333,\"#9c179e\"],[0.4444444444444444,\"#bd3786\"],[0.5555555555555556,\"#d8576b\"],[0.6666666666666666,\"#ed7953\"],[0.7777777777777778,\"#fb9f3a\"],[0.8888888888888888,\"#fdca26\"],[1.0,\"#f0f921\"]],\"type\":\"contour\"}],\"heatmapgl\":[{\"colorbar\":{\"outlinewidth\":0,\"ticks\":\"\"},\"colorscale\":[[0.0,\"#0d0887\"],[0.1111111111111111,\"#46039f\"],[0.2222222222222222,\"#7201a8\"],[0.3333333333333333,\"#9c179e\"],[0.4444444444444444,\"#bd3786\"],[0.5555555555555556,\"#d8576b\"],[0.6666666666666666,\"#ed7953\"],[0.7777777777777778,\"#fb9f3a\"],[0.8888888888888888,\"#fdca26\"],[1.0,\"#f0f921\"]],\"type\":\"heatmapgl\"}],\"heatmap\":[{\"colorbar\":{\"outlinewidth\":0,\"ticks\":\"\"},\"colorscale\":[[0.0,\"#0d0887\"],[0.1111111111111111,\"#46039f\"],[0.2222222222222222,\"#7201a8\"],[0.3333333333333333,\"#9c179e\"],[0.4444444444444444,\"#bd3786\"],[0.5555555555555556,\"#d8576b\"],[0.6666666666666666,\"#ed7953\"],[0.7777777777777778,\"#fb9f3a\"],[0.8888888888888888,\"#fdca26\"],[1.0,\"#f0f921\"]],\"type\":\"heatmap\"}],\"histogram2dcontour\":[{\"colorbar\":{\"outlinewidth\":0,\"ticks\":\"\"},\"colorscale\":[[0.0,\"#0d0887\"],[0.1111111111111111,\"#46039f\"],[0.2222222222222222,\"#7201a8\"],[0.3333333333333333,\"#9c179e\"],[0.4444444444444444,\"#bd3786\"],[0.5555555555555556,\"#d8576b\"],[0.6666666666666666,\"#ed7953\"],[0.7777777777777778,\"#fb9f3a\"],[0.8888888888888888,\"#fdca26\"],[1.0,\"#f0f921\"]],\"type\":\"histogram2dcontour\"}],\"histogram2d\":[{\"colorbar\":{\"outlinewidth\":0,\"ticks\":\"\"},\"colorscale\":[[0.0,\"#0d0887\"],[0.1111111111111111,\"#46039f\"],[0.2222222222222222,\"#7201a8\"],[0.3333333333333333,\"#9c179e\"],[0.4444444444444444,\"#bd3786\"],[0.5555555555555556,\"#d8576b\"],[0.6666666666666666,\"#ed7953\"],[0.7777777777777778,\"#fb9f3a\"],[0.8888888888888888,\"#fdca26\"],[1.0,\"#f0f921\"]],\"type\":\"histogram2d\"}],\"histogram\":[{\"marker\":{\"pattern\":{\"fillmode\":\"overlay\",\"size\":10,\"solidity\":0.2}},\"type\":\"histogram\"}],\"mesh3d\":[{\"colorbar\":{\"outlinewidth\":0,\"ticks\":\"\"},\"type\":\"mesh3d\"}],\"parcoords\":[{\"line\":{\"colorbar\":{\"outlinewidth\":0,\"ticks\":\"\"}},\"type\":\"parcoords\"}],\"pie\":[{\"automargin\":true,\"type\":\"pie\"}],\"scatter3d\":[{\"line\":{\"colorbar\":{\"outlinewidth\":0,\"ticks\":\"\"}},\"marker\":{\"colorbar\":{\"outlinewidth\":0,\"ticks\":\"\"}},\"type\":\"scatter3d\"}],\"scattercarpet\":[{\"marker\":{\"colorbar\":{\"outlinewidth\":0,\"ticks\":\"\"}},\"type\":\"scattercarpet\"}],\"scattergeo\":[{\"marker\":{\"colorbar\":{\"outlinewidth\":0,\"ticks\":\"\"}},\"type\":\"scattergeo\"}],\"scattergl\":[{\"marker\":{\"colorbar\":{\"outlinewidth\":0,\"ticks\":\"\"}},\"type\":\"scattergl\"}],\"scattermapbox\":[{\"marker\":{\"colorbar\":{\"outlinewidth\":0,\"ticks\":\"\"}},\"type\":\"scattermapbox\"}],\"scatterpolargl\":[{\"marker\":{\"colorbar\":{\"outlinewidth\":0,\"ticks\":\"\"}},\"type\":\"scatterpolargl\"}],\"scatterpolar\":[{\"marker\":{\"colorbar\":{\"outlinewidth\":0,\"ticks\":\"\"}},\"type\":\"scatterpolar\"}],\"scatter\":[{\"fillpattern\":{\"fillmode\":\"overlay\",\"size\":10,\"solidity\":0.2},\"type\":\"scatter\"}],\"scatterternary\":[{\"marker\":{\"colorbar\":{\"outlinewidth\":0,\"ticks\":\"\"}},\"type\":\"scatterternary\"}],\"surface\":[{\"colorbar\":{\"outlinewidth\":0,\"ticks\":\"\"},\"colorscale\":[[0.0,\"#0d0887\"],[0.1111111111111111,\"#46039f\"],[0.2222222222222222,\"#7201a8\"],[0.3333333333333333,\"#9c179e\"],[0.4444444444444444,\"#bd3786\"],[0.5555555555555556,\"#d8576b\"],[0.6666666666666666,\"#ed7953\"],[0.7777777777777778,\"#fb9f3a\"],[0.8888888888888888,\"#fdca26\"],[1.0,\"#f0f921\"]],\"type\":\"surface\"}],\"table\":[{\"cells\":{\"fill\":{\"color\":\"#EBF0F8\"},\"line\":{\"color\":\"white\"}},\"header\":{\"fill\":{\"color\":\"#C8D4E3\"},\"line\":{\"color\":\"white\"}},\"type\":\"table\"}]},\"layout\":{\"annotationdefaults\":{\"arrowcolor\":\"#2a3f5f\",\"arrowhead\":0,\"arrowwidth\":1},\"autotypenumbers\":\"strict\",\"coloraxis\":{\"colorbar\":{\"outlinewidth\":0,\"ticks\":\"\"}},\"colorscale\":{\"diverging\":[[0,\"#8e0152\"],[0.1,\"#c51b7d\"],[0.2,\"#de77ae\"],[0.3,\"#f1b6da\"],[0.4,\"#fde0ef\"],[0.5,\"#f7f7f7\"],[0.6,\"#e6f5d0\"],[0.7,\"#b8e186\"],[0.8,\"#7fbc41\"],[0.9,\"#4d9221\"],[1,\"#276419\"]],\"sequential\":[[0.0,\"#0d0887\"],[0.1111111111111111,\"#46039f\"],[0.2222222222222222,\"#7201a8\"],[0.3333333333333333,\"#9c179e\"],[0.4444444444444444,\"#bd3786\"],[0.5555555555555556,\"#d8576b\"],[0.6666666666666666,\"#ed7953\"],[0.7777777777777778,\"#fb9f3a\"],[0.8888888888888888,\"#fdca26\"],[1.0,\"#f0f921\"]],\"sequentialminus\":[[0.0,\"#0d0887\"],[0.1111111111111111,\"#46039f\"],[0.2222222222222222,\"#7201a8\"],[0.3333333333333333,\"#9c179e\"],[0.4444444444444444,\"#bd3786\"],[0.5555555555555556,\"#d8576b\"],[0.6666666666666666,\"#ed7953\"],[0.7777777777777778,\"#fb9f3a\"],[0.8888888888888888,\"#fdca26\"],[1.0,\"#f0f921\"]]},\"colorway\":[\"#636efa\",\"#EF553B\",\"#00cc96\",\"#ab63fa\",\"#FFA15A\",\"#19d3f3\",\"#FF6692\",\"#B6E880\",\"#FF97FF\",\"#FECB52\"],\"font\":{\"color\":\"#2a3f5f\"},\"geo\":{\"bgcolor\":\"white\",\"lakecolor\":\"white\",\"landcolor\":\"white\",\"showlakes\":true,\"showland\":true,\"subunitcolor\":\"#C8D4E3\"},\"hoverlabel\":{\"align\":\"left\"},\"hovermode\":\"closest\",\"mapbox\":{\"style\":\"light\"},\"paper_bgcolor\":\"white\",\"plot_bgcolor\":\"white\",\"polar\":{\"angularaxis\":{\"gridcolor\":\"#EBF0F8\",\"linecolor\":\"#EBF0F8\",\"ticks\":\"\"},\"bgcolor\":\"white\",\"radialaxis\":{\"gridcolor\":\"#EBF0F8\",\"linecolor\":\"#EBF0F8\",\"ticks\":\"\"}},\"scene\":{\"xaxis\":{\"backgroundcolor\":\"white\",\"gridcolor\":\"#DFE8F3\",\"gridwidth\":2,\"linecolor\":\"#EBF0F8\",\"showbackground\":true,\"ticks\":\"\",\"zerolinecolor\":\"#EBF0F8\"},\"yaxis\":{\"backgroundcolor\":\"white\",\"gridcolor\":\"#DFE8F3\",\"gridwidth\":2,\"linecolor\":\"#EBF0F8\",\"showbackground\":true,\"ticks\":\"\",\"zerolinecolor\":\"#EBF0F8\"},\"zaxis\":{\"backgroundcolor\":\"white\",\"gridcolor\":\"#DFE8F3\",\"gridwidth\":2,\"linecolor\":\"#EBF0F8\",\"showbackground\":true,\"ticks\":\"\",\"zerolinecolor\":\"#EBF0F8\"}},\"shapedefaults\":{\"line\":{\"color\":\"#2a3f5f\"}},\"ternary\":{\"aaxis\":{\"gridcolor\":\"#DFE8F3\",\"linecolor\":\"#A2B1C6\",\"ticks\":\"\"},\"baxis\":{\"gridcolor\":\"#DFE8F3\",\"linecolor\":\"#A2B1C6\",\"ticks\":\"\"},\"bgcolor\":\"white\",\"caxis\":{\"gridcolor\":\"#DFE8F3\",\"linecolor\":\"#A2B1C6\",\"ticks\":\"\"}},\"title\":{\"x\":0.05},\"xaxis\":{\"automargin\":true,\"gridcolor\":\"#EBF0F8\",\"linecolor\":\"#EBF0F8\",\"ticks\":\"\",\"title\":{\"standoff\":15},\"zerolinecolor\":\"#EBF0F8\",\"zerolinewidth\":2},\"yaxis\":{\"automargin\":true,\"gridcolor\":\"#EBF0F8\",\"linecolor\":\"#EBF0F8\",\"ticks\":\"\",\"title\":{\"standoff\":15},\"zerolinecolor\":\"#EBF0F8\",\"zerolinewidth\":2}}},\"title\":{\"font\":{\"size\":17},\"text\":\"3' end support\",\"xanchor\":\"center\",\"yanchor\":\"top\",\"y\":0.8,\"x\":0.45},\"yaxis\":{\"tickfont\":{\"size\":17},\"ticksuffix\":\"  \",\"categoryorder\":\"array\",\"categoryarray\":[\"antisense\",\"intergenic\",\"genic\",\"NNC\",\"NIC\",\"NIC\",\"ISM\",\"FSM\"],\"linewidth\":1,\"linecolor\":\"black\",\"mirror\":true,\"showline\":true},\"xaxis\":{\"tickfont\":{\"size\":17},\"title\":{\"font\":{\"size\":17},\"text\":\"isoform (%)\"},\"range\":[0,101],\"tick0\":25,\"dtick\":25,\"linewidth\":1,\"linecolor\":\"black\",\"mirror\":true,\"showline\":true},\"legend\":{\"font\":{\"size\":17}},\"width\":500,\"height\":400},                        {\"responsive\": true}                    ).then(function(){\n",
       "                            \n",
       "var gd = document.getElementById('b43be909-c4e3-4e66-84fc-e08f70f58038');\n",
       "var x = new MutationObserver(function (mutations, observer) {{\n",
       "        var display = window.getComputedStyle(gd).display;\n",
       "        if (!display || display === 'none') {{\n",
       "            console.log([gd, 'removed!']);\n",
       "            Plotly.purge(gd);\n",
       "            observer.disconnect();\n",
       "        }}\n",
       "}});\n",
       "\n",
       "// Listen for the removal of the full notebook cells\n",
       "var notebookContainer = gd.closest('#notebook-container');\n",
       "if (notebookContainer) {{\n",
       "    x.observe(notebookContainer, {childList: true});\n",
       "}}\n",
       "\n",
       "// Listen for the clearing of the current output cell\n",
       "var outputEl = gd.closest('.output');\n",
       "if (outputEl) {{\n",
       "    x.observe(outputEl, {childList: true});\n",
       "}}\n",
       "\n",
       "                        })                };                });            </script>        </div>"
      ]
     },
     "metadata": {},
     "output_type": "display_data"
    }
   ],
   "source": [
    "import plotly.graph_objects as go\n",
    "\n",
    "fig_TES = go.Figure(data=[\n",
    "    go.Bar(name='PolyA motif', x=list(df['polyA_motif_found_perc']), y=list(df['structural_category']), orientation='h', marker_color = 'rgb(153,204,255)'),\n",
    "    go.Bar(name='TES peak', x=list(df['within_polyA_site_perc']), y=list(df['structural_category']), orientation='h', marker_color = 'rgb(0,102,204)')\n",
    "])\n",
    "# Change the bar mode\n",
    "fig_TES.update_layout(title=dict(text = \"3' end support\", font=dict(size=17), xanchor = 'center', yanchor = 'top', y = .8, x = .45),\n",
    "                     yaxis = dict(tickfont = dict(size=17)),\n",
    "                      xaxis = dict(tickfont = dict(size=17), title = dict(text = \"isoform (%)\", font = dict(size=17))),\n",
    "                      legend = dict(font = dict(size=17)),\n",
    "                      width = 500, height = 400,\n",
    "                     template=\"plotly_white\")\n",
    "\n",
    "fig_TES.update_yaxes(ticksuffix = \"  \")\n",
    "fig_TES.update_traces(width=.5)\n",
    "fig_TES.update_xaxes(range=[0, 101])\n",
    "fig_TES.update_xaxes(tick0=25, dtick=25)\n",
    "fig_TES.update_yaxes(categoryorder='array', categoryarray= ['antisense','intergenic','genic','NNC','NIC','NIC','ISM','FSM'])\n",
    "\n",
    "fig_TES.update_xaxes(linewidth=1, linecolor='black', mirror=True, \n",
    "    showline=True)\n",
    "fig_TES.update_yaxes(linewidth=1, linecolor='black', mirror=True, \n",
    "    showline=True)\n",
    "\n",
    "fig_TES.show()"
   ]
  },
  {
   "cell_type": "code",
   "execution_count": 155,
   "id": "126599ba-f16f-490b-ab72-9e677da6a19e",
   "metadata": {
    "tags": []
   },
   "outputs": [],
   "source": [
    "fig_TES.write_image(figdir + \"/structure_polyA.extended.svg\")"
   ]
  },
  {
   "cell_type": "code",
   "execution_count": 151,
   "id": "5504e370-219f-472e-ae9d-ff1dea535099",
   "metadata": {
    "tags": []
   },
   "outputs": [
    {
     "data": {
      "application/vnd.plotly.v1+json": {
       "config": {
        "plotlyServerURL": "https://plot.ly"
       },
       "data": [
        {
         "marker": {
          "color": "rgb(255,63,63)"
         },
         "name": "TSS Peak",
         "orientation": "h",
         "showlegend": true,
         "type": "bar",
         "width": 0.6,
         "x": [
          15.859030837004406,
          82.32760023872822,
          46.15384615384615,
          61.58323632130384,
          10.99476439790576,
          71.89168573607932,
          56.77280086346465
         ],
         "y": [
          "antisense",
          "FSM",
          "genic",
          "ISM",
          "intergenic",
          "NIC",
          "NNC"
         ]
        }
       ],
       "layout": {
        "height": 400,
        "legend": {
         "font": {
          "size": 17
         }
        },
        "template": {
         "data": {
          "bar": [
           {
            "error_x": {
             "color": "#2a3f5f"
            },
            "error_y": {
             "color": "#2a3f5f"
            },
            "marker": {
             "line": {
              "color": "white",
              "width": 0.5
             },
             "pattern": {
              "fillmode": "overlay",
              "size": 10,
              "solidity": 0.2
             }
            },
            "type": "bar"
           }
          ],
          "barpolar": [
           {
            "marker": {
             "line": {
              "color": "white",
              "width": 0.5
             },
             "pattern": {
              "fillmode": "overlay",
              "size": 10,
              "solidity": 0.2
             }
            },
            "type": "barpolar"
           }
          ],
          "carpet": [
           {
            "aaxis": {
             "endlinecolor": "#2a3f5f",
             "gridcolor": "#C8D4E3",
             "linecolor": "#C8D4E3",
             "minorgridcolor": "#C8D4E3",
             "startlinecolor": "#2a3f5f"
            },
            "baxis": {
             "endlinecolor": "#2a3f5f",
             "gridcolor": "#C8D4E3",
             "linecolor": "#C8D4E3",
             "minorgridcolor": "#C8D4E3",
             "startlinecolor": "#2a3f5f"
            },
            "type": "carpet"
           }
          ],
          "choropleth": [
           {
            "colorbar": {
             "outlinewidth": 0,
             "ticks": ""
            },
            "type": "choropleth"
           }
          ],
          "contour": [
           {
            "colorbar": {
             "outlinewidth": 0,
             "ticks": ""
            },
            "colorscale": [
             [
              0,
              "#0d0887"
             ],
             [
              0.1111111111111111,
              "#46039f"
             ],
             [
              0.2222222222222222,
              "#7201a8"
             ],
             [
              0.3333333333333333,
              "#9c179e"
             ],
             [
              0.4444444444444444,
              "#bd3786"
             ],
             [
              0.5555555555555556,
              "#d8576b"
             ],
             [
              0.6666666666666666,
              "#ed7953"
             ],
             [
              0.7777777777777778,
              "#fb9f3a"
             ],
             [
              0.8888888888888888,
              "#fdca26"
             ],
             [
              1,
              "#f0f921"
             ]
            ],
            "type": "contour"
           }
          ],
          "contourcarpet": [
           {
            "colorbar": {
             "outlinewidth": 0,
             "ticks": ""
            },
            "type": "contourcarpet"
           }
          ],
          "heatmap": [
           {
            "colorbar": {
             "outlinewidth": 0,
             "ticks": ""
            },
            "colorscale": [
             [
              0,
              "#0d0887"
             ],
             [
              0.1111111111111111,
              "#46039f"
             ],
             [
              0.2222222222222222,
              "#7201a8"
             ],
             [
              0.3333333333333333,
              "#9c179e"
             ],
             [
              0.4444444444444444,
              "#bd3786"
             ],
             [
              0.5555555555555556,
              "#d8576b"
             ],
             [
              0.6666666666666666,
              "#ed7953"
             ],
             [
              0.7777777777777778,
              "#fb9f3a"
             ],
             [
              0.8888888888888888,
              "#fdca26"
             ],
             [
              1,
              "#f0f921"
             ]
            ],
            "type": "heatmap"
           }
          ],
          "heatmapgl": [
           {
            "colorbar": {
             "outlinewidth": 0,
             "ticks": ""
            },
            "colorscale": [
             [
              0,
              "#0d0887"
             ],
             [
              0.1111111111111111,
              "#46039f"
             ],
             [
              0.2222222222222222,
              "#7201a8"
             ],
             [
              0.3333333333333333,
              "#9c179e"
             ],
             [
              0.4444444444444444,
              "#bd3786"
             ],
             [
              0.5555555555555556,
              "#d8576b"
             ],
             [
              0.6666666666666666,
              "#ed7953"
             ],
             [
              0.7777777777777778,
              "#fb9f3a"
             ],
             [
              0.8888888888888888,
              "#fdca26"
             ],
             [
              1,
              "#f0f921"
             ]
            ],
            "type": "heatmapgl"
           }
          ],
          "histogram": [
           {
            "marker": {
             "pattern": {
              "fillmode": "overlay",
              "size": 10,
              "solidity": 0.2
             }
            },
            "type": "histogram"
           }
          ],
          "histogram2d": [
           {
            "colorbar": {
             "outlinewidth": 0,
             "ticks": ""
            },
            "colorscale": [
             [
              0,
              "#0d0887"
             ],
             [
              0.1111111111111111,
              "#46039f"
             ],
             [
              0.2222222222222222,
              "#7201a8"
             ],
             [
              0.3333333333333333,
              "#9c179e"
             ],
             [
              0.4444444444444444,
              "#bd3786"
             ],
             [
              0.5555555555555556,
              "#d8576b"
             ],
             [
              0.6666666666666666,
              "#ed7953"
             ],
             [
              0.7777777777777778,
              "#fb9f3a"
             ],
             [
              0.8888888888888888,
              "#fdca26"
             ],
             [
              1,
              "#f0f921"
             ]
            ],
            "type": "histogram2d"
           }
          ],
          "histogram2dcontour": [
           {
            "colorbar": {
             "outlinewidth": 0,
             "ticks": ""
            },
            "colorscale": [
             [
              0,
              "#0d0887"
             ],
             [
              0.1111111111111111,
              "#46039f"
             ],
             [
              0.2222222222222222,
              "#7201a8"
             ],
             [
              0.3333333333333333,
              "#9c179e"
             ],
             [
              0.4444444444444444,
              "#bd3786"
             ],
             [
              0.5555555555555556,
              "#d8576b"
             ],
             [
              0.6666666666666666,
              "#ed7953"
             ],
             [
              0.7777777777777778,
              "#fb9f3a"
             ],
             [
              0.8888888888888888,
              "#fdca26"
             ],
             [
              1,
              "#f0f921"
             ]
            ],
            "type": "histogram2dcontour"
           }
          ],
          "mesh3d": [
           {
            "colorbar": {
             "outlinewidth": 0,
             "ticks": ""
            },
            "type": "mesh3d"
           }
          ],
          "parcoords": [
           {
            "line": {
             "colorbar": {
              "outlinewidth": 0,
              "ticks": ""
             }
            },
            "type": "parcoords"
           }
          ],
          "pie": [
           {
            "automargin": true,
            "type": "pie"
           }
          ],
          "scatter": [
           {
            "fillpattern": {
             "fillmode": "overlay",
             "size": 10,
             "solidity": 0.2
            },
            "type": "scatter"
           }
          ],
          "scatter3d": [
           {
            "line": {
             "colorbar": {
              "outlinewidth": 0,
              "ticks": ""
             }
            },
            "marker": {
             "colorbar": {
              "outlinewidth": 0,
              "ticks": ""
             }
            },
            "type": "scatter3d"
           }
          ],
          "scattercarpet": [
           {
            "marker": {
             "colorbar": {
              "outlinewidth": 0,
              "ticks": ""
             }
            },
            "type": "scattercarpet"
           }
          ],
          "scattergeo": [
           {
            "marker": {
             "colorbar": {
              "outlinewidth": 0,
              "ticks": ""
             }
            },
            "type": "scattergeo"
           }
          ],
          "scattergl": [
           {
            "marker": {
             "colorbar": {
              "outlinewidth": 0,
              "ticks": ""
             }
            },
            "type": "scattergl"
           }
          ],
          "scattermapbox": [
           {
            "marker": {
             "colorbar": {
              "outlinewidth": 0,
              "ticks": ""
             }
            },
            "type": "scattermapbox"
           }
          ],
          "scatterpolar": [
           {
            "marker": {
             "colorbar": {
              "outlinewidth": 0,
              "ticks": ""
             }
            },
            "type": "scatterpolar"
           }
          ],
          "scatterpolargl": [
           {
            "marker": {
             "colorbar": {
              "outlinewidth": 0,
              "ticks": ""
             }
            },
            "type": "scatterpolargl"
           }
          ],
          "scatterternary": [
           {
            "marker": {
             "colorbar": {
              "outlinewidth": 0,
              "ticks": ""
             }
            },
            "type": "scatterternary"
           }
          ],
          "surface": [
           {
            "colorbar": {
             "outlinewidth": 0,
             "ticks": ""
            },
            "colorscale": [
             [
              0,
              "#0d0887"
             ],
             [
              0.1111111111111111,
              "#46039f"
             ],
             [
              0.2222222222222222,
              "#7201a8"
             ],
             [
              0.3333333333333333,
              "#9c179e"
             ],
             [
              0.4444444444444444,
              "#bd3786"
             ],
             [
              0.5555555555555556,
              "#d8576b"
             ],
             [
              0.6666666666666666,
              "#ed7953"
             ],
             [
              0.7777777777777778,
              "#fb9f3a"
             ],
             [
              0.8888888888888888,
              "#fdca26"
             ],
             [
              1,
              "#f0f921"
             ]
            ],
            "type": "surface"
           }
          ],
          "table": [
           {
            "cells": {
             "fill": {
              "color": "#EBF0F8"
             },
             "line": {
              "color": "white"
             }
            },
            "header": {
             "fill": {
              "color": "#C8D4E3"
             },
             "line": {
              "color": "white"
             }
            },
            "type": "table"
           }
          ]
         },
         "layout": {
          "annotationdefaults": {
           "arrowcolor": "#2a3f5f",
           "arrowhead": 0,
           "arrowwidth": 1
          },
          "autotypenumbers": "strict",
          "coloraxis": {
           "colorbar": {
            "outlinewidth": 0,
            "ticks": ""
           }
          },
          "colorscale": {
           "diverging": [
            [
             0,
             "#8e0152"
            ],
            [
             0.1,
             "#c51b7d"
            ],
            [
             0.2,
             "#de77ae"
            ],
            [
             0.3,
             "#f1b6da"
            ],
            [
             0.4,
             "#fde0ef"
            ],
            [
             0.5,
             "#f7f7f7"
            ],
            [
             0.6,
             "#e6f5d0"
            ],
            [
             0.7,
             "#b8e186"
            ],
            [
             0.8,
             "#7fbc41"
            ],
            [
             0.9,
             "#4d9221"
            ],
            [
             1,
             "#276419"
            ]
           ],
           "sequential": [
            [
             0,
             "#0d0887"
            ],
            [
             0.1111111111111111,
             "#46039f"
            ],
            [
             0.2222222222222222,
             "#7201a8"
            ],
            [
             0.3333333333333333,
             "#9c179e"
            ],
            [
             0.4444444444444444,
             "#bd3786"
            ],
            [
             0.5555555555555556,
             "#d8576b"
            ],
            [
             0.6666666666666666,
             "#ed7953"
            ],
            [
             0.7777777777777778,
             "#fb9f3a"
            ],
            [
             0.8888888888888888,
             "#fdca26"
            ],
            [
             1,
             "#f0f921"
            ]
           ],
           "sequentialminus": [
            [
             0,
             "#0d0887"
            ],
            [
             0.1111111111111111,
             "#46039f"
            ],
            [
             0.2222222222222222,
             "#7201a8"
            ],
            [
             0.3333333333333333,
             "#9c179e"
            ],
            [
             0.4444444444444444,
             "#bd3786"
            ],
            [
             0.5555555555555556,
             "#d8576b"
            ],
            [
             0.6666666666666666,
             "#ed7953"
            ],
            [
             0.7777777777777778,
             "#fb9f3a"
            ],
            [
             0.8888888888888888,
             "#fdca26"
            ],
            [
             1,
             "#f0f921"
            ]
           ]
          },
          "colorway": [
           "#636efa",
           "#EF553B",
           "#00cc96",
           "#ab63fa",
           "#FFA15A",
           "#19d3f3",
           "#FF6692",
           "#B6E880",
           "#FF97FF",
           "#FECB52"
          ],
          "font": {
           "color": "#2a3f5f"
          },
          "geo": {
           "bgcolor": "white",
           "lakecolor": "white",
           "landcolor": "white",
           "showlakes": true,
           "showland": true,
           "subunitcolor": "#C8D4E3"
          },
          "hoverlabel": {
           "align": "left"
          },
          "hovermode": "closest",
          "mapbox": {
           "style": "light"
          },
          "paper_bgcolor": "white",
          "plot_bgcolor": "white",
          "polar": {
           "angularaxis": {
            "gridcolor": "#EBF0F8",
            "linecolor": "#EBF0F8",
            "ticks": ""
           },
           "bgcolor": "white",
           "radialaxis": {
            "gridcolor": "#EBF0F8",
            "linecolor": "#EBF0F8",
            "ticks": ""
           }
          },
          "scene": {
           "xaxis": {
            "backgroundcolor": "white",
            "gridcolor": "#DFE8F3",
            "gridwidth": 2,
            "linecolor": "#EBF0F8",
            "showbackground": true,
            "ticks": "",
            "zerolinecolor": "#EBF0F8"
           },
           "yaxis": {
            "backgroundcolor": "white",
            "gridcolor": "#DFE8F3",
            "gridwidth": 2,
            "linecolor": "#EBF0F8",
            "showbackground": true,
            "ticks": "",
            "zerolinecolor": "#EBF0F8"
           },
           "zaxis": {
            "backgroundcolor": "white",
            "gridcolor": "#DFE8F3",
            "gridwidth": 2,
            "linecolor": "#EBF0F8",
            "showbackground": true,
            "ticks": "",
            "zerolinecolor": "#EBF0F8"
           }
          },
          "shapedefaults": {
           "line": {
            "color": "#2a3f5f"
           }
          },
          "ternary": {
           "aaxis": {
            "gridcolor": "#DFE8F3",
            "linecolor": "#A2B1C6",
            "ticks": ""
           },
           "baxis": {
            "gridcolor": "#DFE8F3",
            "linecolor": "#A2B1C6",
            "ticks": ""
           },
           "bgcolor": "white",
           "caxis": {
            "gridcolor": "#DFE8F3",
            "linecolor": "#A2B1C6",
            "ticks": ""
           }
          },
          "title": {
           "x": 0.05
          },
          "xaxis": {
           "automargin": true,
           "gridcolor": "#EBF0F8",
           "linecolor": "#EBF0F8",
           "ticks": "",
           "title": {
            "standoff": 15
           },
           "zerolinecolor": "#EBF0F8",
           "zerolinewidth": 2
          },
          "yaxis": {
           "automargin": true,
           "gridcolor": "#EBF0F8",
           "linecolor": "#EBF0F8",
           "ticks": "",
           "title": {
            "standoff": 15
           },
           "zerolinecolor": "#EBF0F8",
           "zerolinewidth": 2
          }
         }
        },
        "title": {
         "font": {
          "size": 17
         },
         "text": "5' end support",
         "x": 0.45,
         "xanchor": "center",
         "y": 0.8,
         "yanchor": "top"
        },
        "width": 500,
        "xaxis": {
         "dtick": 25,
         "linecolor": "black",
         "linewidth": 1,
         "mirror": true,
         "range": [
          0,
          101
         ],
         "showline": true,
         "tick0": 25,
         "tickfont": {
          "size": 17
         },
         "title": {
          "font": {
           "size": 17
          },
          "text": "isoform (%)"
         },
         "type": "linear"
        },
        "yaxis": {
         "autorange": true,
         "categoryarray": [
          "antisense",
          "intergenic",
          "genic",
          "NNC",
          "NIC",
          "NIC",
          "ISM",
          "FSM"
         ],
         "categoryorder": "array",
         "linecolor": "black",
         "linewidth": 1,
         "mirror": true,
         "range": [
          -0.5,
          6.5
         ],
         "showline": true,
         "tickfont": {
          "size": 17
         },
         "ticksuffix": "  ",
         "title": {},
         "type": "category"
        }
       }
      },
      "image/png": "[encoded data removed]",
      "text/html": [
       "<div>                            <div id=\"1d1bd718-1959-4b5a-b7d7-2688292a9bad\" class=\"plotly-graph-div\" style=\"height:400px; width:500px;\"></div>            <script type=\"text/javascript\">                require([\"plotly\"], function(Plotly) {                    window.PLOTLYENV=window.PLOTLYENV || {};                                    if (document.getElementById(\"1d1bd718-1959-4b5a-b7d7-2688292a9bad\")) {                    Plotly.newPlot(                        \"1d1bd718-1959-4b5a-b7d7-2688292a9bad\",                        [{\"marker\":{\"color\":\"rgb(255,63,63)\"},\"name\":\"TSS Peak\",\"orientation\":\"h\",\"x\":[15.859030837004406,82.32760023872822,46.15384615384615,61.58323632130384,10.99476439790576,71.89168573607932,56.77280086346465],\"y\":[\"antisense\",\"FSM\",\"genic\",\"ISM\",\"intergenic\",\"NIC\",\"NNC\"],\"type\":\"bar\",\"showlegend\":true,\"width\":0.6}],                        {\"template\":{\"data\":{\"barpolar\":[{\"marker\":{\"line\":{\"color\":\"white\",\"width\":0.5},\"pattern\":{\"fillmode\":\"overlay\",\"size\":10,\"solidity\":0.2}},\"type\":\"barpolar\"}],\"bar\":[{\"error_x\":{\"color\":\"#2a3f5f\"},\"error_y\":{\"color\":\"#2a3f5f\"},\"marker\":{\"line\":{\"color\":\"white\",\"width\":0.5},\"pattern\":{\"fillmode\":\"overlay\",\"size\":10,\"solidity\":0.2}},\"type\":\"bar\"}],\"carpet\":[{\"aaxis\":{\"endlinecolor\":\"#2a3f5f\",\"gridcolor\":\"#C8D4E3\",\"linecolor\":\"#C8D4E3\",\"minorgridcolor\":\"#C8D4E3\",\"startlinecolor\":\"#2a3f5f\"},\"baxis\":{\"endlinecolor\":\"#2a3f5f\",\"gridcolor\":\"#C8D4E3\",\"linecolor\":\"#C8D4E3\",\"minorgridcolor\":\"#C8D4E3\",\"startlinecolor\":\"#2a3f5f\"},\"type\":\"carpet\"}],\"choropleth\":[{\"colorbar\":{\"outlinewidth\":0,\"ticks\":\"\"},\"type\":\"choropleth\"}],\"contourcarpet\":[{\"colorbar\":{\"outlinewidth\":0,\"ticks\":\"\"},\"type\":\"contourcarpet\"}],\"contour\":[{\"colorbar\":{\"outlinewidth\":0,\"ticks\":\"\"},\"colorscale\":[[0.0,\"#0d0887\"],[0.1111111111111111,\"#46039f\"],[0.2222222222222222,\"#7201a8\"],[0.3333333333333333,\"#9c179e\"],[0.4444444444444444,\"#bd3786\"],[0.5555555555555556,\"#d8576b\"],[0.6666666666666666,\"#ed7953\"],[0.7777777777777778,\"#fb9f3a\"],[0.8888888888888888,\"#fdca26\"],[1.0,\"#f0f921\"]],\"type\":\"contour\"}],\"heatmapgl\":[{\"colorbar\":{\"outlinewidth\":0,\"ticks\":\"\"},\"colorscale\":[[0.0,\"#0d0887\"],[0.1111111111111111,\"#46039f\"],[0.2222222222222222,\"#7201a8\"],[0.3333333333333333,\"#9c179e\"],[0.4444444444444444,\"#bd3786\"],[0.5555555555555556,\"#d8576b\"],[0.6666666666666666,\"#ed7953\"],[0.7777777777777778,\"#fb9f3a\"],[0.8888888888888888,\"#fdca26\"],[1.0,\"#f0f921\"]],\"type\":\"heatmapgl\"}],\"heatmap\":[{\"colorbar\":{\"outlinewidth\":0,\"ticks\":\"\"},\"colorscale\":[[0.0,\"#0d0887\"],[0.1111111111111111,\"#46039f\"],[0.2222222222222222,\"#7201a8\"],[0.3333333333333333,\"#9c179e\"],[0.4444444444444444,\"#bd3786\"],[0.5555555555555556,\"#d8576b\"],[0.6666666666666666,\"#ed7953\"],[0.7777777777777778,\"#fb9f3a\"],[0.8888888888888888,\"#fdca26\"],[1.0,\"#f0f921\"]],\"type\":\"heatmap\"}],\"histogram2dcontour\":[{\"colorbar\":{\"outlinewidth\":0,\"ticks\":\"\"},\"colorscale\":[[0.0,\"#0d0887\"],[0.1111111111111111,\"#46039f\"],[0.2222222222222222,\"#7201a8\"],[0.3333333333333333,\"#9c179e\"],[0.4444444444444444,\"#bd3786\"],[0.5555555555555556,\"#d8576b\"],[0.6666666666666666,\"#ed7953\"],[0.7777777777777778,\"#fb9f3a\"],[0.8888888888888888,\"#fdca26\"],[1.0,\"#f0f921\"]],\"type\":\"histogram2dcontour\"}],\"histogram2d\":[{\"colorbar\":{\"outlinewidth\":0,\"ticks\":\"\"},\"colorscale\":[[0.0,\"#0d0887\"],[0.1111111111111111,\"#46039f\"],[0.2222222222222222,\"#7201a8\"],[0.3333333333333333,\"#9c179e\"],[0.4444444444444444,\"#bd3786\"],[0.5555555555555556,\"#d8576b\"],[0.6666666666666666,\"#ed7953\"],[0.7777777777777778,\"#fb9f3a\"],[0.8888888888888888,\"#fdca26\"],[1.0,\"#f0f921\"]],\"type\":\"histogram2d\"}],\"histogram\":[{\"marker\":{\"pattern\":{\"fillmode\":\"overlay\",\"size\":10,\"solidity\":0.2}},\"type\":\"histogram\"}],\"mesh3d\":[{\"colorbar\":{\"outlinewidth\":0,\"ticks\":\"\"},\"type\":\"mesh3d\"}],\"parcoords\":[{\"line\":{\"colorbar\":{\"outlinewidth\":0,\"ticks\":\"\"}},\"type\":\"parcoords\"}],\"pie\":[{\"automargin\":true,\"type\":\"pie\"}],\"scatter3d\":[{\"line\":{\"colorbar\":{\"outlinewidth\":0,\"ticks\":\"\"}},\"marker\":{\"colorbar\":{\"outlinewidth\":0,\"ticks\":\"\"}},\"type\":\"scatter3d\"}],\"scattercarpet\":[{\"marker\":{\"colorbar\":{\"outlinewidth\":0,\"ticks\":\"\"}},\"type\":\"scattercarpet\"}],\"scattergeo\":[{\"marker\":{\"colorbar\":{\"outlinewidth\":0,\"ticks\":\"\"}},\"type\":\"scattergeo\"}],\"scattergl\":[{\"marker\":{\"colorbar\":{\"outlinewidth\":0,\"ticks\":\"\"}},\"type\":\"scattergl\"}],\"scattermapbox\":[{\"marker\":{\"colorbar\":{\"outlinewidth\":0,\"ticks\":\"\"}},\"type\":\"scattermapbox\"}],\"scatterpolargl\":[{\"marker\":{\"colorbar\":{\"outlinewidth\":0,\"ticks\":\"\"}},\"type\":\"scatterpolargl\"}],\"scatterpolar\":[{\"marker\":{\"colorbar\":{\"outlinewidth\":0,\"ticks\":\"\"}},\"type\":\"scatterpolar\"}],\"scatter\":[{\"fillpattern\":{\"fillmode\":\"overlay\",\"size\":10,\"solidity\":0.2},\"type\":\"scatter\"}],\"scatterternary\":[{\"marker\":{\"colorbar\":{\"outlinewidth\":0,\"ticks\":\"\"}},\"type\":\"scatterternary\"}],\"surface\":[{\"colorbar\":{\"outlinewidth\":0,\"ticks\":\"\"},\"colorscale\":[[0.0,\"#0d0887\"],[0.1111111111111111,\"#46039f\"],[0.2222222222222222,\"#7201a8\"],[0.3333333333333333,\"#9c179e\"],[0.4444444444444444,\"#bd3786\"],[0.5555555555555556,\"#d8576b\"],[0.6666666666666666,\"#ed7953\"],[0.7777777777777778,\"#fb9f3a\"],[0.8888888888888888,\"#fdca26\"],[1.0,\"#f0f921\"]],\"type\":\"surface\"}],\"table\":[{\"cells\":{\"fill\":{\"color\":\"#EBF0F8\"},\"line\":{\"color\":\"white\"}},\"header\":{\"fill\":{\"color\":\"#C8D4E3\"},\"line\":{\"color\":\"white\"}},\"type\":\"table\"}]},\"layout\":{\"annotationdefaults\":{\"arrowcolor\":\"#2a3f5f\",\"arrowhead\":0,\"arrowwidth\":1},\"autotypenumbers\":\"strict\",\"coloraxis\":{\"colorbar\":{\"outlinewidth\":0,\"ticks\":\"\"}},\"colorscale\":{\"diverging\":[[0,\"#8e0152\"],[0.1,\"#c51b7d\"],[0.2,\"#de77ae\"],[0.3,\"#f1b6da\"],[0.4,\"#fde0ef\"],[0.5,\"#f7f7f7\"],[0.6,\"#e6f5d0\"],[0.7,\"#b8e186\"],[0.8,\"#7fbc41\"],[0.9,\"#4d9221\"],[1,\"#276419\"]],\"sequential\":[[0.0,\"#0d0887\"],[0.1111111111111111,\"#46039f\"],[0.2222222222222222,\"#7201a8\"],[0.3333333333333333,\"#9c179e\"],[0.4444444444444444,\"#bd3786\"],[0.5555555555555556,\"#d8576b\"],[0.6666666666666666,\"#ed7953\"],[0.7777777777777778,\"#fb9f3a\"],[0.8888888888888888,\"#fdca26\"],[1.0,\"#f0f921\"]],\"sequentialminus\":[[0.0,\"#0d0887\"],[0.1111111111111111,\"#46039f\"],[0.2222222222222222,\"#7201a8\"],[0.3333333333333333,\"#9c179e\"],[0.4444444444444444,\"#bd3786\"],[0.5555555555555556,\"#d8576b\"],[0.6666666666666666,\"#ed7953\"],[0.7777777777777778,\"#fb9f3a\"],[0.8888888888888888,\"#fdca26\"],[1.0,\"#f0f921\"]]},\"colorway\":[\"#636efa\",\"#EF553B\",\"#00cc96\",\"#ab63fa\",\"#FFA15A\",\"#19d3f3\",\"#FF6692\",\"#B6E880\",\"#FF97FF\",\"#FECB52\"],\"font\":{\"color\":\"#2a3f5f\"},\"geo\":{\"bgcolor\":\"white\",\"lakecolor\":\"white\",\"landcolor\":\"white\",\"showlakes\":true,\"showland\":true,\"subunitcolor\":\"#C8D4E3\"},\"hoverlabel\":{\"align\":\"left\"},\"hovermode\":\"closest\",\"mapbox\":{\"style\":\"light\"},\"paper_bgcolor\":\"white\",\"plot_bgcolor\":\"white\",\"polar\":{\"angularaxis\":{\"gridcolor\":\"#EBF0F8\",\"linecolor\":\"#EBF0F8\",\"ticks\":\"\"},\"bgcolor\":\"white\",\"radialaxis\":{\"gridcolor\":\"#EBF0F8\",\"linecolor\":\"#EBF0F8\",\"ticks\":\"\"}},\"scene\":{\"xaxis\":{\"backgroundcolor\":\"white\",\"gridcolor\":\"#DFE8F3\",\"gridwidth\":2,\"linecolor\":\"#EBF0F8\",\"showbackground\":true,\"ticks\":\"\",\"zerolinecolor\":\"#EBF0F8\"},\"yaxis\":{\"backgroundcolor\":\"white\",\"gridcolor\":\"#DFE8F3\",\"gridwidth\":2,\"linecolor\":\"#EBF0F8\",\"showbackground\":true,\"ticks\":\"\",\"zerolinecolor\":\"#EBF0F8\"},\"zaxis\":{\"backgroundcolor\":\"white\",\"gridcolor\":\"#DFE8F3\",\"gridwidth\":2,\"linecolor\":\"#EBF0F8\",\"showbackground\":true,\"ticks\":\"\",\"zerolinecolor\":\"#EBF0F8\"}},\"shapedefaults\":{\"line\":{\"color\":\"#2a3f5f\"}},\"ternary\":{\"aaxis\":{\"gridcolor\":\"#DFE8F3\",\"linecolor\":\"#A2B1C6\",\"ticks\":\"\"},\"baxis\":{\"gridcolor\":\"#DFE8F3\",\"linecolor\":\"#A2B1C6\",\"ticks\":\"\"},\"bgcolor\":\"white\",\"caxis\":{\"gridcolor\":\"#DFE8F3\",\"linecolor\":\"#A2B1C6\",\"ticks\":\"\"}},\"title\":{\"x\":0.05},\"xaxis\":{\"automargin\":true,\"gridcolor\":\"#EBF0F8\",\"linecolor\":\"#EBF0F8\",\"ticks\":\"\",\"title\":{\"standoff\":15},\"zerolinecolor\":\"#EBF0F8\",\"zerolinewidth\":2},\"yaxis\":{\"automargin\":true,\"gridcolor\":\"#EBF0F8\",\"linecolor\":\"#EBF0F8\",\"ticks\":\"\",\"title\":{\"standoff\":15},\"zerolinecolor\":\"#EBF0F8\",\"zerolinewidth\":2}}},\"title\":{\"font\":{\"size\":17},\"text\":\"5' end support\",\"xanchor\":\"center\",\"yanchor\":\"top\",\"y\":0.8,\"x\":0.45},\"yaxis\":{\"tickfont\":{\"size\":17},\"ticksuffix\":\"  \",\"categoryorder\":\"array\",\"categoryarray\":[\"antisense\",\"intergenic\",\"genic\",\"NNC\",\"NIC\",\"NIC\",\"ISM\",\"FSM\"],\"title\":{},\"linewidth\":1,\"linecolor\":\"black\",\"mirror\":true,\"showline\":true},\"xaxis\":{\"tickfont\":{\"size\":17},\"title\":{\"font\":{\"size\":17},\"text\":\"isoform (%)\"},\"range\":[0,101],\"tick0\":25,\"dtick\":25,\"linewidth\":1,\"linecolor\":\"black\",\"mirror\":true,\"showline\":true},\"legend\":{\"font\":{\"size\":17}},\"width\":500,\"height\":400},                        {\"responsive\": true}                    ).then(function(){\n",
       "                            \n",
       "var gd = document.getElementById('1d1bd718-1959-4b5a-b7d7-2688292a9bad');\n",
       "var x = new MutationObserver(function (mutations, observer) {{\n",
       "        var display = window.getComputedStyle(gd).display;\n",
       "        if (!display || display === 'none') {{\n",
       "            console.log([gd, 'removed!']);\n",
       "            Plotly.purge(gd);\n",
       "            observer.disconnect();\n",
       "        }}\n",
       "}});\n",
       "\n",
       "// Listen for the removal of the full notebook cells\n",
       "var notebookContainer = gd.closest('#notebook-container');\n",
       "if (notebookContainer) {{\n",
       "    x.observe(notebookContainer, {childList: true});\n",
       "}}\n",
       "\n",
       "// Listen for the clearing of the current output cell\n",
       "var outputEl = gd.closest('.output');\n",
       "if (outputEl) {{\n",
       "    x.observe(outputEl, {childList: true});\n",
       "}}\n",
       "\n",
       "                        })                };                });            </script>        </div>"
      ]
     },
     "metadata": {},
     "output_type": "display_data"
    }
   ],
   "source": [
    "import plotly.graph_objects as go\n",
    "\n",
    "fig_TSS = go.Figure(data=[\n",
    "    go.Bar(name=\"5' end support\",\n",
    "           x=list(df['within_CAGE_peak_perc']), y=list(df['structural_category']), \n",
    "           orientation='h', marker_color = 'rgb(255,63,63)', \n",
    "          )])\n",
    "# Change the bar mode\n",
    "fig_TSS.update_layout(title=dict(text = \"5' end support\", font=dict(size=17), xanchor = 'center', yanchor = 'top', y = .8, x = .45),\n",
    "                     yaxis = dict(tickfont = dict(size=17)),\n",
    "                      xaxis = dict(tickfont = dict(size=17), title = dict(text = \"isoform (%)\", font = dict(size=17))),\n",
    "                      legend = dict(font = dict(size=17)),\n",
    "                      width = 500, height = 400,\n",
    "                     template=\"plotly_white\")\n",
    "\n",
    "fig_TSS.update_yaxes(ticksuffix = \"  \")\n",
    "fig_TSS['data'][0]['showlegend'] = True\n",
    "fig_TSS.update_traces(width=.6)\n",
    "fig_TSS.update_yaxes(categoryorder='array', categoryarray= ['antisense','intergenic','genic','NNC','NIC','NIC','ISM','FSM'], title = None)\n",
    "fig_TSS.update_xaxes(range=[0, 101])\n",
    "# fig_TSS.update_xaxes(nticks=10)\n",
    "fig_TSS.update_xaxes(tick0=25, dtick=25)\n",
    "\n",
    "\n",
    "new = {\"5' end support\":'TSS Peak',}\n",
    "fig_TSS.for_each_trace(lambda t: t.update(name = new[t.name]))\n",
    "\n",
    "fig_TSS.update_xaxes(linewidth=1, linecolor='black', mirror=True, \n",
    "    showline=True)\n",
    "fig_TSS.update_yaxes(linewidth=1, linecolor='black', mirror=True, \n",
    "    showline=True)\n",
    "\n",
    "fig_TSS.show()"
   ]
  },
  {
   "cell_type": "code",
   "execution_count": 152,
   "id": "7db86314-aef0-47d9-b091-147009557e4c",
   "metadata": {
    "tags": []
   },
   "outputs": [],
   "source": [
    "fig_TSS.write_image(figdir + \"/structure_TSS.extended.svg\")"
   ]
  },
  {
   "cell_type": "code",
   "execution_count": 69,
   "id": "1372c799-ca60-49b4-a202-c8755ac37fd9",
   "metadata": {
    "tags": []
   },
   "outputs": [],
   "source": [
    "tab[\"transcript_novelty\"] = False"
   ]
  },
  {
   "cell_type": "code",
   "execution_count": 70,
   "id": "8fa34bb7-36f6-4bdb-82e7-fa5dcac3d412",
   "metadata": {
    "tags": []
   },
   "outputs": [],
   "source": [
    "tab.loc[tab['associated_transcript'] == \"novel\",\"transcript_novelty\"] = True"
   ]
  },
  {
   "cell_type": "code",
   "execution_count": 79,
   "id": "6aa3681e-bf26-403d-9246-abd64d41f1a0",
   "metadata": {
    "tags": []
   },
   "outputs": [
    {
     "name": "stdout",
     "output_type": "stream",
     "text": [
      "transcript_novelty\n"
     ]
    }
   ],
   "source": [
    "df = pd.DataFrame(tab.groupby(['structural_category'])['structural_category'].count())\n",
    "df.columns = ['total_count']\n",
    "for cat in ['transcript_novelty'] :\n",
    "    print(cat)\n",
    "    df_tmp = pd.DataFrame(tab[tab[cat] == True].groupby(['structural_category'])[cat].count())\n",
    "    df = df.merge(df_tmp, left_index= True, right_index= True, how = 'left')\n",
    "    df[cat + '_perc'] = df[cat] / df['total_count'] * 100\n",
    "df = df.reset_index()"
   ]
  },
  {
   "cell_type": "code",
   "execution_count": 96,
   "id": "810bfece-efc7-4e49-80eb-c7f4bd07bffb",
   "metadata": {
    "tags": []
   },
   "outputs": [
    {
     "data": {
      "text/html": [
       "<div>\n",
       "<style scoped>\n",
       "    .dataframe tbody tr th:only-of-type {\n",
       "        vertical-align: middle;\n",
       "    }\n",
       "\n",
       "    .dataframe tbody tr th {\n",
       "        vertical-align: top;\n",
       "    }\n",
       "\n",
       "    .dataframe thead th {\n",
       "        text-align: right;\n",
       "    }\n",
       "</style>\n",
       "<table border=\"1\" class=\"dataframe\">\n",
       "  <thead>\n",
       "    <tr style=\"text-align: right;\">\n",
       "      <th></th>\n",
       "      <th>isoform</th>\n",
       "      <th>chrom</th>\n",
       "      <th>strand</th>\n",
       "      <th>length</th>\n",
       "      <th>exons</th>\n",
       "      <th>structural_category</th>\n",
       "      <th>associated_gene</th>\n",
       "      <th>associated_transcript</th>\n",
       "      <th>ref_length</th>\n",
       "      <th>ref_exons</th>\n",
       "      <th>...</th>\n",
       "      <th>dist_to_CAGE_peak</th>\n",
       "      <th>within_CAGE_peak</th>\n",
       "      <th>dist_to_polyA_site</th>\n",
       "      <th>within_polyA_site</th>\n",
       "      <th>polyA_motif</th>\n",
       "      <th>polyA_dist</th>\n",
       "      <th>polyA_motif_found</th>\n",
       "      <th>ORF_seq</th>\n",
       "      <th>ratio_TSS</th>\n",
       "      <th>transcript_novelty</th>\n",
       "    </tr>\n",
       "  </thead>\n",
       "  <tbody>\n",
       "    <tr>\n",
       "      <th>1498</th>\n",
       "      <td>TCONS_00001636</td>\n",
       "      <td>chr1</td>\n",
       "      <td>+</td>\n",
       "      <td>168</td>\n",
       "      <td>3</td>\n",
       "      <td>intergenic</td>\n",
       "      <td>novelGene_224</td>\n",
       "      <td>novel</td>\n",
       "      <td>NaN</td>\n",
       "      <td>NaN</td>\n",
       "      <td>...</td>\n",
       "      <td>NaN</td>\n",
       "      <td>False</td>\n",
       "      <td>NaN</td>\n",
       "      <td>False</td>\n",
       "      <td>AATAAA</td>\n",
       "      <td>-20.0</td>\n",
       "      <td>True</td>\n",
       "      <td>NaN</td>\n",
       "      <td>NaN</td>\n",
       "      <td>True</td>\n",
       "    </tr>\n",
       "    <tr>\n",
       "      <th>4503</th>\n",
       "      <td>TCONS_00004825</td>\n",
       "      <td>chr1</td>\n",
       "      <td>+</td>\n",
       "      <td>136</td>\n",
       "      <td>2</td>\n",
       "      <td>intergenic</td>\n",
       "      <td>novelGene_712</td>\n",
       "      <td>novel</td>\n",
       "      <td>NaN</td>\n",
       "      <td>NaN</td>\n",
       "      <td>...</td>\n",
       "      <td>NaN</td>\n",
       "      <td>False</td>\n",
       "      <td>NaN</td>\n",
       "      <td>False</td>\n",
       "      <td>AATGAA</td>\n",
       "      <td>-18.0</td>\n",
       "      <td>True</td>\n",
       "      <td>NaN</td>\n",
       "      <td>NaN</td>\n",
       "      <td>True</td>\n",
       "    </tr>\n",
       "    <tr>\n",
       "      <th>4872</th>\n",
       "      <td>TCONS_00005221</td>\n",
       "      <td>chr1</td>\n",
       "      <td>+</td>\n",
       "      <td>193</td>\n",
       "      <td>3</td>\n",
       "      <td>antisense</td>\n",
       "      <td>novelGene__AS</td>\n",
       "      <td>novel</td>\n",
       "      <td>NaN</td>\n",
       "      <td>NaN</td>\n",
       "      <td>...</td>\n",
       "      <td>NaN</td>\n",
       "      <td>False</td>\n",
       "      <td>NaN</td>\n",
       "      <td>False</td>\n",
       "      <td>NaN</td>\n",
       "      <td>NaN</td>\n",
       "      <td>False</td>\n",
       "      <td>NaN</td>\n",
       "      <td>NaN</td>\n",
       "      <td>True</td>\n",
       "    </tr>\n",
       "    <tr>\n",
       "      <th>6741</th>\n",
       "      <td>TCONS_00007270</td>\n",
       "      <td>chr1</td>\n",
       "      <td>+</td>\n",
       "      <td>193</td>\n",
       "      <td>3</td>\n",
       "      <td>intergenic</td>\n",
       "      <td>novelGene_1082</td>\n",
       "      <td>novel</td>\n",
       "      <td>NaN</td>\n",
       "      <td>NaN</td>\n",
       "      <td>...</td>\n",
       "      <td>NaN</td>\n",
       "      <td>False</td>\n",
       "      <td>NaN</td>\n",
       "      <td>False</td>\n",
       "      <td>NaN</td>\n",
       "      <td>NaN</td>\n",
       "      <td>False</td>\n",
       "      <td>NaN</td>\n",
       "      <td>NaN</td>\n",
       "      <td>True</td>\n",
       "    </tr>\n",
       "    <tr>\n",
       "      <th>7580</th>\n",
       "      <td>TCONS_00008199</td>\n",
       "      <td>chr1</td>\n",
       "      <td>+</td>\n",
       "      <td>164</td>\n",
       "      <td>2</td>\n",
       "      <td>antisense</td>\n",
       "      <td>novelGene__AS</td>\n",
       "      <td>novel</td>\n",
       "      <td>NaN</td>\n",
       "      <td>NaN</td>\n",
       "      <td>...</td>\n",
       "      <td>NaN</td>\n",
       "      <td>False</td>\n",
       "      <td>NaN</td>\n",
       "      <td>False</td>\n",
       "      <td>NaN</td>\n",
       "      <td>NaN</td>\n",
       "      <td>False</td>\n",
       "      <td>NaN</td>\n",
       "      <td>NaN</td>\n",
       "      <td>True</td>\n",
       "    </tr>\n",
       "    <tr>\n",
       "      <th>...</th>\n",
       "      <td>...</td>\n",
       "      <td>...</td>\n",
       "      <td>...</td>\n",
       "      <td>...</td>\n",
       "      <td>...</td>\n",
       "      <td>...</td>\n",
       "      <td>...</td>\n",
       "      <td>...</td>\n",
       "      <td>...</td>\n",
       "      <td>...</td>\n",
       "      <td>...</td>\n",
       "      <td>...</td>\n",
       "      <td>...</td>\n",
       "      <td>...</td>\n",
       "      <td>...</td>\n",
       "      <td>...</td>\n",
       "      <td>...</td>\n",
       "      <td>...</td>\n",
       "      <td>...</td>\n",
       "      <td>...</td>\n",
       "      <td>...</td>\n",
       "    </tr>\n",
       "    <tr>\n",
       "      <th>299545</th>\n",
       "      <td>transcript2689.chrX.nnic</td>\n",
       "      <td>chrX</td>\n",
       "      <td>+</td>\n",
       "      <td>1646</td>\n",
       "      <td>4</td>\n",
       "      <td>intergenic</td>\n",
       "      <td>novelGene_12943</td>\n",
       "      <td>novel</td>\n",
       "      <td>NaN</td>\n",
       "      <td>NaN</td>\n",
       "      <td>...</td>\n",
       "      <td>NaN</td>\n",
       "      <td>False</td>\n",
       "      <td>NaN</td>\n",
       "      <td>False</td>\n",
       "      <td>NaN</td>\n",
       "      <td>NaN</td>\n",
       "      <td>False</td>\n",
       "      <td>NaN</td>\n",
       "      <td>NaN</td>\n",
       "      <td>True</td>\n",
       "    </tr>\n",
       "    <tr>\n",
       "      <th>299563</th>\n",
       "      <td>transcript3316.chrX.nnic</td>\n",
       "      <td>chrX</td>\n",
       "      <td>+</td>\n",
       "      <td>1106</td>\n",
       "      <td>3</td>\n",
       "      <td>intergenic</td>\n",
       "      <td>novelGene_12944</td>\n",
       "      <td>novel</td>\n",
       "      <td>NaN</td>\n",
       "      <td>NaN</td>\n",
       "      <td>...</td>\n",
       "      <td>833.0</td>\n",
       "      <td>False</td>\n",
       "      <td>NaN</td>\n",
       "      <td>False</td>\n",
       "      <td>NaN</td>\n",
       "      <td>NaN</td>\n",
       "      <td>False</td>\n",
       "      <td>NaN</td>\n",
       "      <td>NaN</td>\n",
       "      <td>True</td>\n",
       "    </tr>\n",
       "    <tr>\n",
       "      <th>299567</th>\n",
       "      <td>transcript3539.chrX.nnic</td>\n",
       "      <td>chrX</td>\n",
       "      <td>+</td>\n",
       "      <td>1905</td>\n",
       "      <td>4</td>\n",
       "      <td>antisense</td>\n",
       "      <td>novelGene__AS</td>\n",
       "      <td>novel</td>\n",
       "      <td>NaN</td>\n",
       "      <td>NaN</td>\n",
       "      <td>...</td>\n",
       "      <td>473.0</td>\n",
       "      <td>False</td>\n",
       "      <td>NaN</td>\n",
       "      <td>False</td>\n",
       "      <td>NaN</td>\n",
       "      <td>NaN</td>\n",
       "      <td>False</td>\n",
       "      <td>NaN</td>\n",
       "      <td>NaN</td>\n",
       "      <td>True</td>\n",
       "    </tr>\n",
       "    <tr>\n",
       "      <th>299612</th>\n",
       "      <td>transcript6119.chrX.nnic</td>\n",
       "      <td>chrX</td>\n",
       "      <td>-</td>\n",
       "      <td>2899</td>\n",
       "      <td>3</td>\n",
       "      <td>intergenic</td>\n",
       "      <td>novelGene_12990</td>\n",
       "      <td>novel</td>\n",
       "      <td>NaN</td>\n",
       "      <td>NaN</td>\n",
       "      <td>...</td>\n",
       "      <td>NaN</td>\n",
       "      <td>False</td>\n",
       "      <td>-24.0</td>\n",
       "      <td>True</td>\n",
       "      <td>NaN</td>\n",
       "      <td>NaN</td>\n",
       "      <td>False</td>\n",
       "      <td>NaN</td>\n",
       "      <td>NaN</td>\n",
       "      <td>True</td>\n",
       "    </tr>\n",
       "    <tr>\n",
       "      <th>299856</th>\n",
       "      <td>TCONS_00315556</td>\n",
       "      <td>chrY</td>\n",
       "      <td>-</td>\n",
       "      <td>104</td>\n",
       "      <td>3</td>\n",
       "      <td>intergenic</td>\n",
       "      <td>novelGene_13342</td>\n",
       "      <td>novel</td>\n",
       "      <td>NaN</td>\n",
       "      <td>NaN</td>\n",
       "      <td>...</td>\n",
       "      <td>NaN</td>\n",
       "      <td>False</td>\n",
       "      <td>NaN</td>\n",
       "      <td>False</td>\n",
       "      <td>NaN</td>\n",
       "      <td>NaN</td>\n",
       "      <td>False</td>\n",
       "      <td>NaN</td>\n",
       "      <td>NaN</td>\n",
       "      <td>True</td>\n",
       "    </tr>\n",
       "  </tbody>\n",
       "</table>\n",
       "<p>418 rows × 49 columns</p>\n",
       "</div>"
      ],
      "text/plain": [
       "                         isoform chrom strand  length  exons  \\\n",
       "1498              TCONS_00001636  chr1      +     168      3   \n",
       "4503              TCONS_00004825  chr1      +     136      2   \n",
       "4872              TCONS_00005221  chr1      +     193      3   \n",
       "6741              TCONS_00007270  chr1      +     193      3   \n",
       "7580              TCONS_00008199  chr1      +     164      2   \n",
       "...                          ...   ...    ...     ...    ...   \n",
       "299545  transcript2689.chrX.nnic  chrX      +    1646      4   \n",
       "299563  transcript3316.chrX.nnic  chrX      +    1106      3   \n",
       "299567  transcript3539.chrX.nnic  chrX      +    1905      4   \n",
       "299612  transcript6119.chrX.nnic  chrX      -    2899      3   \n",
       "299856            TCONS_00315556  chrY      -     104      3   \n",
       "\n",
       "       structural_category  associated_gene associated_transcript  ref_length  \\\n",
       "1498            intergenic    novelGene_224                 novel         NaN   \n",
       "4503            intergenic    novelGene_712                 novel         NaN   \n",
       "4872             antisense    novelGene__AS                 novel         NaN   \n",
       "6741            intergenic   novelGene_1082                 novel         NaN   \n",
       "7580             antisense    novelGene__AS                 novel         NaN   \n",
       "...                    ...              ...                   ...         ...   \n",
       "299545          intergenic  novelGene_12943                 novel         NaN   \n",
       "299563          intergenic  novelGene_12944                 novel         NaN   \n",
       "299567           antisense    novelGene__AS                 novel         NaN   \n",
       "299612          intergenic  novelGene_12990                 novel         NaN   \n",
       "299856          intergenic  novelGene_13342                 novel         NaN   \n",
       "\n",
       "        ref_exons  ...  dist_to_CAGE_peak  within_CAGE_peak  \\\n",
       "1498          NaN  ...                NaN             False   \n",
       "4503          NaN  ...                NaN             False   \n",
       "4872          NaN  ...                NaN             False   \n",
       "6741          NaN  ...                NaN             False   \n",
       "7580          NaN  ...                NaN             False   \n",
       "...           ...  ...                ...               ...   \n",
       "299545        NaN  ...                NaN             False   \n",
       "299563        NaN  ...              833.0             False   \n",
       "299567        NaN  ...              473.0             False   \n",
       "299612        NaN  ...                NaN             False   \n",
       "299856        NaN  ...                NaN             False   \n",
       "\n",
       "        dist_to_polyA_site  within_polyA_site polyA_motif  polyA_dist  \\\n",
       "1498                   NaN              False      AATAAA       -20.0   \n",
       "4503                   NaN              False      AATGAA       -18.0   \n",
       "4872                   NaN              False         NaN         NaN   \n",
       "6741                   NaN              False         NaN         NaN   \n",
       "7580                   NaN              False         NaN         NaN   \n",
       "...                    ...                ...         ...         ...   \n",
       "299545                 NaN              False         NaN         NaN   \n",
       "299563                 NaN              False         NaN         NaN   \n",
       "299567                 NaN              False         NaN         NaN   \n",
       "299612               -24.0               True         NaN         NaN   \n",
       "299856                 NaN              False         NaN         NaN   \n",
       "\n",
       "       polyA_motif_found  ORF_seq  ratio_TSS  transcript_novelty  \n",
       "1498                True      NaN        NaN                True  \n",
       "4503                True      NaN        NaN                True  \n",
       "4872               False      NaN        NaN                True  \n",
       "6741               False      NaN        NaN                True  \n",
       "7580               False      NaN        NaN                True  \n",
       "...                  ...      ...        ...                 ...  \n",
       "299545             False      NaN        NaN                True  \n",
       "299563             False      NaN        NaN                True  \n",
       "299567             False      NaN        NaN                True  \n",
       "299612             False      NaN        NaN                True  \n",
       "299856             False      NaN        NaN                True  \n",
       "\n",
       "[418 rows x 49 columns]"
      ]
     },
     "execution_count": 96,
     "metadata": {},
     "output_type": "execute_result"
    }
   ],
   "source": [
    "tab[tab['associated_gene'].notna()]"
   ]
  },
  {
   "cell_type": "code",
   "execution_count": 80,
   "id": "88fe2639-1810-46d6-96d7-f83969d47b2e",
   "metadata": {
    "tags": []
   },
   "outputs": [
    {
     "data": {
      "text/html": [
       "<div>\n",
       "<style scoped>\n",
       "    .dataframe tbody tr th:only-of-type {\n",
       "        vertical-align: middle;\n",
       "    }\n",
       "\n",
       "    .dataframe tbody tr th {\n",
       "        vertical-align: top;\n",
       "    }\n",
       "\n",
       "    .dataframe thead th {\n",
       "        text-align: right;\n",
       "    }\n",
       "</style>\n",
       "<table border=\"1\" class=\"dataframe\">\n",
       "  <thead>\n",
       "    <tr style=\"text-align: right;\">\n",
       "      <th></th>\n",
       "      <th>structural_category</th>\n",
       "      <th>total_count</th>\n",
       "      <th>transcript_novelty</th>\n",
       "      <th>transcript_novelty_perc</th>\n",
       "    </tr>\n",
       "  </thead>\n",
       "  <tbody>\n",
       "    <tr>\n",
       "      <th>0</th>\n",
       "      <td>antisense</td>\n",
       "      <td>227</td>\n",
       "      <td>227.0</td>\n",
       "      <td>100.0</td>\n",
       "    </tr>\n",
       "    <tr>\n",
       "      <th>1</th>\n",
       "      <td>full-splice_match</td>\n",
       "      <td>276465</td>\n",
       "      <td>NaN</td>\n",
       "      <td>NaN</td>\n",
       "    </tr>\n",
       "    <tr>\n",
       "      <th>2</th>\n",
       "      <td>genic</td>\n",
       "      <td>65</td>\n",
       "      <td>65.0</td>\n",
       "      <td>100.0</td>\n",
       "    </tr>\n",
       "    <tr>\n",
       "      <th>3</th>\n",
       "      <td>incomplete-splice_match</td>\n",
       "      <td>5154</td>\n",
       "      <td>NaN</td>\n",
       "      <td>NaN</td>\n",
       "    </tr>\n",
       "    <tr>\n",
       "      <th>4</th>\n",
       "      <td>intergenic</td>\n",
       "      <td>191</td>\n",
       "      <td>191.0</td>\n",
       "      <td>100.0</td>\n",
       "    </tr>\n",
       "    <tr>\n",
       "      <th>5</th>\n",
       "      <td>novel_in_catalog</td>\n",
       "      <td>5244</td>\n",
       "      <td>5244.0</td>\n",
       "      <td>100.0</td>\n",
       "    </tr>\n",
       "    <tr>\n",
       "      <th>6</th>\n",
       "      <td>novel_not_in_catalog</td>\n",
       "      <td>5559</td>\n",
       "      <td>5559.0</td>\n",
       "      <td>100.0</td>\n",
       "    </tr>\n",
       "  </tbody>\n",
       "</table>\n",
       "</div>"
      ],
      "text/plain": [
       "       structural_category  total_count  transcript_novelty  \\\n",
       "0                antisense          227               227.0   \n",
       "1        full-splice_match       276465                 NaN   \n",
       "2                    genic           65                65.0   \n",
       "3  incomplete-splice_match         5154                 NaN   \n",
       "4               intergenic          191               191.0   \n",
       "5         novel_in_catalog         5244              5244.0   \n",
       "6     novel_not_in_catalog         5559              5559.0   \n",
       "\n",
       "   transcript_novelty_perc  \n",
       "0                    100.0  \n",
       "1                      NaN  \n",
       "2                    100.0  \n",
       "3                      NaN  \n",
       "4                    100.0  \n",
       "5                    100.0  \n",
       "6                    100.0  "
      ]
     },
     "execution_count": 80,
     "metadata": {},
     "output_type": "execute_result"
    }
   ],
   "source": [
    "df"
   ]
  },
  {
   "cell_type": "code",
   "execution_count": null,
   "id": "33b4ea52-57df-4e1b-a227-4b23148fad09",
   "metadata": {},
   "outputs": [],
   "source": []
  }
 ],
 "metadata": {
  "kernelspec": {
   "display_name": "plot_python",
   "language": "python",
   "name": "plot_python"
  },
  "language_info": {
   "codemirror_mode": {
    "name": "ipython",
    "version": 3
   },
   "file_extension": ".py",
   "mimetype": "text/x-python",
   "name": "python",
   "nbconvert_exporter": "python",
   "pygments_lexer": "ipython3",
   "version": "3.9.17"
  }
 },
 "nbformat": 4,
 "nbformat_minor": 5
}
